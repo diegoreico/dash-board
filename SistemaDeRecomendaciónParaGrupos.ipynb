{
  "nbformat": 4,
  "nbformat_minor": 0,
  "metadata": {
    "colab": {
      "name": "SistemaDeRecomendaciónParaGrupos",
      "version": "0.3.2",
      "provenance": [],
      "collapsed_sections": [
        "ufMgj5frpQsR",
        "dOXXcIamdn_e"
      ],
      "toc_visible": true
    },
    "kernelspec": {
      "name": "python3",
      "display_name": "Python 3"
    }
  },
  "cells": [
    {
      "cell_type": "code",
      "metadata": {
        "id": "xySDBHaezXRy",
        "colab_type": "code",
        "outputId": "7d50a96d-ba00-42f3-aea5-1874c8b31184",
        "colab": {
          "base_uri": "https://localhost:8080/",
          "height": 457
        }
      },
      "source": [
        "%matplotlib inline\n",
        "\n",
        "!pip install pandas\n",
        "!pip install matplotlib\n",
        "!pip install seaborn\n",
        "\n",
        "import pandas as pd"
      ],
      "execution_count": 1,
      "outputs": [
        {
          "output_type": "stream",
          "text": [
            "Requirement already satisfied: pandas in /usr/local/lib/python3.6/dist-packages (0.24.2)\n",
            "Requirement already satisfied: pytz>=2011k in /usr/local/lib/python3.6/dist-packages (from pandas) (2018.9)\n",
            "Requirement already satisfied: python-dateutil>=2.5.0 in /usr/local/lib/python3.6/dist-packages (from pandas) (2.5.3)\n",
            "Requirement already satisfied: numpy>=1.12.0 in /usr/local/lib/python3.6/dist-packages (from pandas) (1.16.3)\n",
            "Requirement already satisfied: six>=1.5 in /usr/local/lib/python3.6/dist-packages (from python-dateutil>=2.5.0->pandas) (1.12.0)\n",
            "Requirement already satisfied: matplotlib in /usr/local/lib/python3.6/dist-packages (3.0.3)\n",
            "Requirement already satisfied: numpy>=1.10.0 in /usr/local/lib/python3.6/dist-packages (from matplotlib) (1.16.3)\n",
            "Requirement already satisfied: cycler>=0.10 in /usr/local/lib/python3.6/dist-packages (from matplotlib) (0.10.0)\n",
            "Requirement already satisfied: python-dateutil>=2.1 in /usr/local/lib/python3.6/dist-packages (from matplotlib) (2.5.3)\n",
            "Requirement already satisfied: pyparsing!=2.0.4,!=2.1.2,!=2.1.6,>=2.0.1 in /usr/local/lib/python3.6/dist-packages (from matplotlib) (2.4.0)\n",
            "Requirement already satisfied: kiwisolver>=1.0.1 in /usr/local/lib/python3.6/dist-packages (from matplotlib) (1.1.0)\n",
            "Requirement already satisfied: six in /usr/local/lib/python3.6/dist-packages (from cycler>=0.10->matplotlib) (1.12.0)\n",
            "Requirement already satisfied: setuptools in /usr/local/lib/python3.6/dist-packages (from kiwisolver>=1.0.1->matplotlib) (41.0.1)\n",
            "Requirement already satisfied: seaborn in /usr/local/lib/python3.6/dist-packages (0.9.0)\n",
            "Requirement already satisfied: pandas>=0.15.2 in /usr/local/lib/python3.6/dist-packages (from seaborn) (0.24.2)\n",
            "Requirement already satisfied: scipy>=0.14.0 in /usr/local/lib/python3.6/dist-packages (from seaborn) (1.3.0)\n",
            "Requirement already satisfied: numpy>=1.9.3 in /usr/local/lib/python3.6/dist-packages (from seaborn) (1.16.3)\n",
            "Requirement already satisfied: matplotlib>=1.4.3 in /usr/local/lib/python3.6/dist-packages (from seaborn) (3.0.3)\n",
            "Requirement already satisfied: python-dateutil>=2.5.0 in /usr/local/lib/python3.6/dist-packages (from pandas>=0.15.2->seaborn) (2.5.3)\n",
            "Requirement already satisfied: pytz>=2011k in /usr/local/lib/python3.6/dist-packages (from pandas>=0.15.2->seaborn) (2018.9)\n",
            "Requirement already satisfied: kiwisolver>=1.0.1 in /usr/local/lib/python3.6/dist-packages (from matplotlib>=1.4.3->seaborn) (1.1.0)\n",
            "Requirement already satisfied: cycler>=0.10 in /usr/local/lib/python3.6/dist-packages (from matplotlib>=1.4.3->seaborn) (0.10.0)\n",
            "Requirement already satisfied: pyparsing!=2.0.4,!=2.1.2,!=2.1.6,>=2.0.1 in /usr/local/lib/python3.6/dist-packages (from matplotlib>=1.4.3->seaborn) (2.4.0)\n",
            "Requirement already satisfied: six>=1.5 in /usr/local/lib/python3.6/dist-packages (from python-dateutil>=2.5.0->pandas>=0.15.2->seaborn) (1.12.0)\n",
            "Requirement already satisfied: setuptools in /usr/local/lib/python3.6/dist-packages (from kiwisolver>=1.0.1->matplotlib>=1.4.3->seaborn) (41.0.1)\n"
          ],
          "name": "stdout"
        }
      ]
    },
    {
      "cell_type": "markdown",
      "metadata": {
        "id": "LkuDXZ9f_8j9",
        "colab_type": "text"
      },
      "source": [
        "# Recomendation System for groups"
      ]
    },
    {
      "cell_type": "markdown",
      "metadata": {
        "id": "SV2GiW09__WQ",
        "colab_type": "text"
      },
      "source": [
        "## Dataset"
      ]
    },
    {
      "cell_type": "markdown",
      "metadata": {
        "id": "yAnD37lV0Ofq",
        "colab_type": "text"
      },
      "source": [
        "### Loading the dataset"
      ]
    },
    {
      "cell_type": "markdown",
      "metadata": {
        "id": "SRKQnLb-S1Cs",
        "colab_type": "text"
      },
      "source": [
        "Mounting your google drive account"
      ]
    },
    {
      "cell_type": "code",
      "metadata": {
        "id": "lSG6z8JQN3WS",
        "colab_type": "code",
        "outputId": "0b2d8fcd-01a9-4fbb-ed8f-9424ed4d8abe",
        "colab": {
          "base_uri": "https://localhost:8080/",
          "height": 121
        }
      },
      "source": [
        "from google.colab import drive\n",
        "drive.mount('/content/gdrive')"
      ],
      "execution_count": 2,
      "outputs": [
        {
          "output_type": "stream",
          "text": [
            "Go to this URL in a browser: https://accounts.google.com/o/oauth2/auth?client_id=947318989803-6bn6qk8qdgf4n4g3pfee6491hc0brc4i.apps.googleusercontent.com&redirect_uri=urn%3Aietf%3Awg%3Aoauth%3A2.0%3Aoob&scope=email%20https%3A%2F%2Fwww.googleapis.com%2Fauth%2Fdocs.test%20https%3A%2F%2Fwww.googleapis.com%2Fauth%2Fdrive%20https%3A%2F%2Fwww.googleapis.com%2Fauth%2Fdrive.photos.readonly%20https%3A%2F%2Fwww.googleapis.com%2Fauth%2Fpeopleapi.readonly&response_type=code\n",
            "\n",
            "Enter your authorization code:\n",
            "··········\n",
            "Mounted at /content/gdrive\n"
          ],
          "name": "stdout"
        }
      ]
    },
    {
      "cell_type": "code",
      "metadata": {
        "id": "-r1vo1NCw9QM",
        "colab_type": "code",
        "outputId": "0a4a888a-2731-4d3d-e66c-b30ef7c2293d",
        "colab": {
          "base_uri": "https://localhost:8080/",
          "height": 118
        }
      },
      "source": [
        "! cd \"gdrive/My Drive/datasets/movieLensSmall\" && ls -la "
      ],
      "execution_count": 3,
      "outputs": [
        {
          "output_type": "stream",
          "text": [
            "total 3227\n",
            "-rw------- 1 root root  197979 Oct  7  2018 links.csv\n",
            "-rw------- 1 root root  494431 Oct  7  2018 movies.csv\n",
            "-rw------- 1 root root 2483723 Oct  7  2018 ratings.csv\n",
            "-rw------- 1 root root    8342 Oct  7  2018 README.txt\n",
            "-rw------- 1 root root  118660 Oct  7  2018 tags.csv\n"
          ],
          "name": "stdout"
        }
      ]
    },
    {
      "cell_type": "code",
      "metadata": {
        "id": "H9TBdgfAx2Rc",
        "colab_type": "code",
        "outputId": "bb5ec065-06f1-4444-c8e1-99b2275eaadf",
        "colab": {
          "base_uri": "https://localhost:8080/",
          "height": 3847
        }
      },
      "source": [
        "!fold -w 80 -s \"gdrive/My Drive/datasets/movieLensSmall/README.txt\""
      ],
      "execution_count": 4,
      "outputs": [
        {
          "output_type": "stream",
          "text": [
            "Summary\n",
            "=======\n",
            "\n",
            "This dataset (ml-latest-small) describes 5-star rating and free-text tagging \n",
            "activity from [MovieLens](http://movielens.org), a movie recommendation \n",
            "service. It contains 100836 ratings and 3683 tag applications across 9742 \n",
            "movies. These data were created by 610 users between March 29, 1996 and \n",
            "September 24, 2018. This dataset was generated on September 26, 2018.\n",
            "\n",
            "Users were selected at random for inclusion. All selected users had rated at \n",
            "least 20 movies. No demographic information is included. Each user is \n",
            "represented by an id, and no other information is provided.\n",
            "\n",
            "The data are contained in the files `links.csv`, `movies.csv`, `ratings.csv` \n",
            "and `tags.csv`. More details about the contents and use of all these files \n",
            "follows.\n",
            "\n",
            "This is a *development* dataset. As such, it may change over time and is not an \n",
            "appropriate dataset for shared research results. See available *benchmark* \n",
            "datasets if that is your intent.\n",
            "\n",
            "This and other GroupLens data sets are publicly available for download at \n",
            "<http://grouplens.org/datasets/>.\n",
            "\n",
            "\n",
            "Usage License\n",
            "=============\n",
            "\n",
            "Neither the University of Minnesota nor any of the researchers involved can \n",
            "guarantee the correctness of the data, its suitability for any particular \n",
            "purpose, or the validity of results based on the use of the data set. The data \n",
            "set may be used for any research purposes under the following conditions:\n",
            "\n",
            "* The user may not state or imply any endorsement from the University of \n",
            "Minnesota or the GroupLens Research Group.\n",
            "* The user must acknowledge the use of the data set in publications resulting \n",
            "from the use of the data set (see below for citation information).\n",
            "* The user may redistribute the data set, including transformations, so long as \n",
            "it is distributed under these same license conditions.\n",
            "* The user may not use this information for any commercial or revenue-bearing \n",
            "purposes without first obtaining permission from a faculty member of the \n",
            "GroupLens Research Project at the University of Minnesota.\n",
            "* The executable software scripts are provided \"as is\" without warranty of any \n",
            "kind, either expressed or implied, including, but not limited to, the implied \n",
            "warranties of merchantability and fitness for a particular purpose. The entire \n",
            "risk as to the quality and performance of them is with you. Should the program \n",
            "prove defective, you assume the cost of all necessary servicing, repair or \n",
            "correction.\n",
            "\n",
            "In no event shall the University of Minnesota, its affiliates or employees be \n",
            "liable to you for any damages arising out of the use or inability to use these \n",
            "programs (including but not limited to loss of data or data being rendered \n",
            "inaccurate).\n",
            "\n",
            "If you have any further questions or comments, please email \n",
            "<grouplens-info@umn.edu>\n",
            "\n",
            "\n",
            "Citation\n",
            "========\n",
            "\n",
            "To acknowledge use of the dataset in publications, please cite the following \n",
            "paper:\n",
            "\n",
            "> F. Maxwell Harper and Joseph A. Konstan. 2015. The MovieLens Datasets: \n",
            "History and Context. ACM Transactions on Interactive Intelligent Systems (TiiS) \n",
            "5, 4: 19:1–19:19. <https://doi.org/10.1145/2827872>\n",
            "\n",
            "\n",
            "Further Information About GroupLens\n",
            "===================================\n",
            "\n",
            "GroupLens is a research group in the Department of Computer Science and \n",
            "Engineering at the University of Minnesota. Since its inception in 1992, \n",
            "GroupLens's research projects have explored a variety of fields including:\n",
            "\n",
            "* recommender systems\n",
            "* online communities\n",
            "* mobile and ubiquitious technologies\n",
            "* digital libraries\n",
            "* local geographic information systems\n",
            "\n",
            "GroupLens Research operates a movie recommender based on collaborative \n",
            "filtering, MovieLens, which is the source of these data. We encourage you to \n",
            "visit <http://movielens.org> to try it out! If you have exciting ideas for \n",
            "experimental work to conduct on MovieLens, send us an email at \n",
            "<grouplens-info@cs.umn.edu> - we are always interested in working with external \n",
            "collaborators.\n",
            "\n",
            "\n",
            "Content and Use of Files\n",
            "========================\n",
            "\n",
            "Formatting and Encoding\n",
            "-----------------------\n",
            "\n",
            "The dataset files are written as [comma-separated \n",
            "values](http://en.wikipedia.org/wiki/Comma-separated_values) files with a \n",
            "single header row. Columns that contain commas (`,`) are escaped using \n",
            "double-quotes (`\"`). These files are encoded as UTF-8. If accented characters \n",
            "in movie titles or tag values (e.g. Misérables, Les (1995)) display \n",
            "incorrectly, make sure that any program reading the data, such as a text \n",
            "editor, terminal, or script, is configured for UTF-8.\n",
            "\n",
            "\n",
            "User Ids\n",
            "--------\n",
            "\n",
            "MovieLens users were selected at random for inclusion. Their ids have been \n",
            "anonymized. User ids are consistent between `ratings.csv` and `tags.csv` (i.e., \n",
            "the same id refers to the same user across the two files).\n",
            "\n",
            "\n",
            "Movie Ids\n",
            "---------\n",
            "\n",
            "Only movies with at least one rating or tag are included in the dataset. These \n",
            "movie ids are consistent with those used on the MovieLens web site (e.g., id \n",
            "`1` corresponds to the URL <https://movielens.org/movies/1>). Movie ids are \n",
            "consistent between `ratings.csv`, `tags.csv`, `movies.csv`, and `links.csv` \n",
            "(i.e., the same id refers to the same movie across these four data files).\n",
            "\n",
            "\n",
            "Ratings Data File Structure (ratings.csv)\n",
            "-----------------------------------------\n",
            "\n",
            "All ratings are contained in the file `ratings.csv`. Each line of this file \n",
            "after the header row represents one rating of one movie by one user, and has \n",
            "the following format:\n",
            "\n",
            "    userId,movieId,rating,timestamp\n",
            "\n",
            "The lines within this file are ordered first by userId, then, within user, by \n",
            "movieId.\n",
            "\n",
            "Ratings are made on a 5-star scale, with half-star increments (0.5 stars - 5.0 \n",
            "stars).\n",
            "\n",
            "Timestamps represent seconds since midnight Coordinated Universal Time (UTC) of \n",
            "January 1, 1970.\n",
            "\n",
            "\n",
            "Tags Data File Structure (tags.csv)\n",
            "-----------------------------------\n",
            "\n",
            "All tags are contained in the file `tags.csv`. Each line of this file after the \n",
            "header row represents one tag applied to one movie by one user, and has the \n",
            "following format:\n",
            "\n",
            "    userId,movieId,tag,timestamp\n",
            "\n",
            "The lines within this file are ordered first by userId, then, within user, by \n",
            "movieId.\n",
            "\n",
            "Tags are user-generated metadata about movies. Each tag is typically a single \n",
            "word or short phrase. The meaning, value, and purpose of a particular tag is \n",
            "determined by each user.\n",
            "\n",
            "Timestamps represent seconds since midnight Coordinated Universal Time (UTC) of \n",
            "January 1, 1970.\n",
            "\n",
            "\n",
            "Movies Data File Structure (movies.csv)\n",
            "---------------------------------------\n",
            "\n",
            "Movie information is contained in the file `movies.csv`. Each line of this file \n",
            "after the header row represents one movie, and has the following format:\n",
            "\n",
            "    movieId,title,genres\n",
            "\n",
            "Movie titles are entered manually or imported from \n",
            "<https://www.themoviedb.org/>, and include the year of release in parentheses. \n",
            "Errors and inconsistencies may exist in these titles.\n",
            "\n",
            "Genres are a pipe-separated list, and are selected from the following:\n",
            "\n",
            "* Action\n",
            "* Adventure\n",
            "* Animation\n",
            "* Children's\n",
            "* Comedy\n",
            "* Crime\n",
            "* Documentary\n",
            "* Drama\n",
            "* Fantasy\n",
            "* Film-Noir\n",
            "* Horror\n",
            "* Musical\n",
            "* Mystery\n",
            "* Romance\n",
            "* Sci-Fi\n",
            "* Thriller\n",
            "* War\n",
            "* Western\n",
            "* (no genres listed)\n",
            "\n",
            "\n",
            "Links Data File Structure (links.csv)\n",
            "---------------------------------------\n",
            "\n",
            "Identifiers that can be used to link to other sources of movie data are \n",
            "contained in the file `links.csv`. Each line of this file after the header row \n",
            "represents one movie, and has the following format:\n",
            "\n",
            "    movieId,imdbId,tmdbId\n",
            "\n",
            "movieId is an identifier for movies used by <https://movielens.org>. E.g., the \n",
            "movie Toy Story has the link <https://movielens.org/movies/1>.\n",
            "\n",
            "imdbId is an identifier for movies used by <http://www.imdb.com>. E.g., the \n",
            "movie Toy Story has the link <http://www.imdb.com/title/tt0114709/>.\n",
            "\n",
            "tmdbId is an identifier for movies used by <https://www.themoviedb.org>. E.g., \n",
            "the movie Toy Story has the link <https://www.themoviedb.org/movie/862>.\n",
            "\n",
            "Use of the resources listed above is subject to the terms of each provider.\n",
            "\n",
            "\n",
            "Cross-Validation\n",
            "----------------\n",
            "\n",
            "Prior versions of the MovieLens dataset included either pre-computed \n",
            "cross-folds or scripts to perform this computation. We no longer bundle either \n",
            "of these features with the dataset, since most modern toolkits provide this as \n",
            "a built-in feature. If you wish to learn about standard approaches to \n",
            "cross-fold computation in the context of recommender systems evaluation, see \n",
            "[LensKit](http://lenskit.org) for tools, documentation, and open-source code \n",
            "examples.\n"
          ],
          "name": "stdout"
        }
      ]
    },
    {
      "cell_type": "code",
      "metadata": {
        "id": "8x0k5EIPNxlA",
        "colab_type": "code",
        "outputId": "7007a403-89d2-45d9-fe09-cd04c2b8cdb7",
        "colab": {
          "base_uri": "https://localhost:8080/",
          "height": 84
        }
      },
      "source": [
        "!wc -l \"gdrive/My Drive/datasets/movieLensSmall/links.csv\"\n",
        "!wc -l \"gdrive/My Drive/datasets/movieLensSmall/movies.csv\"\n",
        "!wc -l \"gdrive/My Drive/datasets/movieLensSmall/ratings.csv\"\n",
        "!wc -l \"gdrive/My Drive/datasets/movieLensSmall/tags.csv\""
      ],
      "execution_count": 5,
      "outputs": [
        {
          "output_type": "stream",
          "text": [
            "9743 gdrive/My Drive/datasets/movieLensSmall/links.csv\n",
            "9743 gdrive/My Drive/datasets/movieLensSmall/movies.csv\n",
            "100837 gdrive/My Drive/datasets/movieLensSmall/ratings.csv\n",
            "3684 gdrive/My Drive/datasets/movieLensSmall/tags.csv\n"
          ],
          "name": "stdout"
        }
      ]
    },
    {
      "cell_type": "code",
      "metadata": {
        "id": "6I8mwr-Bgj-K",
        "colab_type": "code",
        "outputId": "754a6eb9-0e15-4e0f-a8bc-2af8f916a794",
        "colab": {
          "base_uri": "https://localhost:8080/",
          "height": 101
        }
      },
      "source": [
        "!head -n5 \"gdrive/My Drive/datasets/movieLensSmall/links.csv\""
      ],
      "execution_count": 6,
      "outputs": [
        {
          "output_type": "stream",
          "text": [
            "movieId,imdbId,tmdbId\r\n",
            "1,0114709,862\r\n",
            "2,0113497,8844\r\n",
            "3,0113228,15602\r\n",
            "4,0114885,31357\r\n"
          ],
          "name": "stdout"
        }
      ]
    },
    {
      "cell_type": "code",
      "metadata": {
        "id": "s7lY7WJGgqYE",
        "colab_type": "code",
        "outputId": "23fa24ca-69c6-4dc6-a3e7-8ce513284163",
        "colab": {
          "base_uri": "https://localhost:8080/",
          "height": 101
        }
      },
      "source": [
        "!head -n5 \"gdrive/My Drive/datasets/movieLensSmall/movies.csv\""
      ],
      "execution_count": 7,
      "outputs": [
        {
          "output_type": "stream",
          "text": [
            "movieId,title,genres\r\n",
            "1,Toy Story (1995),Adventure|Animation|Children|Comedy|Fantasy\r\n",
            "2,Jumanji (1995),Adventure|Children|Fantasy\r\n",
            "3,Grumpier Old Men (1995),Comedy|Romance\r\n",
            "4,Waiting to Exhale (1995),Comedy|Drama|Romance\r\n"
          ],
          "name": "stdout"
        }
      ]
    },
    {
      "cell_type": "code",
      "metadata": {
        "id": "cV3Xjn4igqMM",
        "colab_type": "code",
        "outputId": "6ec6db59-8e28-499b-9bdf-9c266ff8d09e",
        "colab": {
          "base_uri": "https://localhost:8080/",
          "height": 101
        }
      },
      "source": [
        "!head -n5 \"gdrive/My Drive/datasets/movieLensSmall/ratings.csv\""
      ],
      "execution_count": 8,
      "outputs": [
        {
          "output_type": "stream",
          "text": [
            "userId,movieId,rating,timestamp\r\n",
            "1,1,4.0,964982703\r\n",
            "1,3,4.0,964981247\r\n",
            "1,6,4.0,964982224\r\n",
            "1,47,5.0,964983815\r\n"
          ],
          "name": "stdout"
        }
      ]
    },
    {
      "cell_type": "code",
      "metadata": {
        "id": "5W090W7M2aom",
        "colab_type": "code",
        "outputId": "af847356-8f10-44a2-ad6e-3ca63601a34d",
        "colab": {
          "base_uri": "https://localhost:8080/",
          "height": 101
        }
      },
      "source": [
        "!head -n5 \"gdrive/My Drive/datasets/movieLensSmall/tags.csv\""
      ],
      "execution_count": 9,
      "outputs": [
        {
          "output_type": "stream",
          "text": [
            "userId,movieId,tag,timestamp\r\n",
            "2,60756,funny,1445714994\r\n",
            "2,60756,Highly quotable,1445714996\r\n",
            "2,60756,will ferrell,1445714992\r\n",
            "2,89774,Boxing story,1445715207\r\n"
          ],
          "name": "stdout"
        }
      ]
    },
    {
      "cell_type": "markdown",
      "metadata": {
        "id": "imISBv9o0R0G",
        "colab_type": "text"
      },
      "source": [
        "### Dataset exploration"
      ]
    },
    {
      "cell_type": "markdown",
      "metadata": {
        "id": "MQaIP2wS0cdc",
        "colab_type": "text"
      },
      "source": [
        "Loading dependencies"
      ]
    },
    {
      "cell_type": "code",
      "metadata": {
        "id": "sBIveZfdzrqO",
        "colab_type": "code",
        "colab": {}
      },
      "source": [
        "filepath_links = 'gdrive/My Drive/datasets/movieLensSmall/links.csv'\n",
        "filepath_movies = 'gdrive/My Drive/datasets/movieLensSmall/movies.csv'\n",
        "filepath_ratings = 'gdrive/My Drive/datasets/movieLensSmall/ratings.csv'\n",
        "filepath_tags = 'gdrive/My Drive/datasets/movieLensSmall/tags.csv'"
      ],
      "execution_count": 0,
      "outputs": []
    },
    {
      "cell_type": "code",
      "metadata": {
        "id": "2ib3G4TyGf8B",
        "colab_type": "code",
        "outputId": "6a6d2c61-55bd-4ac9-e926-4b2dde84645e",
        "colab": {
          "base_uri": "https://localhost:8080/",
          "height": 284
        }
      },
      "source": [
        "df_links = pd.read_csv(filepath_links)\n",
        "df_links.head(10)\n",
        "df_links.describe()"
      ],
      "execution_count": 11,
      "outputs": [
        {
          "output_type": "execute_result",
          "data": {
            "text/html": [
              "<div>\n",
              "<style scoped>\n",
              "    .dataframe tbody tr th:only-of-type {\n",
              "        vertical-align: middle;\n",
              "    }\n",
              "\n",
              "    .dataframe tbody tr th {\n",
              "        vertical-align: top;\n",
              "    }\n",
              "\n",
              "    .dataframe thead th {\n",
              "        text-align: right;\n",
              "    }\n",
              "</style>\n",
              "<table border=\"1\" class=\"dataframe\">\n",
              "  <thead>\n",
              "    <tr style=\"text-align: right;\">\n",
              "      <th></th>\n",
              "      <th>movieId</th>\n",
              "      <th>imdbId</th>\n",
              "      <th>tmdbId</th>\n",
              "    </tr>\n",
              "  </thead>\n",
              "  <tbody>\n",
              "    <tr>\n",
              "      <th>count</th>\n",
              "      <td>9742.000000</td>\n",
              "      <td>9.742000e+03</td>\n",
              "      <td>9734.000000</td>\n",
              "    </tr>\n",
              "    <tr>\n",
              "      <th>mean</th>\n",
              "      <td>42200.353623</td>\n",
              "      <td>6.771839e+05</td>\n",
              "      <td>55162.123793</td>\n",
              "    </tr>\n",
              "    <tr>\n",
              "      <th>std</th>\n",
              "      <td>52160.494854</td>\n",
              "      <td>1.107228e+06</td>\n",
              "      <td>93653.481487</td>\n",
              "    </tr>\n",
              "    <tr>\n",
              "      <th>min</th>\n",
              "      <td>1.000000</td>\n",
              "      <td>4.170000e+02</td>\n",
              "      <td>2.000000</td>\n",
              "    </tr>\n",
              "    <tr>\n",
              "      <th>25%</th>\n",
              "      <td>3248.250000</td>\n",
              "      <td>9.518075e+04</td>\n",
              "      <td>9665.500000</td>\n",
              "    </tr>\n",
              "    <tr>\n",
              "      <th>50%</th>\n",
              "      <td>7300.000000</td>\n",
              "      <td>1.672605e+05</td>\n",
              "      <td>16529.000000</td>\n",
              "    </tr>\n",
              "    <tr>\n",
              "      <th>75%</th>\n",
              "      <td>76232.000000</td>\n",
              "      <td>8.055685e+05</td>\n",
              "      <td>44205.750000</td>\n",
              "    </tr>\n",
              "    <tr>\n",
              "      <th>max</th>\n",
              "      <td>193609.000000</td>\n",
              "      <td>8.391976e+06</td>\n",
              "      <td>525662.000000</td>\n",
              "    </tr>\n",
              "  </tbody>\n",
              "</table>\n",
              "</div>"
            ],
            "text/plain": [
              "             movieId        imdbId         tmdbId\n",
              "count    9742.000000  9.742000e+03    9734.000000\n",
              "mean    42200.353623  6.771839e+05   55162.123793\n",
              "std     52160.494854  1.107228e+06   93653.481487\n",
              "min         1.000000  4.170000e+02       2.000000\n",
              "25%      3248.250000  9.518075e+04    9665.500000\n",
              "50%      7300.000000  1.672605e+05   16529.000000\n",
              "75%     76232.000000  8.055685e+05   44205.750000\n",
              "max    193609.000000  8.391976e+06  525662.000000"
            ]
          },
          "metadata": {
            "tags": []
          },
          "execution_count": 11
        }
      ]
    },
    {
      "cell_type": "code",
      "metadata": {
        "id": "o6YfT7z4GfMJ",
        "colab_type": "code",
        "outputId": "426e9ca0-9399-408d-d3ed-14b994f4be5f",
        "colab": {
          "base_uri": "https://localhost:8080/",
          "height": 343
        }
      },
      "source": [
        "df_movies =  pd.read_csv(filepath_movies)\n",
        "df_movies.head(10)"
      ],
      "execution_count": 12,
      "outputs": [
        {
          "output_type": "execute_result",
          "data": {
            "text/html": [
              "<div>\n",
              "<style scoped>\n",
              "    .dataframe tbody tr th:only-of-type {\n",
              "        vertical-align: middle;\n",
              "    }\n",
              "\n",
              "    .dataframe tbody tr th {\n",
              "        vertical-align: top;\n",
              "    }\n",
              "\n",
              "    .dataframe thead th {\n",
              "        text-align: right;\n",
              "    }\n",
              "</style>\n",
              "<table border=\"1\" class=\"dataframe\">\n",
              "  <thead>\n",
              "    <tr style=\"text-align: right;\">\n",
              "      <th></th>\n",
              "      <th>movieId</th>\n",
              "      <th>title</th>\n",
              "      <th>genres</th>\n",
              "    </tr>\n",
              "  </thead>\n",
              "  <tbody>\n",
              "    <tr>\n",
              "      <th>0</th>\n",
              "      <td>1</td>\n",
              "      <td>Toy Story (1995)</td>\n",
              "      <td>Adventure|Animation|Children|Comedy|Fantasy</td>\n",
              "    </tr>\n",
              "    <tr>\n",
              "      <th>1</th>\n",
              "      <td>2</td>\n",
              "      <td>Jumanji (1995)</td>\n",
              "      <td>Adventure|Children|Fantasy</td>\n",
              "    </tr>\n",
              "    <tr>\n",
              "      <th>2</th>\n",
              "      <td>3</td>\n",
              "      <td>Grumpier Old Men (1995)</td>\n",
              "      <td>Comedy|Romance</td>\n",
              "    </tr>\n",
              "    <tr>\n",
              "      <th>3</th>\n",
              "      <td>4</td>\n",
              "      <td>Waiting to Exhale (1995)</td>\n",
              "      <td>Comedy|Drama|Romance</td>\n",
              "    </tr>\n",
              "    <tr>\n",
              "      <th>4</th>\n",
              "      <td>5</td>\n",
              "      <td>Father of the Bride Part II (1995)</td>\n",
              "      <td>Comedy</td>\n",
              "    </tr>\n",
              "    <tr>\n",
              "      <th>5</th>\n",
              "      <td>6</td>\n",
              "      <td>Heat (1995)</td>\n",
              "      <td>Action|Crime|Thriller</td>\n",
              "    </tr>\n",
              "    <tr>\n",
              "      <th>6</th>\n",
              "      <td>7</td>\n",
              "      <td>Sabrina (1995)</td>\n",
              "      <td>Comedy|Romance</td>\n",
              "    </tr>\n",
              "    <tr>\n",
              "      <th>7</th>\n",
              "      <td>8</td>\n",
              "      <td>Tom and Huck (1995)</td>\n",
              "      <td>Adventure|Children</td>\n",
              "    </tr>\n",
              "    <tr>\n",
              "      <th>8</th>\n",
              "      <td>9</td>\n",
              "      <td>Sudden Death (1995)</td>\n",
              "      <td>Action</td>\n",
              "    </tr>\n",
              "    <tr>\n",
              "      <th>9</th>\n",
              "      <td>10</td>\n",
              "      <td>GoldenEye (1995)</td>\n",
              "      <td>Action|Adventure|Thriller</td>\n",
              "    </tr>\n",
              "  </tbody>\n",
              "</table>\n",
              "</div>"
            ],
            "text/plain": [
              "   movieId  ...                                       genres\n",
              "0        1  ...  Adventure|Animation|Children|Comedy|Fantasy\n",
              "1        2  ...                   Adventure|Children|Fantasy\n",
              "2        3  ...                               Comedy|Romance\n",
              "3        4  ...                         Comedy|Drama|Romance\n",
              "4        5  ...                                       Comedy\n",
              "5        6  ...                        Action|Crime|Thriller\n",
              "6        7  ...                               Comedy|Romance\n",
              "7        8  ...                           Adventure|Children\n",
              "8        9  ...                                       Action\n",
              "9       10  ...                    Action|Adventure|Thriller\n",
              "\n",
              "[10 rows x 3 columns]"
            ]
          },
          "metadata": {
            "tags": []
          },
          "execution_count": 12
        }
      ]
    },
    {
      "cell_type": "markdown",
      "metadata": {
        "id": "XNG2m-ctS1YD",
        "colab_type": "text"
      },
      "source": [
        "Se puede observar que la columna que contien el título de la película, también contiene el año en el que esta ha sido lanzada, así que mejor vamos a separar esta información en dos columnas separadas"
      ]
    },
    {
      "cell_type": "code",
      "metadata": {
        "id": "Ma0nI5ZISzUU",
        "colab_type": "code",
        "outputId": "306c203f-06df-484b-d10d-efe43411aee1",
        "colab": {
          "base_uri": "https://localhost:8080/",
          "height": 67
        }
      },
      "source": [
        "df_movies['has_year'] = df_movies['title'].apply(lambda x: \"(\" in x)\n",
        "df_movies['has_year'].value_counts()"
      ],
      "execution_count": 13,
      "outputs": [
        {
          "output_type": "execute_result",
          "data": {
            "text/plain": [
              "True     9730\n",
              "False      12\n",
              "Name: has_year, dtype: int64"
            ]
          },
          "metadata": {
            "tags": []
          },
          "execution_count": 13
        }
      ]
    },
    {
      "cell_type": "markdown",
      "metadata": {
        "id": "0W5LAkGnVNeh",
        "colab_type": "text"
      },
      "source": [
        "Parece que hay películas que no contienen la fecha en el título"
      ]
    },
    {
      "cell_type": "code",
      "metadata": {
        "id": "xutkYz0RVRjf",
        "colab_type": "code",
        "outputId": "cfcfeaeb-89a8-4ade-f004-e40251241e19",
        "colab": {
          "base_uri": "https://localhost:8080/",
          "height": 402
        }
      },
      "source": [
        "df_movies[df_movies['has_year'] == False]"
      ],
      "execution_count": 14,
      "outputs": [
        {
          "output_type": "execute_result",
          "data": {
            "text/html": [
              "<div>\n",
              "<style scoped>\n",
              "    .dataframe tbody tr th:only-of-type {\n",
              "        vertical-align: middle;\n",
              "    }\n",
              "\n",
              "    .dataframe tbody tr th {\n",
              "        vertical-align: top;\n",
              "    }\n",
              "\n",
              "    .dataframe thead th {\n",
              "        text-align: right;\n",
              "    }\n",
              "</style>\n",
              "<table border=\"1\" class=\"dataframe\">\n",
              "  <thead>\n",
              "    <tr style=\"text-align: right;\">\n",
              "      <th></th>\n",
              "      <th>movieId</th>\n",
              "      <th>title</th>\n",
              "      <th>genres</th>\n",
              "      <th>has_year</th>\n",
              "    </tr>\n",
              "  </thead>\n",
              "  <tbody>\n",
              "    <tr>\n",
              "      <th>6059</th>\n",
              "      <td>40697</td>\n",
              "      <td>Babylon 5</td>\n",
              "      <td>Sci-Fi</td>\n",
              "      <td>False</td>\n",
              "    </tr>\n",
              "    <tr>\n",
              "      <th>9031</th>\n",
              "      <td>140956</td>\n",
              "      <td>Ready Player One</td>\n",
              "      <td>Action|Sci-Fi|Thriller</td>\n",
              "      <td>False</td>\n",
              "    </tr>\n",
              "    <tr>\n",
              "      <th>9091</th>\n",
              "      <td>143410</td>\n",
              "      <td>Hyena Road</td>\n",
              "      <td>(no genres listed)</td>\n",
              "      <td>False</td>\n",
              "    </tr>\n",
              "    <tr>\n",
              "      <th>9138</th>\n",
              "      <td>147250</td>\n",
              "      <td>The Adventures of Sherlock Holmes and Doctor W...</td>\n",
              "      <td>(no genres listed)</td>\n",
              "      <td>False</td>\n",
              "    </tr>\n",
              "    <tr>\n",
              "      <th>9179</th>\n",
              "      <td>149334</td>\n",
              "      <td>Nocturnal Animals</td>\n",
              "      <td>Drama|Thriller</td>\n",
              "      <td>False</td>\n",
              "    </tr>\n",
              "    <tr>\n",
              "      <th>9259</th>\n",
              "      <td>156605</td>\n",
              "      <td>Paterson</td>\n",
              "      <td>(no genres listed)</td>\n",
              "      <td>False</td>\n",
              "    </tr>\n",
              "    <tr>\n",
              "      <th>9367</th>\n",
              "      <td>162414</td>\n",
              "      <td>Moonlight</td>\n",
              "      <td>Drama</td>\n",
              "      <td>False</td>\n",
              "    </tr>\n",
              "    <tr>\n",
              "      <th>9448</th>\n",
              "      <td>167570</td>\n",
              "      <td>The OA</td>\n",
              "      <td>(no genres listed)</td>\n",
              "      <td>False</td>\n",
              "    </tr>\n",
              "    <tr>\n",
              "      <th>9514</th>\n",
              "      <td>171495</td>\n",
              "      <td>Cosmos</td>\n",
              "      <td>(no genres listed)</td>\n",
              "      <td>False</td>\n",
              "    </tr>\n",
              "    <tr>\n",
              "      <th>9515</th>\n",
              "      <td>171631</td>\n",
              "      <td>Maria Bamford: Old Baby</td>\n",
              "      <td>(no genres listed)</td>\n",
              "      <td>False</td>\n",
              "    </tr>\n",
              "    <tr>\n",
              "      <th>9525</th>\n",
              "      <td>171891</td>\n",
              "      <td>Generation Iron 2</td>\n",
              "      <td>(no genres listed)</td>\n",
              "      <td>False</td>\n",
              "    </tr>\n",
              "    <tr>\n",
              "      <th>9611</th>\n",
              "      <td>176601</td>\n",
              "      <td>Black Mirror</td>\n",
              "      <td>(no genres listed)</td>\n",
              "      <td>False</td>\n",
              "    </tr>\n",
              "  </tbody>\n",
              "</table>\n",
              "</div>"
            ],
            "text/plain": [
              "      movieId  ... has_year\n",
              "6059    40697  ...    False\n",
              "9031   140956  ...    False\n",
              "9091   143410  ...    False\n",
              "9138   147250  ...    False\n",
              "9179   149334  ...    False\n",
              "9259   156605  ...    False\n",
              "9367   162414  ...    False\n",
              "9448   167570  ...    False\n",
              "9514   171495  ...    False\n",
              "9515   171631  ...    False\n",
              "9525   171891  ...    False\n",
              "9611   176601  ...    False\n",
              "\n",
              "[12 rows x 4 columns]"
            ]
          },
          "metadata": {
            "tags": []
          },
          "execution_count": 14
        }
      ]
    },
    {
      "cell_type": "markdown",
      "metadata": {
        "id": "z0S2Ds1nP7Hz",
        "colab_type": "text"
      },
      "source": [
        "Parece que la columna de géneros siempre tiene los generos ordenados por categoría para cada entrada, así que vamos ver que agrupación son las más frecuentes"
      ]
    },
    {
      "cell_type": "code",
      "metadata": {
        "id": "MAQRnuStQGDW",
        "colab_type": "code",
        "outputId": "8c07c466-96b4-4e84-cafd-e4bd9ca9a301",
        "colab": {
          "base_uri": "https://localhost:8080/",
          "height": 1058
        }
      },
      "source": [
        "df_movies['genres'].value_counts()"
      ],
      "execution_count": 15,
      "outputs": [
        {
          "output_type": "execute_result",
          "data": {
            "text/plain": [
              "Drama                                             1053\n",
              "Comedy                                             946\n",
              "Comedy|Drama                                       435\n",
              "Comedy|Romance                                     363\n",
              "Drama|Romance                                      349\n",
              "Documentary                                        339\n",
              "Comedy|Drama|Romance                               276\n",
              "Drama|Thriller                                     168\n",
              "Horror                                             167\n",
              "Horror|Thriller                                    135\n",
              "Crime|Drama                                        134\n",
              "Crime|Drama|Thriller                               125\n",
              "Drama|War                                          114\n",
              "Comedy|Crime                                       101\n",
              "Action|Comedy                                       92\n",
              "Thriller                                            84\n",
              "Children|Comedy                                     74\n",
              "Comedy|Horror                                       69\n",
              "Action|Adventure|Sci-Fi                             66\n",
              "Action|Crime|Thriller                               66\n",
              "Action|Drama                                        62\n",
              "Action|Crime|Drama|Thriller                         61\n",
              "Action                                              60\n",
              "Action|Thriller                                     60\n",
              "Horror|Sci-Fi                                       53\n",
              "Action|Crime|Drama                                  50\n",
              "Crime|Thriller                                      45\n",
              "Drama|Musical                                       44\n",
              "Action|Sci-Fi|Thriller                              43\n",
              "Action|Drama|Thriller                               43\n",
              "                                                  ... \n",
              "Action|Adventure|Sci-Fi|War|IMAX                     1\n",
              "Comedy|Documentary|Drama|Romance                     1\n",
              "Action|Adventure|Mystery|Romance|Thriller            1\n",
              "Action|Fantasy|Thriller|IMAX                         1\n",
              "Crime|Drama|Film-Noir|Romance|Thriller               1\n",
              "Adventure|Crime|Drama|Thriller                       1\n",
              "Action|Adventure|Crime|Horror|Thriller               1\n",
              "Adventure|Romance|Thriller                           1\n",
              "Crime|Horror|Sci-Fi                                  1\n",
              "Action|Animation|Children|Comedy|IMAX                1\n",
              "Children|Drama|War                                   1\n",
              "Adventure|Documentary|Western                        1\n",
              "Action|Comedy|Sci-Fi|Western                         1\n",
              "Children|Musical|Mystery                             1\n",
              "Adventure|Animation|Children|Western                 1\n",
              "Adventure|Fantasy|Romance|Sci-Fi|Thriller            1\n",
              "Adventure|Children|Comedy|Drama|Fantasy|Sci-Fi       1\n",
              "Action|Animation|Children|Comedy|Sci-Fi|IMAX         1\n",
              "Adventure|Comedy|Fantasy|Romance                     1\n",
              "Comedy|Crime|Drama|Fantasy                           1\n",
              "Animation|Children|Comedy|Musical|Romance            1\n",
              "Comedy|Crime|Sci-Fi                                  1\n",
              "Adventure|Animation|Fantasy|Romance                  1\n",
              "Comedy|Documentary|Romance                           1\n",
              "Adventure|Comedy|Crime|Thriller                      1\n",
              "Animation|Comedy|Fantasy|Musical|Romance             1\n",
              "Adventure|Animation|Comedy|Fantasy|IMAX              1\n",
              "Drama|Musical|Mystery                                1\n",
              "Adventure|Romance|Sci-Fi|IMAX                        1\n",
              "Animation|Children|Comedy|Fantasy|Musical            1\n",
              "Name: genres, Length: 951, dtype: int64"
            ]
          },
          "metadata": {
            "tags": []
          },
          "execution_count": 15
        }
      ]
    },
    {
      "cell_type": "markdown",
      "metadata": {
        "id": "fIYdj_6nQlHt",
        "colab_type": "text"
      },
      "source": [
        "si probamos a representalo"
      ]
    },
    {
      "cell_type": "code",
      "metadata": {
        "id": "5oYWCdb1Qn97",
        "colab_type": "code",
        "outputId": "0a2602bd-308d-40cc-f258-fd410c46792e",
        "colab": {
          "base_uri": "https://localhost:8080/",
          "height": 404
        }
      },
      "source": [
        "df_movies['genres'].value_counts()[:20].plot(kind='bar')"
      ],
      "execution_count": 16,
      "outputs": [
        {
          "output_type": "execute_result",
          "data": {
            "text/plain": [
              "<matplotlib.axes._subplots.AxesSubplot at 0x7fa0577121d0>"
            ]
          },
          "metadata": {
            "tags": []
          },
          "execution_count": 16
        },
        {
          "output_type": "display_data",
          "data": {
            "image/png": "[encoded data removed]",
            "text/plain": [
              "<Figure size 432x288 with 1 Axes>"
            ]
          },
          "metadata": {
            "tags": []
          }
        }
      ]
    },
    {
      "cell_type": "code",
      "metadata": {
        "id": "4Ah3HsVoPHKZ",
        "colab_type": "code",
        "outputId": "93eddfd5-e562-4cca-da88-9c63cfbf3088",
        "colab": {
          "base_uri": "https://localhost:8080/",
          "height": 284
        }
      },
      "source": [
        "df_movies.describe()"
      ],
      "execution_count": 17,
      "outputs": [
        {
          "output_type": "execute_result",
          "data": {
            "text/html": [
              "<div>\n",
              "<style scoped>\n",
              "    .dataframe tbody tr th:only-of-type {\n",
              "        vertical-align: middle;\n",
              "    }\n",
              "\n",
              "    .dataframe tbody tr th {\n",
              "        vertical-align: top;\n",
              "    }\n",
              "\n",
              "    .dataframe thead th {\n",
              "        text-align: right;\n",
              "    }\n",
              "</style>\n",
              "<table border=\"1\" class=\"dataframe\">\n",
              "  <thead>\n",
              "    <tr style=\"text-align: right;\">\n",
              "      <th></th>\n",
              "      <th>movieId</th>\n",
              "    </tr>\n",
              "  </thead>\n",
              "  <tbody>\n",
              "    <tr>\n",
              "      <th>count</th>\n",
              "      <td>9742.000000</td>\n",
              "    </tr>\n",
              "    <tr>\n",
              "      <th>mean</th>\n",
              "      <td>42200.353623</td>\n",
              "    </tr>\n",
              "    <tr>\n",
              "      <th>std</th>\n",
              "      <td>52160.494854</td>\n",
              "    </tr>\n",
              "    <tr>\n",
              "      <th>min</th>\n",
              "      <td>1.000000</td>\n",
              "    </tr>\n",
              "    <tr>\n",
              "      <th>25%</th>\n",
              "      <td>3248.250000</td>\n",
              "    </tr>\n",
              "    <tr>\n",
              "      <th>50%</th>\n",
              "      <td>7300.000000</td>\n",
              "    </tr>\n",
              "    <tr>\n",
              "      <th>75%</th>\n",
              "      <td>76232.000000</td>\n",
              "    </tr>\n",
              "    <tr>\n",
              "      <th>max</th>\n",
              "      <td>193609.000000</td>\n",
              "    </tr>\n",
              "  </tbody>\n",
              "</table>\n",
              "</div>"
            ],
            "text/plain": [
              "             movieId\n",
              "count    9742.000000\n",
              "mean    42200.353623\n",
              "std     52160.494854\n",
              "min         1.000000\n",
              "25%      3248.250000\n",
              "50%      7300.000000\n",
              "75%     76232.000000\n",
              "max    193609.000000"
            ]
          },
          "metadata": {
            "tags": []
          },
          "execution_count": 17
        }
      ]
    },
    {
      "cell_type": "code",
      "metadata": {
        "id": "8TMylBYXGhZr",
        "colab_type": "code",
        "outputId": "f1098468-45b1-4dd0-902e-c60830b6a40b",
        "colab": {
          "base_uri": "https://localhost:8080/",
          "height": 343
        }
      },
      "source": [
        "df_ratings = pd.read_csv(filepath_ratings)\n",
        "df_ratings.head(10)"
      ],
      "execution_count": 18,
      "outputs": [
        {
          "output_type": "execute_result",
          "data": {
            "text/html": [
              "<div>\n",
              "<style scoped>\n",
              "    .dataframe tbody tr th:only-of-type {\n",
              "        vertical-align: middle;\n",
              "    }\n",
              "\n",
              "    .dataframe tbody tr th {\n",
              "        vertical-align: top;\n",
              "    }\n",
              "\n",
              "    .dataframe thead th {\n",
              "        text-align: right;\n",
              "    }\n",
              "</style>\n",
              "<table border=\"1\" class=\"dataframe\">\n",
              "  <thead>\n",
              "    <tr style=\"text-align: right;\">\n",
              "      <th></th>\n",
              "      <th>userId</th>\n",
              "      <th>movieId</th>\n",
              "      <th>rating</th>\n",
              "      <th>timestamp</th>\n",
              "    </tr>\n",
              "  </thead>\n",
              "  <tbody>\n",
              "    <tr>\n",
              "      <th>0</th>\n",
              "      <td>1</td>\n",
              "      <td>1</td>\n",
              "      <td>4.0</td>\n",
              "      <td>964982703</td>\n",
              "    </tr>\n",
              "    <tr>\n",
              "      <th>1</th>\n",
              "      <td>1</td>\n",
              "      <td>3</td>\n",
              "      <td>4.0</td>\n",
              "      <td>964981247</td>\n",
              "    </tr>\n",
              "    <tr>\n",
              "      <th>2</th>\n",
              "      <td>1</td>\n",
              "      <td>6</td>\n",
              "      <td>4.0</td>\n",
              "      <td>964982224</td>\n",
              "    </tr>\n",
              "    <tr>\n",
              "      <th>3</th>\n",
              "      <td>1</td>\n",
              "      <td>47</td>\n",
              "      <td>5.0</td>\n",
              "      <td>964983815</td>\n",
              "    </tr>\n",
              "    <tr>\n",
              "      <th>4</th>\n",
              "      <td>1</td>\n",
              "      <td>50</td>\n",
              "      <td>5.0</td>\n",
              "      <td>964982931</td>\n",
              "    </tr>\n",
              "    <tr>\n",
              "      <th>5</th>\n",
              "      <td>1</td>\n",
              "      <td>70</td>\n",
              "      <td>3.0</td>\n",
              "      <td>964982400</td>\n",
              "    </tr>\n",
              "    <tr>\n",
              "      <th>6</th>\n",
              "      <td>1</td>\n",
              "      <td>101</td>\n",
              "      <td>5.0</td>\n",
              "      <td>964980868</td>\n",
              "    </tr>\n",
              "    <tr>\n",
              "      <th>7</th>\n",
              "      <td>1</td>\n",
              "      <td>110</td>\n",
              "      <td>4.0</td>\n",
              "      <td>964982176</td>\n",
              "    </tr>\n",
              "    <tr>\n",
              "      <th>8</th>\n",
              "      <td>1</td>\n",
              "      <td>151</td>\n",
              "      <td>5.0</td>\n",
              "      <td>964984041</td>\n",
              "    </tr>\n",
              "    <tr>\n",
              "      <th>9</th>\n",
              "      <td>1</td>\n",
              "      <td>157</td>\n",
              "      <td>5.0</td>\n",
              "      <td>964984100</td>\n",
              "    </tr>\n",
              "  </tbody>\n",
              "</table>\n",
              "</div>"
            ],
            "text/plain": [
              "   userId  movieId  rating  timestamp\n",
              "0       1        1     4.0  964982703\n",
              "1       1        3     4.0  964981247\n",
              "2       1        6     4.0  964982224\n",
              "3       1       47     5.0  964983815\n",
              "4       1       50     5.0  964982931\n",
              "5       1       70     3.0  964982400\n",
              "6       1      101     5.0  964980868\n",
              "7       1      110     4.0  964982176\n",
              "8       1      151     5.0  964984041\n",
              "9       1      157     5.0  964984100"
            ]
          },
          "metadata": {
            "tags": []
          },
          "execution_count": 18
        }
      ]
    },
    {
      "cell_type": "code",
      "metadata": {
        "id": "Sy8efWyRPPZx",
        "colab_type": "code",
        "outputId": "43eb6e78-9298-46aa-8048-635aa1123d0e",
        "colab": {
          "base_uri": "https://localhost:8080/",
          "height": 284
        }
      },
      "source": [
        "df_movies.describe()"
      ],
      "execution_count": 19,
      "outputs": [
        {
          "output_type": "execute_result",
          "data": {
            "text/html": [
              "<div>\n",
              "<style scoped>\n",
              "    .dataframe tbody tr th:only-of-type {\n",
              "        vertical-align: middle;\n",
              "    }\n",
              "\n",
              "    .dataframe tbody tr th {\n",
              "        vertical-align: top;\n",
              "    }\n",
              "\n",
              "    .dataframe thead th {\n",
              "        text-align: right;\n",
              "    }\n",
              "</style>\n",
              "<table border=\"1\" class=\"dataframe\">\n",
              "  <thead>\n",
              "    <tr style=\"text-align: right;\">\n",
              "      <th></th>\n",
              "      <th>movieId</th>\n",
              "    </tr>\n",
              "  </thead>\n",
              "  <tbody>\n",
              "    <tr>\n",
              "      <th>count</th>\n",
              "      <td>9742.000000</td>\n",
              "    </tr>\n",
              "    <tr>\n",
              "      <th>mean</th>\n",
              "      <td>42200.353623</td>\n",
              "    </tr>\n",
              "    <tr>\n",
              "      <th>std</th>\n",
              "      <td>52160.494854</td>\n",
              "    </tr>\n",
              "    <tr>\n",
              "      <th>min</th>\n",
              "      <td>1.000000</td>\n",
              "    </tr>\n",
              "    <tr>\n",
              "      <th>25%</th>\n",
              "      <td>3248.250000</td>\n",
              "    </tr>\n",
              "    <tr>\n",
              "      <th>50%</th>\n",
              "      <td>7300.000000</td>\n",
              "    </tr>\n",
              "    <tr>\n",
              "      <th>75%</th>\n",
              "      <td>76232.000000</td>\n",
              "    </tr>\n",
              "    <tr>\n",
              "      <th>max</th>\n",
              "      <td>193609.000000</td>\n",
              "    </tr>\n",
              "  </tbody>\n",
              "</table>\n",
              "</div>"
            ],
            "text/plain": [
              "             movieId\n",
              "count    9742.000000\n",
              "mean    42200.353623\n",
              "std     52160.494854\n",
              "min         1.000000\n",
              "25%      3248.250000\n",
              "50%      7300.000000\n",
              "75%     76232.000000\n",
              "max    193609.000000"
            ]
          },
          "metadata": {
            "tags": []
          },
          "execution_count": 19
        }
      ]
    },
    {
      "cell_type": "code",
      "metadata": {
        "id": "HR3bmDVp5gso",
        "colab_type": "code",
        "outputId": "3ef508e2-dfae-4225-86bf-0797e113b167",
        "colab": {
          "base_uri": "https://localhost:8080/",
          "height": 343
        }
      },
      "source": [
        "df_tags = pd.read_csv(filepath_tags)\n",
        "df_tags.head(10)"
      ],
      "execution_count": 20,
      "outputs": [
        {
          "output_type": "execute_result",
          "data": {
            "text/html": [
              "<div>\n",
              "<style scoped>\n",
              "    .dataframe tbody tr th:only-of-type {\n",
              "        vertical-align: middle;\n",
              "    }\n",
              "\n",
              "    .dataframe tbody tr th {\n",
              "        vertical-align: top;\n",
              "    }\n",
              "\n",
              "    .dataframe thead th {\n",
              "        text-align: right;\n",
              "    }\n",
              "</style>\n",
              "<table border=\"1\" class=\"dataframe\">\n",
              "  <thead>\n",
              "    <tr style=\"text-align: right;\">\n",
              "      <th></th>\n",
              "      <th>userId</th>\n",
              "      <th>movieId</th>\n",
              "      <th>tag</th>\n",
              "      <th>timestamp</th>\n",
              "    </tr>\n",
              "  </thead>\n",
              "  <tbody>\n",
              "    <tr>\n",
              "      <th>0</th>\n",
              "      <td>2</td>\n",
              "      <td>60756</td>\n",
              "      <td>funny</td>\n",
              "      <td>1445714994</td>\n",
              "    </tr>\n",
              "    <tr>\n",
              "      <th>1</th>\n",
              "      <td>2</td>\n",
              "      <td>60756</td>\n",
              "      <td>Highly quotable</td>\n",
              "      <td>1445714996</td>\n",
              "    </tr>\n",
              "    <tr>\n",
              "      <th>2</th>\n",
              "      <td>2</td>\n",
              "      <td>60756</td>\n",
              "      <td>will ferrell</td>\n",
              "      <td>1445714992</td>\n",
              "    </tr>\n",
              "    <tr>\n",
              "      <th>3</th>\n",
              "      <td>2</td>\n",
              "      <td>89774</td>\n",
              "      <td>Boxing story</td>\n",
              "      <td>1445715207</td>\n",
              "    </tr>\n",
              "    <tr>\n",
              "      <th>4</th>\n",
              "      <td>2</td>\n",
              "      <td>89774</td>\n",
              "      <td>MMA</td>\n",
              "      <td>1445715200</td>\n",
              "    </tr>\n",
              "    <tr>\n",
              "      <th>5</th>\n",
              "      <td>2</td>\n",
              "      <td>89774</td>\n",
              "      <td>Tom Hardy</td>\n",
              "      <td>1445715205</td>\n",
              "    </tr>\n",
              "    <tr>\n",
              "      <th>6</th>\n",
              "      <td>2</td>\n",
              "      <td>106782</td>\n",
              "      <td>drugs</td>\n",
              "      <td>1445715054</td>\n",
              "    </tr>\n",
              "    <tr>\n",
              "      <th>7</th>\n",
              "      <td>2</td>\n",
              "      <td>106782</td>\n",
              "      <td>Leonardo DiCaprio</td>\n",
              "      <td>1445715051</td>\n",
              "    </tr>\n",
              "    <tr>\n",
              "      <th>8</th>\n",
              "      <td>2</td>\n",
              "      <td>106782</td>\n",
              "      <td>Martin Scorsese</td>\n",
              "      <td>1445715056</td>\n",
              "    </tr>\n",
              "    <tr>\n",
              "      <th>9</th>\n",
              "      <td>7</td>\n",
              "      <td>48516</td>\n",
              "      <td>way too long</td>\n",
              "      <td>1169687325</td>\n",
              "    </tr>\n",
              "  </tbody>\n",
              "</table>\n",
              "</div>"
            ],
            "text/plain": [
              "   userId  movieId                tag   timestamp\n",
              "0       2    60756              funny  1445714994\n",
              "1       2    60756    Highly quotable  1445714996\n",
              "2       2    60756       will ferrell  1445714992\n",
              "3       2    89774       Boxing story  1445715207\n",
              "4       2    89774                MMA  1445715200\n",
              "5       2    89774          Tom Hardy  1445715205\n",
              "6       2   106782              drugs  1445715054\n",
              "7       2   106782  Leonardo DiCaprio  1445715051\n",
              "8       2   106782    Martin Scorsese  1445715056\n",
              "9       7    48516       way too long  1169687325"
            ]
          },
          "metadata": {
            "tags": []
          },
          "execution_count": 20
        }
      ]
    },
    {
      "cell_type": "code",
      "metadata": {
        "id": "HnbQoN6SPUcY",
        "colab_type": "code",
        "outputId": "6e7cc399-5c75-43d1-ea6f-267f0b4fd2a2",
        "colab": {
          "base_uri": "https://localhost:8080/",
          "height": 284
        }
      },
      "source": [
        "df_tags.describe()"
      ],
      "execution_count": 21,
      "outputs": [
        {
          "output_type": "execute_result",
          "data": {
            "text/html": [
              "<div>\n",
              "<style scoped>\n",
              "    .dataframe tbody tr th:only-of-type {\n",
              "        vertical-align: middle;\n",
              "    }\n",
              "\n",
              "    .dataframe tbody tr th {\n",
              "        vertical-align: top;\n",
              "    }\n",
              "\n",
              "    .dataframe thead th {\n",
              "        text-align: right;\n",
              "    }\n",
              "</style>\n",
              "<table border=\"1\" class=\"dataframe\">\n",
              "  <thead>\n",
              "    <tr style=\"text-align: right;\">\n",
              "      <th></th>\n",
              "      <th>userId</th>\n",
              "      <th>movieId</th>\n",
              "      <th>timestamp</th>\n",
              "    </tr>\n",
              "  </thead>\n",
              "  <tbody>\n",
              "    <tr>\n",
              "      <th>count</th>\n",
              "      <td>3683.000000</td>\n",
              "      <td>3683.000000</td>\n",
              "      <td>3.683000e+03</td>\n",
              "    </tr>\n",
              "    <tr>\n",
              "      <th>mean</th>\n",
              "      <td>431.149335</td>\n",
              "      <td>27252.013576</td>\n",
              "      <td>1.320032e+09</td>\n",
              "    </tr>\n",
              "    <tr>\n",
              "      <th>std</th>\n",
              "      <td>158.472553</td>\n",
              "      <td>43490.558803</td>\n",
              "      <td>1.721025e+08</td>\n",
              "    </tr>\n",
              "    <tr>\n",
              "      <th>min</th>\n",
              "      <td>2.000000</td>\n",
              "      <td>1.000000</td>\n",
              "      <td>1.137179e+09</td>\n",
              "    </tr>\n",
              "    <tr>\n",
              "      <th>25%</th>\n",
              "      <td>424.000000</td>\n",
              "      <td>1262.500000</td>\n",
              "      <td>1.137521e+09</td>\n",
              "    </tr>\n",
              "    <tr>\n",
              "      <th>50%</th>\n",
              "      <td>474.000000</td>\n",
              "      <td>4454.000000</td>\n",
              "      <td>1.269833e+09</td>\n",
              "    </tr>\n",
              "    <tr>\n",
              "      <th>75%</th>\n",
              "      <td>477.000000</td>\n",
              "      <td>39263.000000</td>\n",
              "      <td>1.498457e+09</td>\n",
              "    </tr>\n",
              "    <tr>\n",
              "      <th>max</th>\n",
              "      <td>610.000000</td>\n",
              "      <td>193565.000000</td>\n",
              "      <td>1.537099e+09</td>\n",
              "    </tr>\n",
              "  </tbody>\n",
              "</table>\n",
              "</div>"
            ],
            "text/plain": [
              "            userId        movieId     timestamp\n",
              "count  3683.000000    3683.000000  3.683000e+03\n",
              "mean    431.149335   27252.013576  1.320032e+09\n",
              "std     158.472553   43490.558803  1.721025e+08\n",
              "min       2.000000       1.000000  1.137179e+09\n",
              "25%     424.000000    1262.500000  1.137521e+09\n",
              "50%     474.000000    4454.000000  1.269833e+09\n",
              "75%     477.000000   39263.000000  1.498457e+09\n",
              "max     610.000000  193565.000000  1.537099e+09"
            ]
          },
          "metadata": {
            "tags": []
          },
          "execution_count": 21
        }
      ]
    },
    {
      "cell_type": "markdown",
      "metadata": {
        "id": "v_a6IrTCjOLq",
        "colab_type": "text"
      },
      "source": [
        "### Data wrangling"
      ]
    },
    {
      "cell_type": "markdown",
      "metadata": {
        "id": "WDtrEMpPjSjp",
        "colab_type": "text"
      },
      "source": [
        "Extraemos el año del título de la película para dispones de el como un campo separado para el análisis"
      ]
    },
    {
      "cell_type": "code",
      "metadata": {
        "id": "nc_LWrL1jSxR",
        "colab_type": "code",
        "outputId": "226ed6f3-454a-418a-c7c8-bd1cddb593a5",
        "colab": {
          "base_uri": "https://localhost:8080/",
          "height": 195
        }
      },
      "source": [
        "df_movies['year'] = df_movies.title.str.extract(\"\\((\\d{4})\\)\", expand=True)\n",
        "df_movies.year = pd.to_datetime(df_movies.year, format='%Y')\n",
        "df_movies.year = df_movies.year.dt.year # As there are some NaN years, resulting type will be float (decimals)\n",
        "df_movies.title = df_movies.title.str[:-7]\n",
        "\n",
        "df_movies.head()"
      ],
      "execution_count": 22,
      "outputs": [
        {
          "output_type": "execute_result",
          "data": {
            "text/html": [
              "<div>\n",
              "<style scoped>\n",
              "    .dataframe tbody tr th:only-of-type {\n",
              "        vertical-align: middle;\n",
              "    }\n",
              "\n",
              "    .dataframe tbody tr th {\n",
              "        vertical-align: top;\n",
              "    }\n",
              "\n",
              "    .dataframe thead th {\n",
              "        text-align: right;\n",
              "    }\n",
              "</style>\n",
              "<table border=\"1\" class=\"dataframe\">\n",
              "  <thead>\n",
              "    <tr style=\"text-align: right;\">\n",
              "      <th></th>\n",
              "      <th>movieId</th>\n",
              "      <th>title</th>\n",
              "      <th>genres</th>\n",
              "      <th>has_year</th>\n",
              "      <th>year</th>\n",
              "    </tr>\n",
              "  </thead>\n",
              "  <tbody>\n",
              "    <tr>\n",
              "      <th>0</th>\n",
              "      <td>1</td>\n",
              "      <td>Toy Story</td>\n",
              "      <td>Adventure|Animation|Children|Comedy|Fantasy</td>\n",
              "      <td>True</td>\n",
              "      <td>1995.0</td>\n",
              "    </tr>\n",
              "    <tr>\n",
              "      <th>1</th>\n",
              "      <td>2</td>\n",
              "      <td>Jumanji</td>\n",
              "      <td>Adventure|Children|Fantasy</td>\n",
              "      <td>True</td>\n",
              "      <td>1995.0</td>\n",
              "    </tr>\n",
              "    <tr>\n",
              "      <th>2</th>\n",
              "      <td>3</td>\n",
              "      <td>Grumpier Old Men</td>\n",
              "      <td>Comedy|Romance</td>\n",
              "      <td>True</td>\n",
              "      <td>1995.0</td>\n",
              "    </tr>\n",
              "    <tr>\n",
              "      <th>3</th>\n",
              "      <td>4</td>\n",
              "      <td>Waiting to Exhale</td>\n",
              "      <td>Comedy|Drama|Romance</td>\n",
              "      <td>True</td>\n",
              "      <td>1995.0</td>\n",
              "    </tr>\n",
              "    <tr>\n",
              "      <th>4</th>\n",
              "      <td>5</td>\n",
              "      <td>Father of the Bride Part II</td>\n",
              "      <td>Comedy</td>\n",
              "      <td>True</td>\n",
              "      <td>1995.0</td>\n",
              "    </tr>\n",
              "  </tbody>\n",
              "</table>\n",
              "</div>"
            ],
            "text/plain": [
              "   movieId                        title  ... has_year    year\n",
              "0        1                    Toy Story  ...     True  1995.0\n",
              "1        2                      Jumanji  ...     True  1995.0\n",
              "2        3             Grumpier Old Men  ...     True  1995.0\n",
              "3        4            Waiting to Exhale  ...     True  1995.0\n",
              "4        5  Father of the Bride Part II  ...     True  1995.0\n",
              "\n",
              "[5 rows x 5 columns]"
            ]
          },
          "metadata": {
            "tags": []
          },
          "execution_count": 22
        }
      ]
    },
    {
      "cell_type": "markdown",
      "metadata": {
        "id": "UMOj1UtiEi_W",
        "colab_type": "text"
      },
      "source": [
        "Transforma los generos asociados a cada categoría como un One Hot Encoding"
      ]
    },
    {
      "cell_type": "code",
      "metadata": {
        "id": "Z_KHjxbQEhhT",
        "colab_type": "code",
        "outputId": "7c10e2d3-cfb9-482a-f36c-c07a2021abd8",
        "colab": {
          "base_uri": "https://localhost:8080/",
          "height": 316
        }
      },
      "source": [
        "# Categorize movies genres properly. Working later with +20MM rows of strings proved very resource consuming\n",
        "genres_unique = pd.DataFrame(df_movies.genres.str.split('|').tolist()).stack().unique()\n",
        "genres_unique = pd.DataFrame(genres_unique, columns=['genre']) # Format into DataFrame to store later\n",
        "df_movies = df_movies.join(df_movies.genres.str.get_dummies().astype(bool))\n",
        "df_movies.drop('genres', inplace=True, axis=1)\n",
        "df_movies.head()"
      ],
      "execution_count": 23,
      "outputs": [
        {
          "output_type": "execute_result",
          "data": {
            "text/html": [
              "<div>\n",
              "<style scoped>\n",
              "    .dataframe tbody tr th:only-of-type {\n",
              "        vertical-align: middle;\n",
              "    }\n",
              "\n",
              "    .dataframe tbody tr th {\n",
              "        vertical-align: top;\n",
              "    }\n",
              "\n",
              "    .dataframe thead th {\n",
              "        text-align: right;\n",
              "    }\n",
              "</style>\n",
              "<table border=\"1\" class=\"dataframe\">\n",
              "  <thead>\n",
              "    <tr style=\"text-align: right;\">\n",
              "      <th></th>\n",
              "      <th>movieId</th>\n",
              "      <th>title</th>\n",
              "      <th>has_year</th>\n",
              "      <th>year</th>\n",
              "      <th>(no genres listed)</th>\n",
              "      <th>Action</th>\n",
              "      <th>Adventure</th>\n",
              "      <th>Animation</th>\n",
              "      <th>Children</th>\n",
              "      <th>Comedy</th>\n",
              "      <th>Crime</th>\n",
              "      <th>Documentary</th>\n",
              "      <th>Drama</th>\n",
              "      <th>Fantasy</th>\n",
              "      <th>Film-Noir</th>\n",
              "      <th>Horror</th>\n",
              "      <th>IMAX</th>\n",
              "      <th>Musical</th>\n",
              "      <th>Mystery</th>\n",
              "      <th>Romance</th>\n",
              "      <th>Sci-Fi</th>\n",
              "      <th>Thriller</th>\n",
              "      <th>War</th>\n",
              "      <th>Western</th>\n",
              "    </tr>\n",
              "  </thead>\n",
              "  <tbody>\n",
              "    <tr>\n",
              "      <th>0</th>\n",
              "      <td>1</td>\n",
              "      <td>Toy Story</td>\n",
              "      <td>True</td>\n",
              "      <td>1995.0</td>\n",
              "      <td>False</td>\n",
              "      <td>False</td>\n",
              "      <td>True</td>\n",
              "      <td>True</td>\n",
              "      <td>True</td>\n",
              "      <td>True</td>\n",
              "      <td>False</td>\n",
              "      <td>False</td>\n",
              "      <td>False</td>\n",
              "      <td>True</td>\n",
              "      <td>False</td>\n",
              "      <td>False</td>\n",
              "      <td>False</td>\n",
              "      <td>False</td>\n",
              "      <td>False</td>\n",
              "      <td>False</td>\n",
              "      <td>False</td>\n",
              "      <td>False</td>\n",
              "      <td>False</td>\n",
              "      <td>False</td>\n",
              "    </tr>\n",
              "    <tr>\n",
              "      <th>1</th>\n",
              "      <td>2</td>\n",
              "      <td>Jumanji</td>\n",
              "      <td>True</td>\n",
              "      <td>1995.0</td>\n",
              "      <td>False</td>\n",
              "      <td>False</td>\n",
              "      <td>True</td>\n",
              "      <td>False</td>\n",
              "      <td>True</td>\n",
              "      <td>False</td>\n",
              "      <td>False</td>\n",
              "      <td>False</td>\n",
              "      <td>False</td>\n",
              "      <td>True</td>\n",
              "      <td>False</td>\n",
              "      <td>False</td>\n",
              "      <td>False</td>\n",
              "      <td>False</td>\n",
              "      <td>False</td>\n",
              "      <td>False</td>\n",
              "      <td>False</td>\n",
              "      <td>False</td>\n",
              "      <td>False</td>\n",
              "      <td>False</td>\n",
              "    </tr>\n",
              "    <tr>\n",
              "      <th>2</th>\n",
              "      <td>3</td>\n",
              "      <td>Grumpier Old Men</td>\n",
              "      <td>True</td>\n",
              "      <td>1995.0</td>\n",
              "      <td>False</td>\n",
              "      <td>False</td>\n",
              "      <td>False</td>\n",
              "      <td>False</td>\n",
              "      <td>False</td>\n",
              "      <td>True</td>\n",
              "      <td>False</td>\n",
              "      <td>False</td>\n",
              "      <td>False</td>\n",
              "      <td>False</td>\n",
              "      <td>False</td>\n",
              "      <td>False</td>\n",
              "      <td>False</td>\n",
              "      <td>False</td>\n",
              "      <td>False</td>\n",
              "      <td>True</td>\n",
              "      <td>False</td>\n",
              "      <td>False</td>\n",
              "      <td>False</td>\n",
              "      <td>False</td>\n",
              "    </tr>\n",
              "    <tr>\n",
              "      <th>3</th>\n",
              "      <td>4</td>\n",
              "      <td>Waiting to Exhale</td>\n",
              "      <td>True</td>\n",
              "      <td>1995.0</td>\n",
              "      <td>False</td>\n",
              "      <td>False</td>\n",
              "      <td>False</td>\n",
              "      <td>False</td>\n",
              "      <td>False</td>\n",
              "      <td>True</td>\n",
              "      <td>False</td>\n",
              "      <td>False</td>\n",
              "      <td>True</td>\n",
              "      <td>False</td>\n",
              "      <td>False</td>\n",
              "      <td>False</td>\n",
              "      <td>False</td>\n",
              "      <td>False</td>\n",
              "      <td>False</td>\n",
              "      <td>True</td>\n",
              "      <td>False</td>\n",
              "      <td>False</td>\n",
              "      <td>False</td>\n",
              "      <td>False</td>\n",
              "    </tr>\n",
              "    <tr>\n",
              "      <th>4</th>\n",
              "      <td>5</td>\n",
              "      <td>Father of the Bride Part II</td>\n",
              "      <td>True</td>\n",
              "      <td>1995.0</td>\n",
              "      <td>False</td>\n",
              "      <td>False</td>\n",
              "      <td>False</td>\n",
              "      <td>False</td>\n",
              "      <td>False</td>\n",
              "      <td>True</td>\n",
              "      <td>False</td>\n",
              "      <td>False</td>\n",
              "      <td>False</td>\n",
              "      <td>False</td>\n",
              "      <td>False</td>\n",
              "      <td>False</td>\n",
              "      <td>False</td>\n",
              "      <td>False</td>\n",
              "      <td>False</td>\n",
              "      <td>False</td>\n",
              "      <td>False</td>\n",
              "      <td>False</td>\n",
              "      <td>False</td>\n",
              "      <td>False</td>\n",
              "    </tr>\n",
              "  </tbody>\n",
              "</table>\n",
              "</div>"
            ],
            "text/plain": [
              "   movieId                        title  has_year  ...  Thriller    War  Western\n",
              "0        1                    Toy Story      True  ...     False  False    False\n",
              "1        2                      Jumanji      True  ...     False  False    False\n",
              "2        3             Grumpier Old Men      True  ...     False  False    False\n",
              "3        4            Waiting to Exhale      True  ...     False  False    False\n",
              "4        5  Father of the Bride Part II      True  ...     False  False    False\n",
              "\n",
              "[5 rows x 24 columns]"
            ]
          },
          "metadata": {
            "tags": []
          },
          "execution_count": 23
        }
      ]
    },
    {
      "cell_type": "markdown",
      "metadata": {
        "id": "vCItp0iMF2nY",
        "colab_type": "text"
      },
      "source": [
        "Otra transformación que vamos a realizar con el fin de comprender mejor el dataset es transformar el timestamp de las calificaciones realizadas por los usuarios a un formato más manejable"
      ]
    },
    {
      "cell_type": "code",
      "metadata": {
        "id": "G6-g2l1lF3Ja",
        "colab_type": "code",
        "outputId": "31731ad8-a9ed-4cba-9888-2c744db2780d",
        "colab": {
          "base_uri": "https://localhost:8080/",
          "height": 195
        }
      },
      "source": [
        "# Modify rating timestamp format (from seconds to datetime year)\n",
        "#ratings.timestamp = pd.to_datetime(ratings.timestamp, unit='s')\n",
        "df_ratings.timestamp = pd.to_datetime(df_ratings.timestamp, infer_datetime_format=True)\n",
        "df_ratings.timestamp = df_ratings.timestamp.dt.year\n",
        "df_ratings.head()"
      ],
      "execution_count": 24,
      "outputs": [
        {
          "output_type": "execute_result",
          "data": {
            "text/html": [
              "<div>\n",
              "<style scoped>\n",
              "    .dataframe tbody tr th:only-of-type {\n",
              "        vertical-align: middle;\n",
              "    }\n",
              "\n",
              "    .dataframe tbody tr th {\n",
              "        vertical-align: top;\n",
              "    }\n",
              "\n",
              "    .dataframe thead th {\n",
              "        text-align: right;\n",
              "    }\n",
              "</style>\n",
              "<table border=\"1\" class=\"dataframe\">\n",
              "  <thead>\n",
              "    <tr style=\"text-align: right;\">\n",
              "      <th></th>\n",
              "      <th>userId</th>\n",
              "      <th>movieId</th>\n",
              "      <th>rating</th>\n",
              "      <th>timestamp</th>\n",
              "    </tr>\n",
              "  </thead>\n",
              "  <tbody>\n",
              "    <tr>\n",
              "      <th>0</th>\n",
              "      <td>1</td>\n",
              "      <td>1</td>\n",
              "      <td>4.0</td>\n",
              "      <td>1970</td>\n",
              "    </tr>\n",
              "    <tr>\n",
              "      <th>1</th>\n",
              "      <td>1</td>\n",
              "      <td>3</td>\n",
              "      <td>4.0</td>\n",
              "      <td>1970</td>\n",
              "    </tr>\n",
              "    <tr>\n",
              "      <th>2</th>\n",
              "      <td>1</td>\n",
              "      <td>6</td>\n",
              "      <td>4.0</td>\n",
              "      <td>1970</td>\n",
              "    </tr>\n",
              "    <tr>\n",
              "      <th>3</th>\n",
              "      <td>1</td>\n",
              "      <td>47</td>\n",
              "      <td>5.0</td>\n",
              "      <td>1970</td>\n",
              "    </tr>\n",
              "    <tr>\n",
              "      <th>4</th>\n",
              "      <td>1</td>\n",
              "      <td>50</td>\n",
              "      <td>5.0</td>\n",
              "      <td>1970</td>\n",
              "    </tr>\n",
              "  </tbody>\n",
              "</table>\n",
              "</div>"
            ],
            "text/plain": [
              "   userId  movieId  rating  timestamp\n",
              "0       1        1     4.0       1970\n",
              "1       1        3     4.0       1970\n",
              "2       1        6     4.0       1970\n",
              "3       1       47     5.0       1970\n",
              "4       1       50     5.0       1970"
            ]
          },
          "metadata": {
            "tags": []
          },
          "execution_count": 24
        }
      ]
    },
    {
      "cell_type": "markdown",
      "metadata": {
        "id": "ULci8z26Gg9H",
        "colab_type": "text"
      },
      "source": [
        "Finalmente comprobamos los registros de cada dataframe que pueda contener valores nulos y al tratarse de unos pocos, simplemente prescendiremos de ellos"
      ]
    },
    {
      "cell_type": "code",
      "metadata": {
        "id": "yFBUSQqQGhiC",
        "colab_type": "code",
        "outputId": "6e48b9da-295b-4dcc-8e52-06c111ef41bc",
        "colab": {
          "base_uri": "https://localhost:8080/",
          "height": 50
        }
      },
      "source": [
        "# Check and clean NaN values\n",
        "print (\"Number of movies Null values: \", max(df_movies.isnull().sum()))\n",
        "print (\"Number of ratings Null values: \", max(df_ratings.isnull().sum()))\n",
        "df_movies.dropna(inplace=True)\n",
        "df_ratings.dropna(inplace=True)"
      ],
      "execution_count": 25,
      "outputs": [
        {
          "output_type": "stream",
          "text": [
            "Number of movies Null values:  13\n",
            "Number of ratings Null values:  0\n"
          ],
          "name": "stdout"
        }
      ]
    },
    {
      "cell_type": "markdown",
      "metadata": {
        "id": "19WkyhNTzS6d",
        "colab_type": "text"
      },
      "source": [
        "Obtenemos todas las valoraciones realizadas para cada película"
      ]
    },
    {
      "cell_type": "code",
      "metadata": {
        "id": "hJkgPsRvHiZr",
        "colab_type": "code",
        "outputId": "267a88e8-ee20-40c4-8505-79058930cae2",
        "colab": {
          "base_uri": "https://localhost:8080/",
          "height": 362
        }
      },
      "source": [
        "df_movie_rates = df_movies.set_index('movieId').join(df_ratings.set_index('movieId'))\n",
        "df_movie_rates.head()"
      ],
      "execution_count": 26,
      "outputs": [
        {
          "output_type": "execute_result",
          "data": {
            "text/html": [
              "<div>\n",
              "<style scoped>\n",
              "    .dataframe tbody tr th:only-of-type {\n",
              "        vertical-align: middle;\n",
              "    }\n",
              "\n",
              "    .dataframe tbody tr th {\n",
              "        vertical-align: top;\n",
              "    }\n",
              "\n",
              "    .dataframe thead th {\n",
              "        text-align: right;\n",
              "    }\n",
              "</style>\n",
              "<table border=\"1\" class=\"dataframe\">\n",
              "  <thead>\n",
              "    <tr style=\"text-align: right;\">\n",
              "      <th></th>\n",
              "      <th>title</th>\n",
              "      <th>has_year</th>\n",
              "      <th>year</th>\n",
              "      <th>(no genres listed)</th>\n",
              "      <th>Action</th>\n",
              "      <th>Adventure</th>\n",
              "      <th>Animation</th>\n",
              "      <th>Children</th>\n",
              "      <th>Comedy</th>\n",
              "      <th>Crime</th>\n",
              "      <th>Documentary</th>\n",
              "      <th>Drama</th>\n",
              "      <th>Fantasy</th>\n",
              "      <th>Film-Noir</th>\n",
              "      <th>Horror</th>\n",
              "      <th>IMAX</th>\n",
              "      <th>Musical</th>\n",
              "      <th>Mystery</th>\n",
              "      <th>Romance</th>\n",
              "      <th>Sci-Fi</th>\n",
              "      <th>Thriller</th>\n",
              "      <th>War</th>\n",
              "      <th>Western</th>\n",
              "      <th>userId</th>\n",
              "      <th>rating</th>\n",
              "      <th>timestamp</th>\n",
              "    </tr>\n",
              "    <tr>\n",
              "      <th>movieId</th>\n",
              "      <th></th>\n",
              "      <th></th>\n",
              "      <th></th>\n",
              "      <th></th>\n",
              "      <th></th>\n",
              "      <th></th>\n",
              "      <th></th>\n",
              "      <th></th>\n",
              "      <th></th>\n",
              "      <th></th>\n",
              "      <th></th>\n",
              "      <th></th>\n",
              "      <th></th>\n",
              "      <th></th>\n",
              "      <th></th>\n",
              "      <th></th>\n",
              "      <th></th>\n",
              "      <th></th>\n",
              "      <th></th>\n",
              "      <th></th>\n",
              "      <th></th>\n",
              "      <th></th>\n",
              "      <th></th>\n",
              "      <th></th>\n",
              "      <th></th>\n",
              "      <th></th>\n",
              "    </tr>\n",
              "  </thead>\n",
              "  <tbody>\n",
              "    <tr>\n",
              "      <th>1</th>\n",
              "      <td>Toy Story</td>\n",
              "      <td>True</td>\n",
              "      <td>1995.0</td>\n",
              "      <td>False</td>\n",
              "      <td>False</td>\n",
              "      <td>True</td>\n",
              "      <td>True</td>\n",
              "      <td>True</td>\n",
              "      <td>True</td>\n",
              "      <td>False</td>\n",
              "      <td>False</td>\n",
              "      <td>False</td>\n",
              "      <td>True</td>\n",
              "      <td>False</td>\n",
              "      <td>False</td>\n",
              "      <td>False</td>\n",
              "      <td>False</td>\n",
              "      <td>False</td>\n",
              "      <td>False</td>\n",
              "      <td>False</td>\n",
              "      <td>False</td>\n",
              "      <td>False</td>\n",
              "      <td>False</td>\n",
              "      <td>1.0</td>\n",
              "      <td>4.0</td>\n",
              "      <td>1970.0</td>\n",
              "    </tr>\n",
              "    <tr>\n",
              "      <th>1</th>\n",
              "      <td>Toy Story</td>\n",
              "      <td>True</td>\n",
              "      <td>1995.0</td>\n",
              "      <td>False</td>\n",
              "      <td>False</td>\n",
              "      <td>True</td>\n",
              "      <td>True</td>\n",
              "      <td>True</td>\n",
              "      <td>True</td>\n",
              "      <td>False</td>\n",
              "      <td>False</td>\n",
              "      <td>False</td>\n",
              "      <td>True</td>\n",
              "      <td>False</td>\n",
              "      <td>False</td>\n",
              "      <td>False</td>\n",
              "      <td>False</td>\n",
              "      <td>False</td>\n",
              "      <td>False</td>\n",
              "      <td>False</td>\n",
              "      <td>False</td>\n",
              "      <td>False</td>\n",
              "      <td>False</td>\n",
              "      <td>5.0</td>\n",
              "      <td>4.0</td>\n",
              "      <td>1970.0</td>\n",
              "    </tr>\n",
              "    <tr>\n",
              "      <th>1</th>\n",
              "      <td>Toy Story</td>\n",
              "      <td>True</td>\n",
              "      <td>1995.0</td>\n",
              "      <td>False</td>\n",
              "      <td>False</td>\n",
              "      <td>True</td>\n",
              "      <td>True</td>\n",
              "      <td>True</td>\n",
              "      <td>True</td>\n",
              "      <td>False</td>\n",
              "      <td>False</td>\n",
              "      <td>False</td>\n",
              "      <td>True</td>\n",
              "      <td>False</td>\n",
              "      <td>False</td>\n",
              "      <td>False</td>\n",
              "      <td>False</td>\n",
              "      <td>False</td>\n",
              "      <td>False</td>\n",
              "      <td>False</td>\n",
              "      <td>False</td>\n",
              "      <td>False</td>\n",
              "      <td>False</td>\n",
              "      <td>7.0</td>\n",
              "      <td>4.5</td>\n",
              "      <td>1970.0</td>\n",
              "    </tr>\n",
              "    <tr>\n",
              "      <th>1</th>\n",
              "      <td>Toy Story</td>\n",
              "      <td>True</td>\n",
              "      <td>1995.0</td>\n",
              "      <td>False</td>\n",
              "      <td>False</td>\n",
              "      <td>True</td>\n",
              "      <td>True</td>\n",
              "      <td>True</td>\n",
              "      <td>True</td>\n",
              "      <td>False</td>\n",
              "      <td>False</td>\n",
              "      <td>False</td>\n",
              "      <td>True</td>\n",
              "      <td>False</td>\n",
              "      <td>False</td>\n",
              "      <td>False</td>\n",
              "      <td>False</td>\n",
              "      <td>False</td>\n",
              "      <td>False</td>\n",
              "      <td>False</td>\n",
              "      <td>False</td>\n",
              "      <td>False</td>\n",
              "      <td>False</td>\n",
              "      <td>15.0</td>\n",
              "      <td>2.5</td>\n",
              "      <td>1970.0</td>\n",
              "    </tr>\n",
              "    <tr>\n",
              "      <th>1</th>\n",
              "      <td>Toy Story</td>\n",
              "      <td>True</td>\n",
              "      <td>1995.0</td>\n",
              "      <td>False</td>\n",
              "      <td>False</td>\n",
              "      <td>True</td>\n",
              "      <td>True</td>\n",
              "      <td>True</td>\n",
              "      <td>True</td>\n",
              "      <td>False</td>\n",
              "      <td>False</td>\n",
              "      <td>False</td>\n",
              "      <td>True</td>\n",
              "      <td>False</td>\n",
              "      <td>False</td>\n",
              "      <td>False</td>\n",
              "      <td>False</td>\n",
              "      <td>False</td>\n",
              "      <td>False</td>\n",
              "      <td>False</td>\n",
              "      <td>False</td>\n",
              "      <td>False</td>\n",
              "      <td>False</td>\n",
              "      <td>17.0</td>\n",
              "      <td>4.5</td>\n",
              "      <td>1970.0</td>\n",
              "    </tr>\n",
              "  </tbody>\n",
              "</table>\n",
              "</div>"
            ],
            "text/plain": [
              "             title  has_year    year  ...  userId  rating  timestamp\n",
              "movieId                               ...                           \n",
              "1        Toy Story      True  1995.0  ...     1.0     4.0     1970.0\n",
              "1        Toy Story      True  1995.0  ...     5.0     4.0     1970.0\n",
              "1        Toy Story      True  1995.0  ...     7.0     4.5     1970.0\n",
              "1        Toy Story      True  1995.0  ...    15.0     2.5     1970.0\n",
              "1        Toy Story      True  1995.0  ...    17.0     4.5     1970.0\n",
              "\n",
              "[5 rows x 26 columns]"
            ]
          },
          "metadata": {
            "tags": []
          },
          "execution_count": 26
        }
      ]
    },
    {
      "cell_type": "code",
      "metadata": {
        "id": "z2WSPKTeNlQ3",
        "colab_type": "code",
        "outputId": "e91b932f-f078-428a-ac67-28bc679b5b25",
        "colab": {
          "base_uri": "https://localhost:8080/",
          "height": 1911
        }
      },
      "source": [
        "avg_rate = df_movie_rates[['title','rating']].groupby('title').mean().sort_values(by='rating', ascending=False)\n",
        "avg_rate"
      ],
      "execution_count": 27,
      "outputs": [
        {
          "output_type": "execute_result",
          "data": {
            "text/html": [
              "<div>\n",
              "<style scoped>\n",
              "    .dataframe tbody tr th:only-of-type {\n",
              "        vertical-align: middle;\n",
              "    }\n",
              "\n",
              "    .dataframe tbody tr th {\n",
              "        vertical-align: top;\n",
              "    }\n",
              "\n",
              "    .dataframe thead th {\n",
              "        text-align: right;\n",
              "    }\n",
              "</style>\n",
              "<table border=\"1\" class=\"dataframe\">\n",
              "  <thead>\n",
              "    <tr style=\"text-align: right;\">\n",
              "      <th></th>\n",
              "      <th>rating</th>\n",
              "    </tr>\n",
              "    <tr>\n",
              "      <th>title</th>\n",
              "      <th></th>\n",
              "    </tr>\n",
              "  </thead>\n",
              "  <tbody>\n",
              "    <tr>\n",
              "      <th>Formula of Love</th>\n",
              "      <td>5.0</td>\n",
              "    </tr>\n",
              "    <tr>\n",
              "      <th>Down Argentine Way</th>\n",
              "      <td>5.0</td>\n",
              "    </tr>\n",
              "    <tr>\n",
              "      <th>Mother (Madeo)</th>\n",
              "      <td>5.0</td>\n",
              "    </tr>\n",
              "    <tr>\n",
              "      <th>Light Years (Gandahar)</th>\n",
              "      <td>5.0</td>\n",
              "    </tr>\n",
              "    <tr>\n",
              "      <th>Tokyo Tribe</th>\n",
              "      <td>5.0</td>\n",
              "    </tr>\n",
              "    <tr>\n",
              "      <th>Hunting Elephants</th>\n",
              "      <td>5.0</td>\n",
              "    </tr>\n",
              "    <tr>\n",
              "      <th>Big Top Scooby-Doo!</th>\n",
              "      <td>5.0</td>\n",
              "    </tr>\n",
              "    <tr>\n",
              "      <th>Into the Forest of Fireflies' Light</th>\n",
              "      <td>5.0</td>\n",
              "    </tr>\n",
              "    <tr>\n",
              "      <th>Goodbye Charlie</th>\n",
              "      <td>5.0</td>\n",
              "    </tr>\n",
              "    <tr>\n",
              "      <th>Eichmann</th>\n",
              "      <td>5.0</td>\n",
              "    </tr>\n",
              "    <tr>\n",
              "      <th>Bill Hicks: Revelations</th>\n",
              "      <td>5.0</td>\n",
              "    </tr>\n",
              "    <tr>\n",
              "      <th>Moscow Does Not Believe in Tears (Moskva slezam ne verit)</th>\n",
              "      <td>5.0</td>\n",
              "    </tr>\n",
              "    <tr>\n",
              "      <th>All the Vermeers in New York</th>\n",
              "      <td>5.0</td>\n",
              "    </tr>\n",
              "    <tr>\n",
              "      <th>Saving Face</th>\n",
              "      <td>5.0</td>\n",
              "    </tr>\n",
              "    <tr>\n",
              "      <th>Martin Lawrence Live: Runteldat</th>\n",
              "      <td>5.0</td>\n",
              "    </tr>\n",
              "    <tr>\n",
              "      <th>Lady Jane</th>\n",
              "      <td>5.0</td>\n",
              "    </tr>\n",
              "    <tr>\n",
              "      <th>Who Killed Chea Vichea?</th>\n",
              "      <td>5.0</td>\n",
              "    </tr>\n",
              "    <tr>\n",
              "      <th>All Yours</th>\n",
              "      <td>5.0</td>\n",
              "    </tr>\n",
              "    <tr>\n",
              "      <th>Saving Santa</th>\n",
              "      <td>5.0</td>\n",
              "    </tr>\n",
              "    <tr>\n",
              "      <th>Snowflake, the White Gorilla</th>\n",
              "      <td>5.0</td>\n",
              "    </tr>\n",
              "    <tr>\n",
              "      <th>Bitter Lake</th>\n",
              "      <td>5.0</td>\n",
              "    </tr>\n",
              "    <tr>\n",
              "      <th>More</th>\n",
              "      <td>5.0</td>\n",
              "    </tr>\n",
              "    <tr>\n",
              "      <th>Investigation Held by Kolobki</th>\n",
              "      <td>5.0</td>\n",
              "    </tr>\n",
              "    <tr>\n",
              "      <th>Dylan Moran: Monster</th>\n",
              "      <td>5.0</td>\n",
              "    </tr>\n",
              "    <tr>\n",
              "      <th>Scooby-Doo Goes Hollywood</th>\n",
              "      <td>5.0</td>\n",
              "    </tr>\n",
              "    <tr>\n",
              "      <th>Tom Segura: Completely Normal</th>\n",
              "      <td>5.0</td>\n",
              "    </tr>\n",
              "    <tr>\n",
              "      <th>Into the Abyss</th>\n",
              "      <td>5.0</td>\n",
              "    </tr>\n",
              "    <tr>\n",
              "      <th>Man and a Woman, A (Un homme et une femme)</th>\n",
              "      <td>5.0</td>\n",
              "    </tr>\n",
              "    <tr>\n",
              "      <th>Empties</th>\n",
              "      <td>5.0</td>\n",
              "    </tr>\n",
              "    <tr>\n",
              "      <th>Louis Theroux: Law &amp; Disorder</th>\n",
              "      <td>5.0</td>\n",
              "    </tr>\n",
              "    <tr>\n",
              "      <th>...</th>\n",
              "      <td>...</td>\n",
              "    </tr>\n",
              "    <tr>\n",
              "      <th>Indestructible Man</th>\n",
              "      <td>0.5</td>\n",
              "    </tr>\n",
              "    <tr>\n",
              "      <th>Pokemon 4 Ever (a.k.a. Pokémon 4: The Movie)</th>\n",
              "      <td>0.5</td>\n",
              "    </tr>\n",
              "    <tr>\n",
              "      <th>Yongary: Monster from the Deep</th>\n",
              "      <td>0.5</td>\n",
              "    </tr>\n",
              "    <tr>\n",
              "      <th>3 Ninjas Knuckle Up</th>\n",
              "      <td>0.5</td>\n",
              "    </tr>\n",
              "    <tr>\n",
              "      <th>Don't Look Now</th>\n",
              "      <td>0.5</td>\n",
              "    </tr>\n",
              "    <tr>\n",
              "      <th>3 dev adam (Three Giant Men)</th>\n",
              "      <td>0.5</td>\n",
              "    </tr>\n",
              "    <tr>\n",
              "      <th>Giant Spider Invasion, The</th>\n",
              "      <td>0.5</td>\n",
              "    </tr>\n",
              "    <tr>\n",
              "      <th>In the Name of the King: A Dungeon Siege Tale</th>\n",
              "      <td>0.5</td>\n",
              "    </tr>\n",
              "    <tr>\n",
              "      <th>Captain America II: Death Too Soon</th>\n",
              "      <td>0.5</td>\n",
              "    </tr>\n",
              "    <tr>\n",
              "      <th>My Bloody Valentine</th>\n",
              "      <td>0.5</td>\n",
              "    </tr>\n",
              "    <tr>\n",
              "      <th>Carabineers, The (Carabiniers, Les)</th>\n",
              "      <td>0.5</td>\n",
              "    </tr>\n",
              "    <tr>\n",
              "      <th>Carnival Magic</th>\n",
              "      <td>0.5</td>\n",
              "    </tr>\n",
              "    <tr>\n",
              "      <th>Glitter</th>\n",
              "      <td>0.5</td>\n",
              "    </tr>\n",
              "    <tr>\n",
              "      <th>Idaho Transfer</th>\n",
              "      <td>0.5</td>\n",
              "    </tr>\n",
              "    <tr>\n",
              "      <th>Mortal Kombat: The Journey Begins</th>\n",
              "      <td>0.5</td>\n",
              "    </tr>\n",
              "    <tr>\n",
              "      <th>Call Northside 777</th>\n",
              "      <td>NaN</td>\n",
              "    </tr>\n",
              "    <tr>\n",
              "      <th>Chalet Girl</th>\n",
              "      <td>NaN</td>\n",
              "    </tr>\n",
              "    <tr>\n",
              "      <th>Chosen, The</th>\n",
              "      <td>NaN</td>\n",
              "    </tr>\n",
              "    <tr>\n",
              "      <th>Color of Paradise, The (Rang-e khoda)</th>\n",
              "      <td>NaN</td>\n",
              "    </tr>\n",
              "    <tr>\n",
              "      <th>For All Mankind</th>\n",
              "      <td>NaN</td>\n",
              "    </tr>\n",
              "    <tr>\n",
              "      <th>I Know Where I'm Going!</th>\n",
              "      <td>NaN</td>\n",
              "    </tr>\n",
              "    <tr>\n",
              "      <th>In the Realms of the Unreal</th>\n",
              "      <td>NaN</td>\n",
              "    </tr>\n",
              "    <tr>\n",
              "      <th>Innocents, The</th>\n",
              "      <td>NaN</td>\n",
              "    </tr>\n",
              "    <tr>\n",
              "      <th>Niagara</th>\n",
              "      <td>NaN</td>\n",
              "    </tr>\n",
              "    <tr>\n",
              "      <th>Parallax View, The</th>\n",
              "      <td>NaN</td>\n",
              "    </tr>\n",
              "    <tr>\n",
              "      <th>Road Home, The (Wo de fu qin mu qin)</th>\n",
              "      <td>NaN</td>\n",
              "    </tr>\n",
              "    <tr>\n",
              "      <th>Roaring Twenties, The</th>\n",
              "      <td>NaN</td>\n",
              "    </tr>\n",
              "    <tr>\n",
              "      <th>Scrooge</th>\n",
              "      <td>NaN</td>\n",
              "    </tr>\n",
              "    <tr>\n",
              "      <th>This Gun for Hire</th>\n",
              "      <td>NaN</td>\n",
              "    </tr>\n",
              "    <tr>\n",
              "      <th>Twentieth Century</th>\n",
              "      <td>NaN</td>\n",
              "    </tr>\n",
              "  </tbody>\n",
              "</table>\n",
              "<p>9448 rows × 1 columns</p>\n",
              "</div>"
            ],
            "text/plain": [
              "                                                    rating\n",
              "title                                                     \n",
              "Formula of Love                                        5.0\n",
              "Down Argentine Way                                     5.0\n",
              "Mother (Madeo)                                         5.0\n",
              "Light Years (Gandahar)                                 5.0\n",
              "Tokyo Tribe                                            5.0\n",
              "Hunting Elephants                                      5.0\n",
              "Big Top Scooby-Doo!                                    5.0\n",
              "Into the Forest of Fireflies' Light                    5.0\n",
              "Goodbye Charlie                                        5.0\n",
              "Eichmann                                               5.0\n",
              "Bill Hicks: Revelations                                5.0\n",
              "Moscow Does Not Believe in Tears (Moskva slezam...     5.0\n",
              "All the Vermeers in New York                           5.0\n",
              "Saving Face                                            5.0\n",
              "Martin Lawrence Live: Runteldat                        5.0\n",
              "Lady Jane                                              5.0\n",
              "Who Killed Chea Vichea?                                5.0\n",
              "All Yours                                              5.0\n",
              "Saving Santa                                           5.0\n",
              "Snowflake, the White Gorilla                           5.0\n",
              "Bitter Lake                                            5.0\n",
              "More                                                   5.0\n",
              "Investigation Held by Kolobki                          5.0\n",
              "Dylan Moran: Monster                                   5.0\n",
              "Scooby-Doo Goes Hollywood                              5.0\n",
              "Tom Segura: Completely Normal                          5.0\n",
              "Into the Abyss                                         5.0\n",
              "Man and a Woman, A (Un homme et une femme)             5.0\n",
              "Empties                                                5.0\n",
              "Louis Theroux: Law & Disorder                          5.0\n",
              "...                                                    ...\n",
              "Indestructible Man                                     0.5\n",
              "Pokemon 4 Ever (a.k.a. Pokémon 4: The Movie)           0.5\n",
              "Yongary: Monster from the Deep                         0.5\n",
              "3 Ninjas Knuckle Up                                    0.5\n",
              "Don't Look Now                                         0.5\n",
              "3 dev adam (Three Giant Men)                           0.5\n",
              "Giant Spider Invasion, The                             0.5\n",
              "In the Name of the King: A Dungeon Siege Tale          0.5\n",
              "Captain America II: Death Too Soon                     0.5\n",
              "My Bloody Valentine                                    0.5\n",
              "Carabineers, The (Carabiniers, Les)                    0.5\n",
              "Carnival Magic                                         0.5\n",
              "Glitter                                                0.5\n",
              "Idaho Transfer                                         0.5\n",
              "Mortal Kombat: The Journey Begins                      0.5\n",
              "Call Northside 777                                     NaN\n",
              "Chalet Girl                                            NaN\n",
              "Chosen, The                                            NaN\n",
              "Color of Paradise, The (Rang-e khoda)                  NaN\n",
              "For All Mankind                                        NaN\n",
              "I Know Where I'm Going!                                NaN\n",
              "In the Realms of the Unreal                            NaN\n",
              "Innocents, The                                         NaN\n",
              "Niagara                                                NaN\n",
              "Parallax View, The                                     NaN\n",
              "Road Home, The (Wo de fu qin mu qin)                   NaN\n",
              "Roaring Twenties, The                                  NaN\n",
              "Scrooge                                                NaN\n",
              "This Gun for Hire                                      NaN\n",
              "Twentieth Century                                      NaN\n",
              "\n",
              "[9448 rows x 1 columns]"
            ]
          },
          "metadata": {
            "tags": []
          },
          "execution_count": 27
        }
      ]
    },
    {
      "cell_type": "code",
      "metadata": {
        "id": "2M-SJwVvxS6e",
        "colab_type": "code",
        "outputId": "3682a7c4-120b-41a7-da60-6bd89ef4fc4a",
        "colab": {
          "base_uri": "https://localhost:8080/",
          "height": 1911
        }
      },
      "source": [
        "number_of_rates = df_movie_rates[['title','rating']].groupby('title').size().sort_values(ascending=False).rename('count').to_frame()\n",
        "number_of_rates"
      ],
      "execution_count": 28,
      "outputs": [
        {
          "output_type": "execute_result",
          "data": {
            "text/html": [
              "<div>\n",
              "<style scoped>\n",
              "    .dataframe tbody tr th:only-of-type {\n",
              "        vertical-align: middle;\n",
              "    }\n",
              "\n",
              "    .dataframe tbody tr th {\n",
              "        vertical-align: top;\n",
              "    }\n",
              "\n",
              "    .dataframe thead th {\n",
              "        text-align: right;\n",
              "    }\n",
              "</style>\n",
              "<table border=\"1\" class=\"dataframe\">\n",
              "  <thead>\n",
              "    <tr style=\"text-align: right;\">\n",
              "      <th></th>\n",
              "      <th>count</th>\n",
              "    </tr>\n",
              "    <tr>\n",
              "      <th>title</th>\n",
              "      <th></th>\n",
              "    </tr>\n",
              "  </thead>\n",
              "  <tbody>\n",
              "    <tr>\n",
              "      <th>Forrest Gump</th>\n",
              "      <td>329</td>\n",
              "    </tr>\n",
              "    <tr>\n",
              "      <th>Shawshank Redemption, The</th>\n",
              "      <td>317</td>\n",
              "    </tr>\n",
              "    <tr>\n",
              "      <th>Pulp Fiction</th>\n",
              "      <td>307</td>\n",
              "    </tr>\n",
              "    <tr>\n",
              "      <th>Silence of the Lambs, The</th>\n",
              "      <td>279</td>\n",
              "    </tr>\n",
              "    <tr>\n",
              "      <th>Matrix, The</th>\n",
              "      <td>278</td>\n",
              "    </tr>\n",
              "    <tr>\n",
              "      <th>Star Wars: Episode IV - A New Hope</th>\n",
              "      <td>251</td>\n",
              "    </tr>\n",
              "    <tr>\n",
              "      <th>Jurassic Park</th>\n",
              "      <td>238</td>\n",
              "    </tr>\n",
              "    <tr>\n",
              "      <th>Braveheart</th>\n",
              "      <td>237</td>\n",
              "    </tr>\n",
              "    <tr>\n",
              "      <th>Terminator 2: Judgment Day</th>\n",
              "      <td>224</td>\n",
              "    </tr>\n",
              "    <tr>\n",
              "      <th>Schindler's List</th>\n",
              "      <td>220</td>\n",
              "    </tr>\n",
              "    <tr>\n",
              "      <th>Fight Club</th>\n",
              "      <td>218</td>\n",
              "    </tr>\n",
              "    <tr>\n",
              "      <th>Toy Story</th>\n",
              "      <td>215</td>\n",
              "    </tr>\n",
              "    <tr>\n",
              "      <th>Star Wars: Episode V - The Empire Strikes Back</th>\n",
              "      <td>211</td>\n",
              "    </tr>\n",
              "    <tr>\n",
              "      <th>American Beauty</th>\n",
              "      <td>204</td>\n",
              "    </tr>\n",
              "    <tr>\n",
              "      <th>Usual Suspects, The</th>\n",
              "      <td>204</td>\n",
              "    </tr>\n",
              "    <tr>\n",
              "      <th>Seven (a.k.a. Se7en)</th>\n",
              "      <td>203</td>\n",
              "    </tr>\n",
              "    <tr>\n",
              "      <th>Independence Day (a.k.a. ID4)</th>\n",
              "      <td>202</td>\n",
              "    </tr>\n",
              "    <tr>\n",
              "      <th>Apollo 13</th>\n",
              "      <td>201</td>\n",
              "    </tr>\n",
              "    <tr>\n",
              "      <th>Raiders of the Lost Ark (Indiana Jones and the Raiders of the Lost Ark)</th>\n",
              "      <td>200</td>\n",
              "    </tr>\n",
              "    <tr>\n",
              "      <th>Lord of the Rings: The Fellowship of the Ring, The</th>\n",
              "      <td>198</td>\n",
              "    </tr>\n",
              "    <tr>\n",
              "      <th>Star Wars: Episode VI - Return of the Jedi</th>\n",
              "      <td>196</td>\n",
              "    </tr>\n",
              "    <tr>\n",
              "      <th>Batman</th>\n",
              "      <td>194</td>\n",
              "    </tr>\n",
              "    <tr>\n",
              "      <th>Godfather, The</th>\n",
              "      <td>192</td>\n",
              "    </tr>\n",
              "    <tr>\n",
              "      <th>Fugitive, The</th>\n",
              "      <td>191</td>\n",
              "    </tr>\n",
              "    <tr>\n",
              "      <th>Lord of the Rings: The Two Towers, The</th>\n",
              "      <td>188</td>\n",
              "    </tr>\n",
              "    <tr>\n",
              "      <th>Saving Private Ryan</th>\n",
              "      <td>188</td>\n",
              "    </tr>\n",
              "    <tr>\n",
              "      <th>Lord of the Rings: The Return of the King, The</th>\n",
              "      <td>185</td>\n",
              "    </tr>\n",
              "    <tr>\n",
              "      <th>Aladdin</th>\n",
              "      <td>183</td>\n",
              "    </tr>\n",
              "    <tr>\n",
              "      <th>Fargo</th>\n",
              "      <td>181</td>\n",
              "    </tr>\n",
              "    <tr>\n",
              "      <th>Gladiator</th>\n",
              "      <td>179</td>\n",
              "    </tr>\n",
              "    <tr>\n",
              "      <th>...</th>\n",
              "      <td>...</td>\n",
              "    </tr>\n",
              "    <tr>\n",
              "      <th>Legend of Rita, The (Stille nach dem Schuß, Die)</th>\n",
              "      <td>1</td>\n",
              "    </tr>\n",
              "    <tr>\n",
              "      <th>Legionnaire</th>\n",
              "      <td>1</td>\n",
              "    </tr>\n",
              "    <tr>\n",
              "      <th>Lemonade</th>\n",
              "      <td>1</td>\n",
              "    </tr>\n",
              "    <tr>\n",
              "      <th>Leningrad Cowboys Go America</th>\n",
              "      <td>1</td>\n",
              "    </tr>\n",
              "    <tr>\n",
              "      <th>Leprechaun 2</th>\n",
              "      <td>1</td>\n",
              "    </tr>\n",
              "    <tr>\n",
              "      <th>Leprechaun 3</th>\n",
              "      <td>1</td>\n",
              "    </tr>\n",
              "    <tr>\n",
              "      <th>Leprechaun 4: In Space</th>\n",
              "      <td>1</td>\n",
              "    </tr>\n",
              "    <tr>\n",
              "      <th>Let It Be Me</th>\n",
              "      <td>1</td>\n",
              "    </tr>\n",
              "    <tr>\n",
              "      <th>Let It Snow</th>\n",
              "      <td>1</td>\n",
              "    </tr>\n",
              "    <tr>\n",
              "      <th>Let the Bullets Fly</th>\n",
              "      <td>1</td>\n",
              "    </tr>\n",
              "    <tr>\n",
              "      <th>Le Maître d'école</th>\n",
              "      <td>1</td>\n",
              "    </tr>\n",
              "    <tr>\n",
              "      <th>Latter Days</th>\n",
              "      <td>1</td>\n",
              "    </tr>\n",
              "    <tr>\n",
              "      <th>Last Man on Earth, The (Ultimo uomo della Terra, L')</th>\n",
              "      <td>1</td>\n",
              "    </tr>\n",
              "    <tr>\n",
              "      <th>Late Shift, The</th>\n",
              "      <td>1</td>\n",
              "    </tr>\n",
              "    <tr>\n",
              "      <th>Last Metro, The (Dernier métro, Le)</th>\n",
              "      <td>1</td>\n",
              "    </tr>\n",
              "    <tr>\n",
              "      <th>Last Night</th>\n",
              "      <td>1</td>\n",
              "    </tr>\n",
              "    <tr>\n",
              "      <th>Last Orders</th>\n",
              "      <td>1</td>\n",
              "    </tr>\n",
              "    <tr>\n",
              "      <th>Last Shift</th>\n",
              "      <td>1</td>\n",
              "    </tr>\n",
              "    <tr>\n",
              "      <th>Last Song, The</th>\n",
              "      <td>1</td>\n",
              "    </tr>\n",
              "    <tr>\n",
              "      <th>Last Train Home</th>\n",
              "      <td>1</td>\n",
              "    </tr>\n",
              "    <tr>\n",
              "      <th>Last Waltz, The</th>\n",
              "      <td>1</td>\n",
              "    </tr>\n",
              "    <tr>\n",
              "      <th>Last Wave, The</th>\n",
              "      <td>1</td>\n",
              "    </tr>\n",
              "    <tr>\n",
              "      <th>Last Wedding, The (Kivenpyörittäjän kylä)</th>\n",
              "      <td>1</td>\n",
              "    </tr>\n",
              "    <tr>\n",
              "      <th>Last Winter, The</th>\n",
              "      <td>1</td>\n",
              "    </tr>\n",
              "    <tr>\n",
              "      <th>Last Year's Snow Was Falling</th>\n",
              "      <td>1</td>\n",
              "    </tr>\n",
              "    <tr>\n",
              "      <th>Last of the Dogmen</th>\n",
              "      <td>1</td>\n",
              "    </tr>\n",
              "    <tr>\n",
              "      <th>Late Marriage (Hatuna Meuheret)</th>\n",
              "      <td>1</td>\n",
              "    </tr>\n",
              "    <tr>\n",
              "      <th>Late Night Shopping</th>\n",
              "      <td>1</td>\n",
              "    </tr>\n",
              "    <tr>\n",
              "      <th>Late Night with Conan O'Brien: The Best of Triumph the Insult Comic Dog</th>\n",
              "      <td>1</td>\n",
              "    </tr>\n",
              "    <tr>\n",
              "      <th>'71</th>\n",
              "      <td>1</td>\n",
              "    </tr>\n",
              "  </tbody>\n",
              "</table>\n",
              "<p>9448 rows × 1 columns</p>\n",
              "</div>"
            ],
            "text/plain": [
              "                                                    count\n",
              "title                                                    \n",
              "Forrest Gump                                          329\n",
              "Shawshank Redemption, The                             317\n",
              "Pulp Fiction                                          307\n",
              "Silence of the Lambs, The                             279\n",
              "Matrix, The                                           278\n",
              "Star Wars: Episode IV - A New Hope                    251\n",
              "Jurassic Park                                         238\n",
              "Braveheart                                            237\n",
              "Terminator 2: Judgment Day                            224\n",
              "Schindler's List                                      220\n",
              "Fight Club                                            218\n",
              "Toy Story                                             215\n",
              "Star Wars: Episode V - The Empire Strikes Back        211\n",
              "American Beauty                                       204\n",
              "Usual Suspects, The                                   204\n",
              "Seven (a.k.a. Se7en)                                  203\n",
              "Independence Day (a.k.a. ID4)                         202\n",
              "Apollo 13                                             201\n",
              "Raiders of the Lost Ark (Indiana Jones and the ...    200\n",
              "Lord of the Rings: The Fellowship of the Ring, The    198\n",
              "Star Wars: Episode VI - Return of the Jedi            196\n",
              "Batman                                                194\n",
              "Godfather, The                                        192\n",
              "Fugitive, The                                         191\n",
              "Lord of the Rings: The Two Towers, The                188\n",
              "Saving Private Ryan                                   188\n",
              "Lord of the Rings: The Return of the King, The        185\n",
              "Aladdin                                               183\n",
              "Fargo                                                 181\n",
              "Gladiator                                             179\n",
              "...                                                   ...\n",
              "Legend of Rita, The (Stille nach dem Schuß, Die)        1\n",
              "Legionnaire                                             1\n",
              "Lemonade                                                1\n",
              "Leningrad Cowboys Go America                            1\n",
              "Leprechaun 2                                            1\n",
              "Leprechaun 3                                            1\n",
              "Leprechaun 4: In Space                                  1\n",
              "Let It Be Me                                            1\n",
              "Let It Snow                                             1\n",
              "Let the Bullets Fly                                     1\n",
              "Le Maître d'école                                       1\n",
              "Latter Days                                             1\n",
              "Last Man on Earth, The (Ultimo uomo della Terra...      1\n",
              "Late Shift, The                                         1\n",
              "Last Metro, The (Dernier métro, Le)                     1\n",
              "Last Night                                              1\n",
              "Last Orders                                             1\n",
              "Last Shift                                              1\n",
              "Last Song, The                                          1\n",
              "Last Train Home                                         1\n",
              "Last Waltz, The                                         1\n",
              "Last Wave, The                                          1\n",
              "Last Wedding, The (Kivenpyörittäjän kylä)               1\n",
              "Last Winter, The                                        1\n",
              "Last Year's Snow Was Falling                            1\n",
              "Last of the Dogmen                                      1\n",
              "Late Marriage (Hatuna Meuheret)                         1\n",
              "Late Night Shopping                                     1\n",
              "Late Night with Conan O'Brien: The Best of Triu...      1\n",
              "'71                                                     1\n",
              "\n",
              "[9448 rows x 1 columns]"
            ]
          },
          "metadata": {
            "tags": []
          },
          "execution_count": 28
        }
      ]
    },
    {
      "cell_type": "code",
      "metadata": {
        "id": "0BmFDCQ2ze0l",
        "colab_type": "code",
        "outputId": "db933851-0d11-437b-a354-1212e8745ad0",
        "colab": {
          "base_uri": "https://localhost:8080/",
          "height": 1911
        }
      },
      "source": [
        "avg_rate.join(number_of_rates)"
      ],
      "execution_count": 29,
      "outputs": [
        {
          "output_type": "execute_result",
          "data": {
            "text/html": [
              "<div>\n",
              "<style scoped>\n",
              "    .dataframe tbody tr th:only-of-type {\n",
              "        vertical-align: middle;\n",
              "    }\n",
              "\n",
              "    .dataframe tbody tr th {\n",
              "        vertical-align: top;\n",
              "    }\n",
              "\n",
              "    .dataframe thead th {\n",
              "        text-align: right;\n",
              "    }\n",
              "</style>\n",
              "<table border=\"1\" class=\"dataframe\">\n",
              "  <thead>\n",
              "    <tr style=\"text-align: right;\">\n",
              "      <th></th>\n",
              "      <th>rating</th>\n",
              "      <th>count</th>\n",
              "    </tr>\n",
              "    <tr>\n",
              "      <th>title</th>\n",
              "      <th></th>\n",
              "      <th></th>\n",
              "    </tr>\n",
              "  </thead>\n",
              "  <tbody>\n",
              "    <tr>\n",
              "      <th>Formula of Love</th>\n",
              "      <td>5.0</td>\n",
              "      <td>1</td>\n",
              "    </tr>\n",
              "    <tr>\n",
              "      <th>Down Argentine Way</th>\n",
              "      <td>5.0</td>\n",
              "      <td>1</td>\n",
              "    </tr>\n",
              "    <tr>\n",
              "      <th>Mother (Madeo)</th>\n",
              "      <td>5.0</td>\n",
              "      <td>1</td>\n",
              "    </tr>\n",
              "    <tr>\n",
              "      <th>Light Years (Gandahar)</th>\n",
              "      <td>5.0</td>\n",
              "      <td>1</td>\n",
              "    </tr>\n",
              "    <tr>\n",
              "      <th>Tokyo Tribe</th>\n",
              "      <td>5.0</td>\n",
              "      <td>1</td>\n",
              "    </tr>\n",
              "    <tr>\n",
              "      <th>Hunting Elephants</th>\n",
              "      <td>5.0</td>\n",
              "      <td>1</td>\n",
              "    </tr>\n",
              "    <tr>\n",
              "      <th>Big Top Scooby-Doo!</th>\n",
              "      <td>5.0</td>\n",
              "      <td>1</td>\n",
              "    </tr>\n",
              "    <tr>\n",
              "      <th>Into the Forest of Fireflies' Light</th>\n",
              "      <td>5.0</td>\n",
              "      <td>1</td>\n",
              "    </tr>\n",
              "    <tr>\n",
              "      <th>Goodbye Charlie</th>\n",
              "      <td>5.0</td>\n",
              "      <td>1</td>\n",
              "    </tr>\n",
              "    <tr>\n",
              "      <th>Eichmann</th>\n",
              "      <td>5.0</td>\n",
              "      <td>1</td>\n",
              "    </tr>\n",
              "    <tr>\n",
              "      <th>Bill Hicks: Revelations</th>\n",
              "      <td>5.0</td>\n",
              "      <td>1</td>\n",
              "    </tr>\n",
              "    <tr>\n",
              "      <th>Moscow Does Not Believe in Tears (Moskva slezam ne verit)</th>\n",
              "      <td>5.0</td>\n",
              "      <td>1</td>\n",
              "    </tr>\n",
              "    <tr>\n",
              "      <th>All the Vermeers in New York</th>\n",
              "      <td>5.0</td>\n",
              "      <td>1</td>\n",
              "    </tr>\n",
              "    <tr>\n",
              "      <th>Saving Face</th>\n",
              "      <td>5.0</td>\n",
              "      <td>1</td>\n",
              "    </tr>\n",
              "    <tr>\n",
              "      <th>Martin Lawrence Live: Runteldat</th>\n",
              "      <td>5.0</td>\n",
              "      <td>1</td>\n",
              "    </tr>\n",
              "    <tr>\n",
              "      <th>Lady Jane</th>\n",
              "      <td>5.0</td>\n",
              "      <td>1</td>\n",
              "    </tr>\n",
              "    <tr>\n",
              "      <th>Who Killed Chea Vichea?</th>\n",
              "      <td>5.0</td>\n",
              "      <td>1</td>\n",
              "    </tr>\n",
              "    <tr>\n",
              "      <th>All Yours</th>\n",
              "      <td>5.0</td>\n",
              "      <td>1</td>\n",
              "    </tr>\n",
              "    <tr>\n",
              "      <th>Saving Santa</th>\n",
              "      <td>5.0</td>\n",
              "      <td>1</td>\n",
              "    </tr>\n",
              "    <tr>\n",
              "      <th>Snowflake, the White Gorilla</th>\n",
              "      <td>5.0</td>\n",
              "      <td>1</td>\n",
              "    </tr>\n",
              "    <tr>\n",
              "      <th>Bitter Lake</th>\n",
              "      <td>5.0</td>\n",
              "      <td>1</td>\n",
              "    </tr>\n",
              "    <tr>\n",
              "      <th>More</th>\n",
              "      <td>5.0</td>\n",
              "      <td>1</td>\n",
              "    </tr>\n",
              "    <tr>\n",
              "      <th>Investigation Held by Kolobki</th>\n",
              "      <td>5.0</td>\n",
              "      <td>1</td>\n",
              "    </tr>\n",
              "    <tr>\n",
              "      <th>Dylan Moran: Monster</th>\n",
              "      <td>5.0</td>\n",
              "      <td>1</td>\n",
              "    </tr>\n",
              "    <tr>\n",
              "      <th>Scooby-Doo Goes Hollywood</th>\n",
              "      <td>5.0</td>\n",
              "      <td>1</td>\n",
              "    </tr>\n",
              "    <tr>\n",
              "      <th>Tom Segura: Completely Normal</th>\n",
              "      <td>5.0</td>\n",
              "      <td>1</td>\n",
              "    </tr>\n",
              "    <tr>\n",
              "      <th>Into the Abyss</th>\n",
              "      <td>5.0</td>\n",
              "      <td>1</td>\n",
              "    </tr>\n",
              "    <tr>\n",
              "      <th>Man and a Woman, A (Un homme et une femme)</th>\n",
              "      <td>5.0</td>\n",
              "      <td>1</td>\n",
              "    </tr>\n",
              "    <tr>\n",
              "      <th>Empties</th>\n",
              "      <td>5.0</td>\n",
              "      <td>1</td>\n",
              "    </tr>\n",
              "    <tr>\n",
              "      <th>Louis Theroux: Law &amp; Disorder</th>\n",
              "      <td>5.0</td>\n",
              "      <td>1</td>\n",
              "    </tr>\n",
              "    <tr>\n",
              "      <th>...</th>\n",
              "      <td>...</td>\n",
              "      <td>...</td>\n",
              "    </tr>\n",
              "    <tr>\n",
              "      <th>Indestructible Man</th>\n",
              "      <td>0.5</td>\n",
              "      <td>1</td>\n",
              "    </tr>\n",
              "    <tr>\n",
              "      <th>Pokemon 4 Ever (a.k.a. Pokémon 4: The Movie)</th>\n",
              "      <td>0.5</td>\n",
              "      <td>2</td>\n",
              "    </tr>\n",
              "    <tr>\n",
              "      <th>Yongary: Monster from the Deep</th>\n",
              "      <td>0.5</td>\n",
              "      <td>1</td>\n",
              "    </tr>\n",
              "    <tr>\n",
              "      <th>3 Ninjas Knuckle Up</th>\n",
              "      <td>0.5</td>\n",
              "      <td>1</td>\n",
              "    </tr>\n",
              "    <tr>\n",
              "      <th>Don't Look Now</th>\n",
              "      <td>0.5</td>\n",
              "      <td>1</td>\n",
              "    </tr>\n",
              "    <tr>\n",
              "      <th>3 dev adam (Three Giant Men)</th>\n",
              "      <td>0.5</td>\n",
              "      <td>1</td>\n",
              "    </tr>\n",
              "    <tr>\n",
              "      <th>Giant Spider Invasion, The</th>\n",
              "      <td>0.5</td>\n",
              "      <td>1</td>\n",
              "    </tr>\n",
              "    <tr>\n",
              "      <th>In the Name of the King: A Dungeon Siege Tale</th>\n",
              "      <td>0.5</td>\n",
              "      <td>1</td>\n",
              "    </tr>\n",
              "    <tr>\n",
              "      <th>Captain America II: Death Too Soon</th>\n",
              "      <td>0.5</td>\n",
              "      <td>1</td>\n",
              "    </tr>\n",
              "    <tr>\n",
              "      <th>My Bloody Valentine</th>\n",
              "      <td>0.5</td>\n",
              "      <td>1</td>\n",
              "    </tr>\n",
              "    <tr>\n",
              "      <th>Carabineers, The (Carabiniers, Les)</th>\n",
              "      <td>0.5</td>\n",
              "      <td>1</td>\n",
              "    </tr>\n",
              "    <tr>\n",
              "      <th>Carnival Magic</th>\n",
              "      <td>0.5</td>\n",
              "      <td>1</td>\n",
              "    </tr>\n",
              "    <tr>\n",
              "      <th>Glitter</th>\n",
              "      <td>0.5</td>\n",
              "      <td>1</td>\n",
              "    </tr>\n",
              "    <tr>\n",
              "      <th>Idaho Transfer</th>\n",
              "      <td>0.5</td>\n",
              "      <td>1</td>\n",
              "    </tr>\n",
              "    <tr>\n",
              "      <th>Mortal Kombat: The Journey Begins</th>\n",
              "      <td>0.5</td>\n",
              "      <td>1</td>\n",
              "    </tr>\n",
              "    <tr>\n",
              "      <th>Call Northside 777</th>\n",
              "      <td>NaN</td>\n",
              "      <td>1</td>\n",
              "    </tr>\n",
              "    <tr>\n",
              "      <th>Chalet Girl</th>\n",
              "      <td>NaN</td>\n",
              "      <td>1</td>\n",
              "    </tr>\n",
              "    <tr>\n",
              "      <th>Chosen, The</th>\n",
              "      <td>NaN</td>\n",
              "      <td>1</td>\n",
              "    </tr>\n",
              "    <tr>\n",
              "      <th>Color of Paradise, The (Rang-e khoda)</th>\n",
              "      <td>NaN</td>\n",
              "      <td>1</td>\n",
              "    </tr>\n",
              "    <tr>\n",
              "      <th>For All Mankind</th>\n",
              "      <td>NaN</td>\n",
              "      <td>1</td>\n",
              "    </tr>\n",
              "    <tr>\n",
              "      <th>I Know Where I'm Going!</th>\n",
              "      <td>NaN</td>\n",
              "      <td>1</td>\n",
              "    </tr>\n",
              "    <tr>\n",
              "      <th>In the Realms of the Unreal</th>\n",
              "      <td>NaN</td>\n",
              "      <td>1</td>\n",
              "    </tr>\n",
              "    <tr>\n",
              "      <th>Innocents, The</th>\n",
              "      <td>NaN</td>\n",
              "      <td>1</td>\n",
              "    </tr>\n",
              "    <tr>\n",
              "      <th>Niagara</th>\n",
              "      <td>NaN</td>\n",
              "      <td>1</td>\n",
              "    </tr>\n",
              "    <tr>\n",
              "      <th>Parallax View, The</th>\n",
              "      <td>NaN</td>\n",
              "      <td>1</td>\n",
              "    </tr>\n",
              "    <tr>\n",
              "      <th>Road Home, The (Wo de fu qin mu qin)</th>\n",
              "      <td>NaN</td>\n",
              "      <td>1</td>\n",
              "    </tr>\n",
              "    <tr>\n",
              "      <th>Roaring Twenties, The</th>\n",
              "      <td>NaN</td>\n",
              "      <td>1</td>\n",
              "    </tr>\n",
              "    <tr>\n",
              "      <th>Scrooge</th>\n",
              "      <td>NaN</td>\n",
              "      <td>1</td>\n",
              "    </tr>\n",
              "    <tr>\n",
              "      <th>This Gun for Hire</th>\n",
              "      <td>NaN</td>\n",
              "      <td>1</td>\n",
              "    </tr>\n",
              "    <tr>\n",
              "      <th>Twentieth Century</th>\n",
              "      <td>NaN</td>\n",
              "      <td>1</td>\n",
              "    </tr>\n",
              "  </tbody>\n",
              "</table>\n",
              "<p>9448 rows × 2 columns</p>\n",
              "</div>"
            ],
            "text/plain": [
              "                                                    rating  count\n",
              "title                                                            \n",
              "Formula of Love                                        5.0      1\n",
              "Down Argentine Way                                     5.0      1\n",
              "Mother (Madeo)                                         5.0      1\n",
              "Light Years (Gandahar)                                 5.0      1\n",
              "Tokyo Tribe                                            5.0      1\n",
              "Hunting Elephants                                      5.0      1\n",
              "Big Top Scooby-Doo!                                    5.0      1\n",
              "Into the Forest of Fireflies' Light                    5.0      1\n",
              "Goodbye Charlie                                        5.0      1\n",
              "Eichmann                                               5.0      1\n",
              "Bill Hicks: Revelations                                5.0      1\n",
              "Moscow Does Not Believe in Tears (Moskva slezam...     5.0      1\n",
              "All the Vermeers in New York                           5.0      1\n",
              "Saving Face                                            5.0      1\n",
              "Martin Lawrence Live: Runteldat                        5.0      1\n",
              "Lady Jane                                              5.0      1\n",
              "Who Killed Chea Vichea?                                5.0      1\n",
              "All Yours                                              5.0      1\n",
              "Saving Santa                                           5.0      1\n",
              "Snowflake, the White Gorilla                           5.0      1\n",
              "Bitter Lake                                            5.0      1\n",
              "More                                                   5.0      1\n",
              "Investigation Held by Kolobki                          5.0      1\n",
              "Dylan Moran: Monster                                   5.0      1\n",
              "Scooby-Doo Goes Hollywood                              5.0      1\n",
              "Tom Segura: Completely Normal                          5.0      1\n",
              "Into the Abyss                                         5.0      1\n",
              "Man and a Woman, A (Un homme et une femme)             5.0      1\n",
              "Empties                                                5.0      1\n",
              "Louis Theroux: Law & Disorder                          5.0      1\n",
              "...                                                    ...    ...\n",
              "Indestructible Man                                     0.5      1\n",
              "Pokemon 4 Ever (a.k.a. Pokémon 4: The Movie)           0.5      2\n",
              "Yongary: Monster from the Deep                         0.5      1\n",
              "3 Ninjas Knuckle Up                                    0.5      1\n",
              "Don't Look Now                                         0.5      1\n",
              "3 dev adam (Three Giant Men)                           0.5      1\n",
              "Giant Spider Invasion, The                             0.5      1\n",
              "In the Name of the King: A Dungeon Siege Tale          0.5      1\n",
              "Captain America II: Death Too Soon                     0.5      1\n",
              "My Bloody Valentine                                    0.5      1\n",
              "Carabineers, The (Carabiniers, Les)                    0.5      1\n",
              "Carnival Magic                                         0.5      1\n",
              "Glitter                                                0.5      1\n",
              "Idaho Transfer                                         0.5      1\n",
              "Mortal Kombat: The Journey Begins                      0.5      1\n",
              "Call Northside 777                                     NaN      1\n",
              "Chalet Girl                                            NaN      1\n",
              "Chosen, The                                            NaN      1\n",
              "Color of Paradise, The (Rang-e khoda)                  NaN      1\n",
              "For All Mankind                                        NaN      1\n",
              "I Know Where I'm Going!                                NaN      1\n",
              "In the Realms of the Unreal                            NaN      1\n",
              "Innocents, The                                         NaN      1\n",
              "Niagara                                                NaN      1\n",
              "Parallax View, The                                     NaN      1\n",
              "Road Home, The (Wo de fu qin mu qin)                   NaN      1\n",
              "Roaring Twenties, The                                  NaN      1\n",
              "Scrooge                                                NaN      1\n",
              "This Gun for Hire                                      NaN      1\n",
              "Twentieth Century                                      NaN      1\n",
              "\n",
              "[9448 rows x 2 columns]"
            ]
          },
          "metadata": {
            "tags": []
          },
          "execution_count": 29
        }
      ]
    },
    {
      "cell_type": "markdown",
      "metadata": {
        "id": "pAE_YbT96SGd",
        "colab_type": "text"
      },
      "source": [
        "Obtenemos todas las valoraciones realizada por cada usuario"
      ]
    },
    {
      "cell_type": "code",
      "metadata": {
        "id": "TcXKDtVS6Mra",
        "colab_type": "code",
        "outputId": "225b4f5f-290d-4a66-924a-9a574cb33d5d",
        "colab": {
          "base_uri": "https://localhost:8080/",
          "height": 274
        }
      },
      "source": [
        "df_each_user_ratings = df_ratings \\\n",
        "  .pivot(index=\"userId\", columns=\"movieId\", values=\"rating\") \\\n",
        "  .fillna(0)\n",
        "\n",
        "df_each_user_ratings.head()"
      ],
      "execution_count": 30,
      "outputs": [
        {
          "output_type": "execute_result",
          "data": {
            "text/html": [
              "<div>\n",
              "<style scoped>\n",
              "    .dataframe tbody tr th:only-of-type {\n",
              "        vertical-align: middle;\n",
              "    }\n",
              "\n",
              "    .dataframe tbody tr th {\n",
              "        vertical-align: top;\n",
              "    }\n",
              "\n",
              "    .dataframe thead th {\n",
              "        text-align: right;\n",
              "    }\n",
              "</style>\n",
              "<table border=\"1\" class=\"dataframe\">\n",
              "  <thead>\n",
              "    <tr style=\"text-align: right;\">\n",
              "      <th>movieId</th>\n",
              "      <th>1</th>\n",
              "      <th>2</th>\n",
              "      <th>3</th>\n",
              "      <th>4</th>\n",
              "      <th>5</th>\n",
              "      <th>6</th>\n",
              "      <th>7</th>\n",
              "      <th>8</th>\n",
              "      <th>9</th>\n",
              "      <th>10</th>\n",
              "      <th>11</th>\n",
              "      <th>12</th>\n",
              "      <th>13</th>\n",
              "      <th>14</th>\n",
              "      <th>15</th>\n",
              "      <th>16</th>\n",
              "      <th>17</th>\n",
              "      <th>18</th>\n",
              "      <th>19</th>\n",
              "      <th>20</th>\n",
              "      <th>21</th>\n",
              "      <th>22</th>\n",
              "      <th>23</th>\n",
              "      <th>24</th>\n",
              "      <th>25</th>\n",
              "      <th>26</th>\n",
              "      <th>27</th>\n",
              "      <th>28</th>\n",
              "      <th>29</th>\n",
              "      <th>30</th>\n",
              "      <th>31</th>\n",
              "      <th>32</th>\n",
              "      <th>34</th>\n",
              "      <th>36</th>\n",
              "      <th>38</th>\n",
              "      <th>39</th>\n",
              "      <th>40</th>\n",
              "      <th>41</th>\n",
              "      <th>42</th>\n",
              "      <th>43</th>\n",
              "      <th>...</th>\n",
              "      <th>185135</th>\n",
              "      <th>185435</th>\n",
              "      <th>185473</th>\n",
              "      <th>185585</th>\n",
              "      <th>186587</th>\n",
              "      <th>187031</th>\n",
              "      <th>187541</th>\n",
              "      <th>187593</th>\n",
              "      <th>187595</th>\n",
              "      <th>187717</th>\n",
              "      <th>188189</th>\n",
              "      <th>188301</th>\n",
              "      <th>188675</th>\n",
              "      <th>188751</th>\n",
              "      <th>188797</th>\n",
              "      <th>188833</th>\n",
              "      <th>189043</th>\n",
              "      <th>189111</th>\n",
              "      <th>189333</th>\n",
              "      <th>189381</th>\n",
              "      <th>189547</th>\n",
              "      <th>189713</th>\n",
              "      <th>190183</th>\n",
              "      <th>190207</th>\n",
              "      <th>190209</th>\n",
              "      <th>190213</th>\n",
              "      <th>190215</th>\n",
              "      <th>190219</th>\n",
              "      <th>190221</th>\n",
              "      <th>191005</th>\n",
              "      <th>193565</th>\n",
              "      <th>193567</th>\n",
              "      <th>193571</th>\n",
              "      <th>193573</th>\n",
              "      <th>193579</th>\n",
              "      <th>193581</th>\n",
              "      <th>193583</th>\n",
              "      <th>193585</th>\n",
              "      <th>193587</th>\n",
              "      <th>193609</th>\n",
              "    </tr>\n",
              "    <tr>\n",
              "      <th>userId</th>\n",
              "      <th></th>\n",
              "      <th></th>\n",
              "      <th></th>\n",
              "      <th></th>\n",
              "      <th></th>\n",
              "      <th></th>\n",
              "      <th></th>\n",
              "      <th></th>\n",
              "      <th></th>\n",
              "      <th></th>\n",
              "      <th></th>\n",
              "      <th></th>\n",
              "      <th></th>\n",
              "      <th></th>\n",
              "      <th></th>\n",
              "      <th></th>\n",
              "      <th></th>\n",
              "      <th></th>\n",
              "      <th></th>\n",
              "      <th></th>\n",
              "      <th></th>\n",
              "      <th></th>\n",
              "      <th></th>\n",
              "      <th></th>\n",
              "      <th></th>\n",
              "      <th></th>\n",
              "      <th></th>\n",
              "      <th></th>\n",
              "      <th></th>\n",
              "      <th></th>\n",
              "      <th></th>\n",
              "      <th></th>\n",
              "      <th></th>\n",
              "      <th></th>\n",
              "      <th></th>\n",
              "      <th></th>\n",
              "      <th></th>\n",
              "      <th></th>\n",
              "      <th></th>\n",
              "      <th></th>\n",
              "      <th></th>\n",
              "      <th></th>\n",
              "      <th></th>\n",
              "      <th></th>\n",
              "      <th></th>\n",
              "      <th></th>\n",
              "      <th></th>\n",
              "      <th></th>\n",
              "      <th></th>\n",
              "      <th></th>\n",
              "      <th></th>\n",
              "      <th></th>\n",
              "      <th></th>\n",
              "      <th></th>\n",
              "      <th></th>\n",
              "      <th></th>\n",
              "      <th></th>\n",
              "      <th></th>\n",
              "      <th></th>\n",
              "      <th></th>\n",
              "      <th></th>\n",
              "      <th></th>\n",
              "      <th></th>\n",
              "      <th></th>\n",
              "      <th></th>\n",
              "      <th></th>\n",
              "      <th></th>\n",
              "      <th></th>\n",
              "      <th></th>\n",
              "      <th></th>\n",
              "      <th></th>\n",
              "      <th></th>\n",
              "      <th></th>\n",
              "      <th></th>\n",
              "      <th></th>\n",
              "      <th></th>\n",
              "      <th></th>\n",
              "      <th></th>\n",
              "      <th></th>\n",
              "      <th></th>\n",
              "      <th></th>\n",
              "    </tr>\n",
              "  </thead>\n",
              "  <tbody>\n",
              "    <tr>\n",
              "      <th>1</th>\n",
              "      <td>4.0</td>\n",
              "      <td>0.0</td>\n",
              "      <td>4.0</td>\n",
              "      <td>0.0</td>\n",
              "      <td>0.0</td>\n",
              "      <td>4.0</td>\n",
              "      <td>0.0</td>\n",
              "      <td>0.0</td>\n",
              "      <td>0.0</td>\n",
              "      <td>0.0</td>\n",
              "      <td>0.0</td>\n",
              "      <td>0.0</td>\n",
              "      <td>0.0</td>\n",
              "      <td>0.0</td>\n",
              "      <td>0.0</td>\n",
              "      <td>0.0</td>\n",
              "      <td>0.0</td>\n",
              "      <td>0.0</td>\n",
              "      <td>0.0</td>\n",
              "      <td>0.0</td>\n",
              "      <td>0.0</td>\n",
              "      <td>0.0</td>\n",
              "      <td>0.0</td>\n",
              "      <td>0.0</td>\n",
              "      <td>0.0</td>\n",
              "      <td>0.0</td>\n",
              "      <td>0.0</td>\n",
              "      <td>0.0</td>\n",
              "      <td>0.0</td>\n",
              "      <td>0.0</td>\n",
              "      <td>0.0</td>\n",
              "      <td>0.0</td>\n",
              "      <td>0.0</td>\n",
              "      <td>0.0</td>\n",
              "      <td>0.0</td>\n",
              "      <td>0.0</td>\n",
              "      <td>0.0</td>\n",
              "      <td>0.0</td>\n",
              "      <td>0.0</td>\n",
              "      <td>0.0</td>\n",
              "      <td>...</td>\n",
              "      <td>0.0</td>\n",
              "      <td>0.0</td>\n",
              "      <td>0.0</td>\n",
              "      <td>0.0</td>\n",
              "      <td>0.0</td>\n",
              "      <td>0.0</td>\n",
              "      <td>0.0</td>\n",
              "      <td>0.0</td>\n",
              "      <td>0.0</td>\n",
              "      <td>0.0</td>\n",
              "      <td>0.0</td>\n",
              "      <td>0.0</td>\n",
              "      <td>0.0</td>\n",
              "      <td>0.0</td>\n",
              "      <td>0.0</td>\n",
              "      <td>0.0</td>\n",
              "      <td>0.0</td>\n",
              "      <td>0.0</td>\n",
              "      <td>0.0</td>\n",
              "      <td>0.0</td>\n",
              "      <td>0.0</td>\n",
              "      <td>0.0</td>\n",
              "      <td>0.0</td>\n",
              "      <td>0.0</td>\n",
              "      <td>0.0</td>\n",
              "      <td>0.0</td>\n",
              "      <td>0.0</td>\n",
              "      <td>0.0</td>\n",
              "      <td>0.0</td>\n",
              "      <td>0.0</td>\n",
              "      <td>0.0</td>\n",
              "      <td>0.0</td>\n",
              "      <td>0.0</td>\n",
              "      <td>0.0</td>\n",
              "      <td>0.0</td>\n",
              "      <td>0.0</td>\n",
              "      <td>0.0</td>\n",
              "      <td>0.0</td>\n",
              "      <td>0.0</td>\n",
              "      <td>0.0</td>\n",
              "    </tr>\n",
              "    <tr>\n",
              "      <th>2</th>\n",
              "      <td>0.0</td>\n",
              "      <td>0.0</td>\n",
              "      <td>0.0</td>\n",
              "      <td>0.0</td>\n",
              "      <td>0.0</td>\n",
              "      <td>0.0</td>\n",
              "      <td>0.0</td>\n",
              "      <td>0.0</td>\n",
              "      <td>0.0</td>\n",
              "      <td>0.0</td>\n",
              "      <td>0.0</td>\n",
              "      <td>0.0</td>\n",
              "      <td>0.0</td>\n",
              "      <td>0.0</td>\n",
              "      <td>0.0</td>\n",
              "      <td>0.0</td>\n",
              "      <td>0.0</td>\n",
              "      <td>0.0</td>\n",
              "      <td>0.0</td>\n",
              "      <td>0.0</td>\n",
              "      <td>0.0</td>\n",
              "      <td>0.0</td>\n",
              "      <td>0.0</td>\n",
              "      <td>0.0</td>\n",
              "      <td>0.0</td>\n",
              "      <td>0.0</td>\n",
              "      <td>0.0</td>\n",
              "      <td>0.0</td>\n",
              "      <td>0.0</td>\n",
              "      <td>0.0</td>\n",
              "      <td>0.0</td>\n",
              "      <td>0.0</td>\n",
              "      <td>0.0</td>\n",
              "      <td>0.0</td>\n",
              "      <td>0.0</td>\n",
              "      <td>0.0</td>\n",
              "      <td>0.0</td>\n",
              "      <td>0.0</td>\n",
              "      <td>0.0</td>\n",
              "      <td>0.0</td>\n",
              "      <td>...</td>\n",
              "      <td>0.0</td>\n",
              "      <td>0.0</td>\n",
              "      <td>0.0</td>\n",
              "      <td>0.0</td>\n",
              "      <td>0.0</td>\n",
              "      <td>0.0</td>\n",
              "      <td>0.0</td>\n",
              "      <td>0.0</td>\n",
              "      <td>0.0</td>\n",
              "      <td>0.0</td>\n",
              "      <td>0.0</td>\n",
              "      <td>0.0</td>\n",
              "      <td>0.0</td>\n",
              "      <td>0.0</td>\n",
              "      <td>0.0</td>\n",
              "      <td>0.0</td>\n",
              "      <td>0.0</td>\n",
              "      <td>0.0</td>\n",
              "      <td>0.0</td>\n",
              "      <td>0.0</td>\n",
              "      <td>0.0</td>\n",
              "      <td>0.0</td>\n",
              "      <td>0.0</td>\n",
              "      <td>0.0</td>\n",
              "      <td>0.0</td>\n",
              "      <td>0.0</td>\n",
              "      <td>0.0</td>\n",
              "      <td>0.0</td>\n",
              "      <td>0.0</td>\n",
              "      <td>0.0</td>\n",
              "      <td>0.0</td>\n",
              "      <td>0.0</td>\n",
              "      <td>0.0</td>\n",
              "      <td>0.0</td>\n",
              "      <td>0.0</td>\n",
              "      <td>0.0</td>\n",
              "      <td>0.0</td>\n",
              "      <td>0.0</td>\n",
              "      <td>0.0</td>\n",
              "      <td>0.0</td>\n",
              "    </tr>\n",
              "    <tr>\n",
              "      <th>3</th>\n",
              "      <td>0.0</td>\n",
              "      <td>0.0</td>\n",
              "      <td>0.0</td>\n",
              "      <td>0.0</td>\n",
              "      <td>0.0</td>\n",
              "      <td>0.0</td>\n",
              "      <td>0.0</td>\n",
              "      <td>0.0</td>\n",
              "      <td>0.0</td>\n",
              "      <td>0.0</td>\n",
              "      <td>0.0</td>\n",
              "      <td>0.0</td>\n",
              "      <td>0.0</td>\n",
              "      <td>0.0</td>\n",
              "      <td>0.0</td>\n",
              "      <td>0.0</td>\n",
              "      <td>0.0</td>\n",
              "      <td>0.0</td>\n",
              "      <td>0.0</td>\n",
              "      <td>0.0</td>\n",
              "      <td>0.0</td>\n",
              "      <td>0.0</td>\n",
              "      <td>0.0</td>\n",
              "      <td>0.0</td>\n",
              "      <td>0.0</td>\n",
              "      <td>0.0</td>\n",
              "      <td>0.0</td>\n",
              "      <td>0.0</td>\n",
              "      <td>0.0</td>\n",
              "      <td>0.0</td>\n",
              "      <td>0.5</td>\n",
              "      <td>0.0</td>\n",
              "      <td>0.0</td>\n",
              "      <td>0.0</td>\n",
              "      <td>0.0</td>\n",
              "      <td>0.0</td>\n",
              "      <td>0.0</td>\n",
              "      <td>0.0</td>\n",
              "      <td>0.0</td>\n",
              "      <td>0.0</td>\n",
              "      <td>...</td>\n",
              "      <td>0.0</td>\n",
              "      <td>0.0</td>\n",
              "      <td>0.0</td>\n",
              "      <td>0.0</td>\n",
              "      <td>0.0</td>\n",
              "      <td>0.0</td>\n",
              "      <td>0.0</td>\n",
              "      <td>0.0</td>\n",
              "      <td>0.0</td>\n",
              "      <td>0.0</td>\n",
              "      <td>0.0</td>\n",
              "      <td>0.0</td>\n",
              "      <td>0.0</td>\n",
              "      <td>0.0</td>\n",
              "      <td>0.0</td>\n",
              "      <td>0.0</td>\n",
              "      <td>0.0</td>\n",
              "      <td>0.0</td>\n",
              "      <td>0.0</td>\n",
              "      <td>0.0</td>\n",
              "      <td>0.0</td>\n",
              "      <td>0.0</td>\n",
              "      <td>0.0</td>\n",
              "      <td>0.0</td>\n",
              "      <td>0.0</td>\n",
              "      <td>0.0</td>\n",
              "      <td>0.0</td>\n",
              "      <td>0.0</td>\n",
              "      <td>0.0</td>\n",
              "      <td>0.0</td>\n",
              "      <td>0.0</td>\n",
              "      <td>0.0</td>\n",
              "      <td>0.0</td>\n",
              "      <td>0.0</td>\n",
              "      <td>0.0</td>\n",
              "      <td>0.0</td>\n",
              "      <td>0.0</td>\n",
              "      <td>0.0</td>\n",
              "      <td>0.0</td>\n",
              "      <td>0.0</td>\n",
              "    </tr>\n",
              "    <tr>\n",
              "      <th>4</th>\n",
              "      <td>0.0</td>\n",
              "      <td>0.0</td>\n",
              "      <td>0.0</td>\n",
              "      <td>0.0</td>\n",
              "      <td>0.0</td>\n",
              "      <td>0.0</td>\n",
              "      <td>0.0</td>\n",
              "      <td>0.0</td>\n",
              "      <td>0.0</td>\n",
              "      <td>0.0</td>\n",
              "      <td>0.0</td>\n",
              "      <td>0.0</td>\n",
              "      <td>0.0</td>\n",
              "      <td>0.0</td>\n",
              "      <td>0.0</td>\n",
              "      <td>0.0</td>\n",
              "      <td>0.0</td>\n",
              "      <td>0.0</td>\n",
              "      <td>0.0</td>\n",
              "      <td>0.0</td>\n",
              "      <td>3.0</td>\n",
              "      <td>0.0</td>\n",
              "      <td>0.0</td>\n",
              "      <td>0.0</td>\n",
              "      <td>0.0</td>\n",
              "      <td>0.0</td>\n",
              "      <td>0.0</td>\n",
              "      <td>0.0</td>\n",
              "      <td>0.0</td>\n",
              "      <td>0.0</td>\n",
              "      <td>0.0</td>\n",
              "      <td>2.0</td>\n",
              "      <td>0.0</td>\n",
              "      <td>0.0</td>\n",
              "      <td>0.0</td>\n",
              "      <td>0.0</td>\n",
              "      <td>0.0</td>\n",
              "      <td>0.0</td>\n",
              "      <td>0.0</td>\n",
              "      <td>0.0</td>\n",
              "      <td>...</td>\n",
              "      <td>0.0</td>\n",
              "      <td>0.0</td>\n",
              "      <td>0.0</td>\n",
              "      <td>0.0</td>\n",
              "      <td>0.0</td>\n",
              "      <td>0.0</td>\n",
              "      <td>0.0</td>\n",
              "      <td>0.0</td>\n",
              "      <td>0.0</td>\n",
              "      <td>0.0</td>\n",
              "      <td>0.0</td>\n",
              "      <td>0.0</td>\n",
              "      <td>0.0</td>\n",
              "      <td>0.0</td>\n",
              "      <td>0.0</td>\n",
              "      <td>0.0</td>\n",
              "      <td>0.0</td>\n",
              "      <td>0.0</td>\n",
              "      <td>0.0</td>\n",
              "      <td>0.0</td>\n",
              "      <td>0.0</td>\n",
              "      <td>0.0</td>\n",
              "      <td>0.0</td>\n",
              "      <td>0.0</td>\n",
              "      <td>0.0</td>\n",
              "      <td>0.0</td>\n",
              "      <td>0.0</td>\n",
              "      <td>0.0</td>\n",
              "      <td>0.0</td>\n",
              "      <td>0.0</td>\n",
              "      <td>0.0</td>\n",
              "      <td>0.0</td>\n",
              "      <td>0.0</td>\n",
              "      <td>0.0</td>\n",
              "      <td>0.0</td>\n",
              "      <td>0.0</td>\n",
              "      <td>0.0</td>\n",
              "      <td>0.0</td>\n",
              "      <td>0.0</td>\n",
              "      <td>0.0</td>\n",
              "    </tr>\n",
              "    <tr>\n",
              "      <th>5</th>\n",
              "      <td>4.0</td>\n",
              "      <td>0.0</td>\n",
              "      <td>0.0</td>\n",
              "      <td>0.0</td>\n",
              "      <td>0.0</td>\n",
              "      <td>0.0</td>\n",
              "      <td>0.0</td>\n",
              "      <td>0.0</td>\n",
              "      <td>0.0</td>\n",
              "      <td>0.0</td>\n",
              "      <td>0.0</td>\n",
              "      <td>0.0</td>\n",
              "      <td>0.0</td>\n",
              "      <td>0.0</td>\n",
              "      <td>0.0</td>\n",
              "      <td>0.0</td>\n",
              "      <td>0.0</td>\n",
              "      <td>0.0</td>\n",
              "      <td>0.0</td>\n",
              "      <td>0.0</td>\n",
              "      <td>4.0</td>\n",
              "      <td>0.0</td>\n",
              "      <td>0.0</td>\n",
              "      <td>0.0</td>\n",
              "      <td>0.0</td>\n",
              "      <td>0.0</td>\n",
              "      <td>0.0</td>\n",
              "      <td>0.0</td>\n",
              "      <td>0.0</td>\n",
              "      <td>0.0</td>\n",
              "      <td>0.0</td>\n",
              "      <td>0.0</td>\n",
              "      <td>4.0</td>\n",
              "      <td>4.0</td>\n",
              "      <td>0.0</td>\n",
              "      <td>3.0</td>\n",
              "      <td>0.0</td>\n",
              "      <td>0.0</td>\n",
              "      <td>0.0</td>\n",
              "      <td>0.0</td>\n",
              "      <td>...</td>\n",
              "      <td>0.0</td>\n",
              "      <td>0.0</td>\n",
              "      <td>0.0</td>\n",
              "      <td>0.0</td>\n",
              "      <td>0.0</td>\n",
              "      <td>0.0</td>\n",
              "      <td>0.0</td>\n",
              "      <td>0.0</td>\n",
              "      <td>0.0</td>\n",
              "      <td>0.0</td>\n",
              "      <td>0.0</td>\n",
              "      <td>0.0</td>\n",
              "      <td>0.0</td>\n",
              "      <td>0.0</td>\n",
              "      <td>0.0</td>\n",
              "      <td>0.0</td>\n",
              "      <td>0.0</td>\n",
              "      <td>0.0</td>\n",
              "      <td>0.0</td>\n",
              "      <td>0.0</td>\n",
              "      <td>0.0</td>\n",
              "      <td>0.0</td>\n",
              "      <td>0.0</td>\n",
              "      <td>0.0</td>\n",
              "      <td>0.0</td>\n",
              "      <td>0.0</td>\n",
              "      <td>0.0</td>\n",
              "      <td>0.0</td>\n",
              "      <td>0.0</td>\n",
              "      <td>0.0</td>\n",
              "      <td>0.0</td>\n",
              "      <td>0.0</td>\n",
              "      <td>0.0</td>\n",
              "      <td>0.0</td>\n",
              "      <td>0.0</td>\n",
              "      <td>0.0</td>\n",
              "      <td>0.0</td>\n",
              "      <td>0.0</td>\n",
              "      <td>0.0</td>\n",
              "      <td>0.0</td>\n",
              "    </tr>\n",
              "  </tbody>\n",
              "</table>\n",
              "<p>5 rows × 9724 columns</p>\n",
              "</div>"
            ],
            "text/plain": [
              "movieId  1       2       3       4       ...  193583  193585  193587  193609\n",
              "userId                                   ...                                \n",
              "1           4.0     0.0     4.0     0.0  ...     0.0     0.0     0.0     0.0\n",
              "2           0.0     0.0     0.0     0.0  ...     0.0     0.0     0.0     0.0\n",
              "3           0.0     0.0     0.0     0.0  ...     0.0     0.0     0.0     0.0\n",
              "4           0.0     0.0     0.0     0.0  ...     0.0     0.0     0.0     0.0\n",
              "5           4.0     0.0     0.0     0.0  ...     0.0     0.0     0.0     0.0\n",
              "\n",
              "[5 rows x 9724 columns]"
            ]
          },
          "metadata": {
            "tags": []
          },
          "execution_count": 30
        }
      ]
    },
    {
      "cell_type": "markdown",
      "metadata": {
        "id": "9A7E45GHxIN0",
        "colab_type": "text"
      },
      "source": [
        "### Data visualization"
      ]
    },
    {
      "cell_type": "markdown",
      "metadata": {
        "id": "o258V_hf58N-",
        "colab_type": "text"
      },
      "source": [
        "Como se distribuyen las valoraciones de los usuarios entre las películas"
      ]
    },
    {
      "cell_type": "code",
      "metadata": {
        "id": "shCZ02ygznAO",
        "colab_type": "code",
        "outputId": "f746565e-6d88-4755-e377-7e41103ceaca",
        "colab": {
          "base_uri": "https://localhost:8080/",
          "height": 292
        }
      },
      "source": [
        "df_movie_rates[['title','rating']] \\\n",
        "  .rating.value_counts() \\\n",
        "  .sort_index(ascending=False) \\\n",
        "  .plot(kind='bar')\n"
      ],
      "execution_count": 31,
      "outputs": [
        {
          "output_type": "execute_result",
          "data": {
            "text/plain": [
              "<matplotlib.axes._subplots.AxesSubplot at 0x7fa05776f860>"
            ]
          },
          "metadata": {
            "tags": []
          },
          "execution_count": 31
        },
        {
          "output_type": "display_data",
          "data": {
            "image/png": "[encoded data removed]",
            "text/plain": [
              "<Figure size 432x288 with 1 Axes>"
            ]
          },
          "metadata": {
            "tags": []
          }
        }
      ]
    },
    {
      "cell_type": "markdown",
      "metadata": {
        "id": "F_D7e08U700h",
        "colab_type": "text"
      },
      "source": [
        "Número de valoraciones por los usuarios"
      ]
    },
    {
      "cell_type": "code",
      "metadata": {
        "id": "fUu_nzDS57Hf",
        "colab_type": "code",
        "outputId": "6bea6414-c75c-4d90-e072-7a65b5999a01",
        "colab": {
          "base_uri": "https://localhost:8080/",
          "height": 438
        }
      },
      "source": [
        "df_ratings[['userId','rating']] \\\n",
        "  .groupby('userId') \\\n",
        "  .count() \\\n",
        "  .sort_values(by='rating',ascending=False) \\\n",
        "  .plot(kind='bar',figsize=(20,6))"
      ],
      "execution_count": 32,
      "outputs": [
        {
          "output_type": "execute_result",
          "data": {
            "text/plain": [
              "<matplotlib.axes._subplots.AxesSubplot at 0x7fa057740160>"
            ]
          },
          "metadata": {
            "tags": []
          },
          "execution_count": 32
        },
        {
          "output_type": "display_data",
          "data": {
            "image/png": "[encoded data removed]",
            "text/plain": [
              "<Figure size 1440x432 with 1 Axes>"
            ]
          },
          "metadata": {
            "tags": []
          }
        }
      ]
    },
    {
      "cell_type": "markdown",
      "metadata": {
        "id": "Y-JuRQM9ctIE",
        "colab_type": "text"
      },
      "source": [
        "Hacemos zoom para mostrar el número de valoraciones de los 100 usuarios que más valoraciones han realizado"
      ]
    },
    {
      "cell_type": "code",
      "metadata": {
        "id": "SuO-POJxEgob",
        "colab_type": "code",
        "outputId": "11c5afca-cead-4fe4-fe99-9e37c6c1f2e4",
        "colab": {
          "base_uri": "https://localhost:8080/",
          "height": 438
        }
      },
      "source": [
        "df_ratings[['userId','rating']] \\\n",
        "  .groupby('userId') \\\n",
        "  .count() \\\n",
        "  .sort_values(by='rating',ascending=False)[0:100] \\\n",
        "  .plot(kind='bar',figsize=(20,6))"
      ],
      "execution_count": 33,
      "outputs": [
        {
          "output_type": "execute_result",
          "data": {
            "text/plain": [
              "<matplotlib.axes._subplots.AxesSubplot at 0x7fa0536ca6d8>"
            ]
          },
          "metadata": {
            "tags": []
          },
          "execution_count": 33
        },
        {
          "output_type": "display_data",
          "data": {
            "image/png": "[encoded data removed]",
            "text/plain": [
              "<Figure size 1440x432 with 1 Axes>"
            ]
          },
          "metadata": {
            "tags": []
          }
        }
      ]
    },
    {
      "cell_type": "markdown",
      "metadata": {
        "id": "UdAqn9GSc0yK",
        "colab_type": "text"
      },
      "source": [
        "Ahora hacemos zoom, para ver los 100 usuarios del dataset que menos valoraciones han realizado"
      ]
    },
    {
      "cell_type": "code",
      "metadata": {
        "id": "fb8Y-IT9xHss",
        "colab_type": "code",
        "outputId": "67d320be-484c-40fd-f1a5-f2bca94063e5",
        "colab": {
          "base_uri": "https://localhost:8080/",
          "height": 438
        }
      },
      "source": [
        "df_ratings[['userId','rating']] \\\n",
        "  .groupby('userId') \\\n",
        "  .count() \\\n",
        "  .sort_values(by='rating',ascending=False)[-100:] \\\n",
        "  .plot(kind='bar',figsize=(20,6))"
      ],
      "execution_count": 34,
      "outputs": [
        {
          "output_type": "execute_result",
          "data": {
            "text/plain": [
              "<matplotlib.axes._subplots.AxesSubplot at 0x7fa052d2bcf8>"
            ]
          },
          "metadata": {
            "tags": []
          },
          "execution_count": 34
        },
        {
          "output_type": "display_data",
          "data": {
            "image/png": "[encoded data removed]",
            "text/plain": [
              "<Figure size 1440x432 with 1 Axes>"
            ]
          },
          "metadata": {
            "tags": []
          }
        }
      ]
    },
    {
      "cell_type": "markdown",
      "metadata": {
        "id": "JEienyohmYZp",
        "colab_type": "text"
      },
      "source": [
        "Esta última gráfica resulta interesante, porque se puede ver que el dataset ha sido preparado de forma que todos los usuarios que realizasen menos de 20 valoraciones han sido excluidos, por lo tanto podemos asumir que partimos de un mínimo de información sobre los gustos de cada usuario del dataset"
      ]
    },
    {
      "cell_type": "markdown",
      "metadata": {
        "id": "kfqAEBYYbMo6",
        "colab_type": "text"
      },
      "source": [
        "# Factorización de Matrices"
      ]
    },
    {
      "cell_type": "markdown",
      "metadata": {
        "id": "zcOgfPVDbUkB",
        "colab_type": "text"
      },
      "source": [
        "Aqui procedere a explica la tećnica utilizada para la generación de recomendaciones individuales y a usarla"
      ]
    },
    {
      "cell_type": "markdown",
      "metadata": {
        "id": "vYLP_qzWbQwy",
        "colab_type": "text"
      },
      "source": [
        "## Singular Value Decomposition"
      ]
    },
    {
      "cell_type": "markdown",
      "metadata": {
        "id": "dpyaXrNCbhCw",
        "colab_type": "text"
      },
      "source": [
        "*Singular Value Decomposition* o *SVD*, es una técnia que factorización de matrices que proclamaa que dara una matriz **A**, esta puede descomponerse de la siguiente forma:\n",
        "\n",
        "$A_{m \\times n} \\approx U_{m \\times r} \\Sigma_{r \\times r} V_{n \\times r}^{T}$\n",
        "\n",
        "Donde:\n",
        "\n",
        "- $A$: es la matriz con los datos de entrada a factorizar\n",
        "  - matriz $m$ x $n$ ($m$ documentos, $n$ terminos)\n",
        "- $U$: es la matriz izquierda de vectores de valores singulares\n",
        "  -  matriz $m$ x $r$ ($m$ documentos, $r$ conceptos/ratings)\n",
        "- $\\Sigma$: valores singulares\n",
        "  -  matriz diagonal $r$ x $r$ (representa el peso de cada concepto)\n",
        "  - $r$; rango de la matriz $A$\n",
        "- $V$: es la matriz derecha de vectores de valores singulares\n",
        "  - matriz $n$ x $r$ ($n$ terminos, $r$ conceptos/ratings)\n",
        "  \n",
        "En la *figura 1* podemos ver un ejemplo de la representación de las matrices aplicado a *NLP* (Natural Language Processing), en el que las columnas de la matriz $A$ representan frases y las filas representan (mediante un índice) la pertenencia de una palabra a las diferentes frases.\n",
        "  \n",
        "![figura1: imagen ilustrando las matrices](https://www.researchgate.net/profile/Sadaoki_Furui/publication/228735398/figure/fig1/AS:393708286562313@1470878778585/Application-of-Singular-Value-Decomposition-SVD-to-each-presentation.png)\n",
        "\n",
        "*figura1: imagen ilustrando las matrices*\n",
        "\n",
        "\n",
        "\n"
      ]
    },
    {
      "cell_type": "markdown",
      "metadata": {
        "id": "ufMgj5frpQsR",
        "colab_type": "text"
      },
      "source": [
        "## Propiedades\n",
        "\n",
        "SVD establece que **siempre** es posible descomponen la matriz $A$ en $A \\approx U \\Sigma V$, de tal forma que:\n",
        "\n",
        "- $U, \\Sigma, V$: son únicas\n",
        "- $U, V$: tienen columnas ortonormales\n",
        "  - $U^{T} U = I, V^{T} V = I$\n",
        "  - Las columnas son vectores unitarios ortogonales\n",
        "- $\\Sigma$: diagonal\n",
        "  - Las entradas (valores singulares) son positivas y se encuentran ordenadas decrecientemente ($\\sigma_1 \\geq \\sigma_2 \\geq ... \\geq  0  $)\n",
        "  "
      ]
    },
    {
      "cell_type": "markdown",
      "metadata": {
        "id": "4DCq8AH3trrb",
        "colab_type": "text"
      },
      "source": [
        "## Como realizar la factorización\n",
        "\n",
        "Una vez explicado en que consiste *SVD*, el siguiente paso es plantearse como realizar el proceso  de decomposición de la matriz A. Esto se puede plantear como un proceso de optimización en el que vamos generando matrices $U$ y $V$ a la vez que observamos como la matriz resultante $\\hat{A}$ difiere de la matriz original $A$, donde para ello podemos utilizar una métrica de error como el RMSE.\n",
        "\n",
        "$error(A,U,V) = RMSE(A.\\hat{A})= RMSE(A.UV)$\n",
        "\n",
        "$RMSE(A.UV)) = \\sqrt{\\sum_{u,i} (\\hat{r}_{ui} - r_{ui})^2}$ donde $\\hat{r} \\in UV$ y $r \\in A$\n",
        "\n",
        "Se puede ver que se está obviando la matriz diagonal $\\Sigma$ en este proceso, esto se debe a que en la práctica, podemos considerar que esta matriz ya se encuentra integrada en las matrices $U$ y $V$, simplicando así las operaciones necesarias para el proceso de obtención de dichas matrices.\n",
        "\n",
        "Ahora que tenemos una métrica de error y planteado el problema, podemos aplicar un mecanismo de optimización como SGD (Stochastic Gradiand Descend) e ir iterando de forma que, en cada iteración, generemos un nuevo par de matrices $U$ y $V$ guiadas por el descenso del gradiente, que traten de minimizar el error cometido al generar la matriz $\\hat{A}$\n",
        "\n"
      ]
    },
    {
      "cell_type": "markdown",
      "metadata": {
        "id": "NCgnBGpb2G0O",
        "colab_type": "text"
      },
      "source": [
        "### Implementación simple"
      ]
    },
    {
      "cell_type": "code",
      "metadata": {
        "id": "Url5RCoX3dRJ",
        "colab_type": "code",
        "outputId": "f8aeab96-c9a1-42d7-e83d-ad828e4fb3c7",
        "colab": {
          "base_uri": "https://localhost:8080/",
          "height": 185
        }
      },
      "source": [
        "import numpy as np\n",
        "\n",
        "np.random.seed(1337)\n",
        "\n",
        "A = np.random.rand(10, 10)\n",
        "A = A * A\n",
        "\n",
        "# prettify print options for matrix\n",
        "np.set_printoptions(formatter={'float': '{: 0.3f}'.format})\n",
        "print(A)\n",
        "\n",
        "# set print options back to normal\n",
        "np.set_printoptions(edgeitems=3,infstr='inf', linewidth=75, nanstr='nan', precision=8, suppress=False, threshold=1000, formatter=None)\n"
      ],
      "execution_count": 35,
      "outputs": [
        {
          "output_type": "stream",
          "text": [
            "[[ 0.069  0.025  0.077  0.211  0.103  0.269  0.069  0.953  0.537  0.013]\n",
            " [ 0.149  0.395  0.016  0.967  0.196  0.623  0.631  0.131  0.173  0.341]\n",
            " [ 0.578  0.035  0.083  0.449  0.250  0.032  0.171  0.040  0.283  0.693]\n",
            " [ 0.034  0.917  0.181  0.254  0.261  0.000  0.535  0.987  0.027  0.016]\n",
            " [ 0.141  0.481  0.000  0.136  0.003  0.623  0.122  0.494  0.241  0.946]\n",
            " [ 0.699  0.372  0.319  0.995  0.065  0.000  0.008  0.882  0.948  0.242]\n",
            " [ 0.116  0.523  0.000  0.578  0.451  0.036  0.444  0.830  0.026  0.829]\n",
            " [ 0.105  0.490  0.070  0.269  0.031  0.219  0.202  0.157  0.627  0.243]\n",
            " [ 0.524  0.629  0.124  0.827  0.508  0.805  0.177  0.219  0.817  0.401]\n",
            " [ 0.284  0.056  0.896  0.313  0.574  0.056  0.185  0.155  0.261  0.016]]\n"
          ],
          "name": "stdout"
        }
      ]
    },
    {
      "cell_type": "code",
      "metadata": {
        "id": "jBh9chmIbTCs",
        "colab_type": "code",
        "colab": {}
      },
      "source": [
        "def simple_SGD(data,n_factors = 10, alpha = .01, n_epochs = 10):\n",
        "  '''Learn the vectors p_u and q_i with SGD.\n",
        "     data is the user-item matrix\n",
        "     n_factor is the number of latent factors to use\n",
        "     alppha is the learning rate of the SGD\n",
        "     n_epochs is the number of iterations to run the algorithm\n",
        "  '''\n",
        "  shape = np.shape(data)\n",
        "  n_users = shape[0]\n",
        "  n_items = shape[1]\n",
        "\n",
        "  # Randomly initialize the user and item factors.\n",
        "  p = np.random.normal(0, .1, (n_users, n_factors))\n",
        "  q = np.random.normal(0, .1, (n_items, n_factors))\n",
        "\n",
        "  # Optimization procedure\n",
        "  for _ in range(n_epochs):\n",
        "      for (u, i), r_ui in np.ndenumerate(data):\n",
        "          err = r_ui - np.dot(p[u], q[i])\n",
        "          # Update vectors p_u and q_i\n",
        "          p[u] += alpha * err * q[i]\n",
        "          q[i] += alpha * err * p[u]\n",
        "\n",
        "  return p,q\n",
        "            \n",
        "def rmse(U,V):\n",
        "  errors = U - V\n",
        "  return np.sqrt(np.sum(errors*errors) / errors.size)\n",
        "  \n",
        "  \n",
        "  \n",
        "n_factors = 5 # number o latent factors\n",
        "alpha = .01 # learning rate\n",
        "n_epochs = 5000 # number of iteration of the SGD procedure\n",
        "\n",
        "u,v = simple_SGD(A,n_factors,alpha,n_epochs)"
      ],
      "execution_count": 0,
      "outputs": []
    },
    {
      "cell_type": "code",
      "metadata": {
        "id": "Vxo4Q9zXe5Sy",
        "colab_type": "code",
        "outputId": "f98c9ef8-9c25-4a6e-ab89-d69f8bbd33e1",
        "colab": {
          "base_uri": "https://localhost:8080/",
          "height": 733
        }
      },
      "source": [
        "import seaborn as sns\n",
        "import matplotlib.pylab as plt\n",
        "\n",
        "print(\"RMSE: {}\".format(rmse(A,u.dot(v.T))))\n",
        "\n",
        "plt.subplots(figsize=(12,12))\n",
        "plt.subplot(321)\n",
        "ax = sns.heatmap(u, linewidth=0.5, vmin=-1, vmax=1, cmap=\"coolwarm\").set_title(\"Matrix U\")\n",
        "plt.subplot(322)\n",
        "ax = sns.heatmap(v, linewidth=0.5, vmin=-1, vmax=1, cmap=\"coolwarm\").set_title(\"Matrix V\")\n",
        "plt.subplot(323)\n",
        "ax = sns.heatmap(A, linewidth=0.5, vmin=-1, vmax=1, cmap=\"coolwarm\").set_title(\"Matrix A\")\n",
        "plt.subplot(324)\n",
        "ax = sns.heatmap(u.dot(v.T), linewidth=0.5, vmin=-1, vmax=1, cmap=\"coolwarm\").set_title(\"Matrix A'\")\n",
        "plt.subplot(325)\n",
        "ax = sns.heatmap(A - u.dot(v.T), linewidth=0.5, vmin=-1, vmax=1, cmap=\"coolwarm\").set_title(\"Matrix A - A'\")\n",
        "\n",
        "plt.subplots_adjust(hspace=0.25, wspace=0.07)\n",
        "plt.show()"
      ],
      "execution_count": 37,
      "outputs": [
        {
          "output_type": "stream",
          "text": [
            "RMSE: 0.10888291026731306\n"
          ],
          "name": "stdout"
        },
        {
          "output_type": "display_data",
          "data": {
            "image/png": "[encoded data removed]",
            "text/plain": [
              "<Figure size 864x864 with 10 Axes>"
            ]
          },
          "metadata": {
            "tags": []
          }
        }
      ]
    },
    {
      "cell_type": "markdown",
      "metadata": {
        "id": "wtMey3G0Vb4c",
        "colab_type": "text"
      },
      "source": [
        "## Adaptación para matrices dispersas"
      ]
    },
    {
      "cell_type": "markdown",
      "metadata": {
        "id": "Ip3qwORNVfpS",
        "colab_type": "text"
      },
      "source": [
        "El algoritmo propuesto cumple con su cometido en el caso de que le proporcionemos una matriz a factorizar que no sea dispersa, pero el problema  nos los encontramos cuando tratamos de aplicar dicho método sobre una matriz dispersa, ya que para valoraciones de las que no disponemos en la matriz, no podemos calcular el error que cometemos.\n",
        "\n",
        "La solución a esta casuística resulta bastante sencilla, simplemente calculamos las matrices $U$ y $V$ teniendo en cuenta únicamente las valoraciones que tenemos para calcular el gradiente y los factores latentes que componen las matrices $U$ y $V$. Si tenemos suficientes valoraciones, los factores latentes se ajustarán de tal forma que representen los gustos de los usuarios y las películas, lo que dará lugar a que sea capaz de generar recomendaciones adecuadas. "
      ]
    },
    {
      "cell_type": "markdown",
      "metadata": {
        "id": "dOXXcIamdn_e",
        "colab_type": "text"
      },
      "source": [
        "### Implementación"
      ]
    },
    {
      "cell_type": "code",
      "metadata": {
        "id": "l443m4GVdnPg",
        "colab_type": "code",
        "outputId": "ff89fcd0-1762-4de9-866f-ce77ea6f9a28",
        "colab": {
          "base_uri": "https://localhost:8080/",
          "height": 0
        }
      },
      "source": [
        "import numpy as np\n",
        "\n",
        "import seaborn as sns\n",
        "import matplotlib.pylab as plt\n",
        "\n",
        "np.random.seed(1337)\n",
        "\n",
        "A = np.random.rand(10, 10)\n",
        "A = A * A\n",
        "\n",
        "A[0,1:5] = 0\n",
        "A[1,5:9] = 0\n",
        "\n",
        "# prettify print options for matrix\n",
        "np.set_printoptions(formatter={'float': '{: 0.3f}'.format})\n",
        "print(A)\n",
        "\n",
        "# set print options back to normal\n",
        "np.set_printoptions(edgeitems=3,infstr='inf', linewidth=75, nanstr='nan', precision=8, suppress=False, threshold=1000, formatter=None)\n"
      ],
      "execution_count": 38,
      "outputs": [
        {
          "output_type": "stream",
          "text": [
            "[[ 0.069  0.000  0.000  0.000  0.000  0.269  0.069  0.953  0.537  0.013]\n",
            " [ 0.149  0.395  0.016  0.967  0.196  0.000  0.000  0.000  0.000  0.341]\n",
            " [ 0.578  0.035  0.083  0.449  0.250  0.032  0.171  0.040  0.283  0.693]\n",
            " [ 0.034  0.917  0.181  0.254  0.261  0.000  0.535  0.987  0.027  0.016]\n",
            " [ 0.141  0.481  0.000  0.136  0.003  0.623  0.122  0.494  0.241  0.946]\n",
            " [ 0.699  0.372  0.319  0.995  0.065  0.000  0.008  0.882  0.948  0.242]\n",
            " [ 0.116  0.523  0.000  0.578  0.451  0.036  0.444  0.830  0.026  0.829]\n",
            " [ 0.105  0.490  0.070  0.269  0.031  0.219  0.202  0.157  0.627  0.243]\n",
            " [ 0.524  0.629  0.124  0.827  0.508  0.805  0.177  0.219  0.817  0.401]\n",
            " [ 0.284  0.056  0.896  0.313  0.574  0.056  0.185  0.155  0.261  0.016]]\n"
          ],
          "name": "stdout"
        }
      ]
    },
    {
      "cell_type": "code",
      "metadata": {
        "id": "O-xTDhAdeFVF",
        "colab_type": "code",
        "outputId": "6d272eb2-f216-4b8b-aa08-c6e71cd444bf",
        "colab": {
          "base_uri": "https://localhost:8080/",
          "height": 0
        }
      },
      "source": [
        "def simple_SGD2(data,n_factors = 10, alpha = .01, n_epochs = 10):\n",
        "  '''Learn the vectors p_u and q_i with SGD.\n",
        "     data is the user-item matrix\n",
        "     n_factor is the number of latent factors to use\n",
        "     alppha is the learning rate of the SGD\n",
        "     n_epochs is the number of iterations to run the algorithm\n",
        "  '''\n",
        "  print(type(data))\n",
        "  \n",
        "  shape = np.shape(data)\n",
        "  n_users = shape[0]\n",
        "  n_items = shape[1]\n",
        "\n",
        "  # Randomly initialize the user and item factors.\n",
        "  p = np.random.normal(0, .1, (n_users, n_factors))\n",
        "  q = np.random.normal(0, .1, (n_items, n_factors))\n",
        "\n",
        "  # Optimization procedure\n",
        "  for _ in range(n_epochs):\n",
        "      for (u, i), r_ui in np.ndenumerate(data):\n",
        "          if(r_ui > 0):\n",
        "            err = r_ui - np.dot(p[u], q[i])\n",
        "            # Update vectors p_u and q_i\n",
        "            p[u] += alpha * err * q[i]\n",
        "            q[i] += alpha * err * p[u]\n",
        "\n",
        "  return p,q\n",
        "            \n",
        "def rmse(U,V):\n",
        "  errors = U - V\n",
        "  return np.sqrt(np.sum(errors*errors) / errors.size)\n",
        "  \n",
        "  \n",
        "  \n",
        "n_factors = 5 # number o latent factors\n",
        "alpha = .01 # learning rate\n",
        "n_epochs = 5000 # number of iteration of the SGD procedure\n",
        "\n",
        "u,v = simple_SGD2(A,n_factors,alpha,n_epochs)"
      ],
      "execution_count": 39,
      "outputs": [
        {
          "output_type": "stream",
          "text": [
            "<class 'numpy.ndarray'>\n"
          ],
          "name": "stdout"
        }
      ]
    },
    {
      "cell_type": "code",
      "metadata": {
        "id": "Y1YPzzjqgxJR",
        "colab_type": "code",
        "outputId": "7ba3ed2d-a93e-405e-af65-bcff9f7dffec",
        "colab": {
          "base_uri": "https://localhost:8080/",
          "height": 0
        }
      },
      "source": [
        "import seaborn as sns\n",
        "import matplotlib.pylab as plt\n",
        "\n",
        "print(\"RMSE: {}\".format(rmse(A,u.dot(v.T))))\n",
        "\n",
        "plt.subplots(figsize=(12,12))\n",
        "plt.subplot(321)\n",
        "ax = sns.heatmap(u, linewidth=0.5, vmin=-1, vmax=1, cmap=\"coolwarm\").set_title(\"Matrix U\")\n",
        "plt.subplot(322)\n",
        "ax = sns.heatmap(v, linewidth=0.5, vmin=-1, vmax=1, cmap=\"coolwarm\").set_title(\"Matrix V\")\n",
        "plt.subplot(323)\n",
        "ax = sns.heatmap(A, linewidth=0.5, vmin=-1, vmax=1, cmap=\"coolwarm\").set_title(\"Matrix A\")\n",
        "plt.subplot(324)\n",
        "ax = sns.heatmap(u.dot(v.T), linewidth=0.5, vmin=-1, vmax=1, cmap=\"coolwarm\").set_title(\"Matrix A'\")\n",
        "plt.subplot(325)\n",
        "ax = sns.heatmap(A - u.dot(v.T), linewidth=0.5, vmin=-1, vmax=1, cmap=\"coolwarm\").set_title(\"Matrix A - A'\")\n",
        "\n",
        "plt.subplots_adjust(hspace=0.25, wspace=0.07)\n",
        "plt.show()"
      ],
      "execution_count": 40,
      "outputs": [
        {
          "output_type": "stream",
          "text": [
            "RMSE: 0.27191355220596636\n"
          ],
          "name": "stdout"
        },
        {
          "output_type": "display_data",
          "data": {
            "image/png": "[encoded data removed]",
            "text/plain": [
              "<Figure size 864x864 with 10 Axes>"
            ]
          },
          "metadata": {
            "tags": []
          }
        }
      ]
    },
    {
      "cell_type": "code",
      "metadata": {
        "id": "Z2tushRthIcW",
        "colab_type": "code",
        "outputId": "cfdefd6a-a3e8-4827-8536-9c487d589baf",
        "colab": {
          "base_uri": "https://localhost:8080/",
          "height": 0
        }
      },
      "source": [
        "# prettify print options for matrix\n",
        "np.set_printoptions(formatter={'float': '{: 0.3f}'.format})\n",
        "print(\"Matriz original de valoraciones\")\n",
        "print(A)\n",
        "print(\"\\nMatriz aprendida mediante la factorización\")\n",
        "print(u.dot(v.T))\n",
        "# set print options back to normal\n",
        "np.set_printoptions(edgeitems=3,infstr='inf', linewidth=75, nanstr='nan', precision=8, suppress=False, threshold=1000, formatter=None)\n"
      ],
      "execution_count": 41,
      "outputs": [
        {
          "output_type": "stream",
          "text": [
            "Matriz original de valoraciones\n",
            "[[ 0.069  0.000  0.000  0.000  0.000  0.269  0.069  0.953  0.537  0.013]\n",
            " [ 0.149  0.395  0.016  0.967  0.196  0.000  0.000  0.000  0.000  0.341]\n",
            " [ 0.578  0.035  0.083  0.449  0.250  0.032  0.171  0.040  0.283  0.693]\n",
            " [ 0.034  0.917  0.181  0.254  0.261  0.000  0.535  0.987  0.027  0.016]\n",
            " [ 0.141  0.481  0.000  0.136  0.003  0.623  0.122  0.494  0.241  0.946]\n",
            " [ 0.699  0.372  0.319  0.995  0.065  0.000  0.008  0.882  0.948  0.242]\n",
            " [ 0.116  0.523  0.000  0.578  0.451  0.036  0.444  0.830  0.026  0.829]\n",
            " [ 0.105  0.490  0.070  0.269  0.031  0.219  0.202  0.157  0.627  0.243]\n",
            " [ 0.524  0.629  0.124  0.827  0.508  0.805  0.177  0.219  0.817  0.401]\n",
            " [ 0.284  0.056  0.896  0.313  0.574  0.056  0.185  0.155  0.261  0.016]]\n",
            "\n",
            "Matriz aprendida mediante la factorización\n",
            "[[ 0.051  0.891 -0.467  0.427 -0.357  0.255  0.087  0.943  0.556  0.019]\n",
            " [ 0.181  0.405  0.034  0.942  0.173 -1.209  0.489  1.963 -0.186  0.347]\n",
            " [ 0.436 -0.051  0.138  0.488  0.263  0.110  0.066  0.120  0.296  0.709]\n",
            " [-0.083  0.871  0.194  0.298  0.289  0.030  0.483  1.015  0.050  0.026]\n",
            " [ 0.151  0.543 -0.195  0.260  0.141  0.560  0.233  0.358  0.221  0.878]\n",
            " [ 0.686  0.397  0.223  1.061  0.137 -0.030  0.058  0.818  0.943  0.210]\n",
            " [ 0.187  0.525  0.072  0.496  0.375  0.040  0.437  0.868  0.021  0.851]\n",
            " [ 0.211  0.432  0.043  0.321  0.077  0.376  0.082  0.253  0.463  0.168]\n",
            " [ 0.540  0.641  0.296  0.668  0.351  0.759  0.167  0.265  0.898  0.492]\n",
            " [ 0.314  0.089  0.792  0.371  0.641  0.028  0.250  0.087  0.239 -0.026]]\n"
          ],
          "name": "stdout"
        }
      ]
    },
    {
      "cell_type": "markdown",
      "metadata": {
        "id": "MP3vov7cPvqa",
        "colab_type": "text"
      },
      "source": [
        "# Generación de predicciones"
      ]
    },
    {
      "cell_type": "markdown",
      "metadata": {
        "id": "Zk_ZFjxtPvwD",
        "colab_type": "text"
      },
      "source": [
        "Lo primero es realizar la factorización de matrices sobre la matriz de valoraciones de usuarios aplicando SVD"
      ]
    },
    {
      "cell_type": "code",
      "metadata": {
        "id": "h0cUIMiTQCsI",
        "colab_type": "code",
        "outputId": "609162ee-8f55-404a-9cf4-a007a4e0ec80",
        "colab": {
          "base_uri": "https://localhost:8080/",
          "height": 34
        }
      },
      "source": [
        "n_factors = 50\n",
        "alpha = 0.01\n",
        "n_epochs = 100\n",
        "u,v = simple_SGD2(df_each_user_ratings, n_factors, alpha, n_epochs)"
      ],
      "execution_count": 42,
      "outputs": [
        {
          "output_type": "stream",
          "text": [
            "<class 'pandas.core.frame.DataFrame'>\n"
          ],
          "name": "stdout"
        }
      ]
    },
    {
      "cell_type": "markdown",
      "metadata": {
        "id": "lQ8rJulyMLJF",
        "colab_type": "text"
      },
      "source": [
        "De cara a generar las recomendaciones para un usuario, llega con multiplica la fila correspondiente al usuario en la matriz que contiene los factores latentes de los usuarios($U[usuario,]$), por matriz traspuestas que contiene todos la factores latentes de las películas ($V^T$),"
      ]
    },
    {
      "cell_type": "code",
      "metadata": {
        "id": "rc0PEk-1Nvyg",
        "colab_type": "code",
        "colab": {
          "base_uri": "https://localhost:8080/",
          "height": 34
        },
        "outputId": "5c377cec-ffcf-433b-92e0-d117a449404d"
      },
      "source": [
        "u[0].shape"
      ],
      "execution_count": 43,
      "outputs": [
        {
          "output_type": "execute_result",
          "data": {
            "text/plain": [
              "(50,)"
            ]
          },
          "metadata": {
            "tags": []
          },
          "execution_count": 43
        }
      ]
    },
    {
      "cell_type": "code",
      "metadata": {
        "id": "PWxD2Fg6NyrO",
        "colab_type": "code",
        "colab": {
          "base_uri": "https://localhost:8080/",
          "height": 34
        },
        "outputId": "b5c584a6-3638-4a7e-8511-55882ea840c6"
      },
      "source": [
        "v.T.shape"
      ],
      "execution_count": 44,
      "outputs": [
        {
          "output_type": "execute_result",
          "data": {
            "text/plain": [
              "(50, 9724)"
            ]
          },
          "metadata": {
            "tags": []
          },
          "execution_count": 44
        }
      ]
    },
    {
      "cell_type": "code",
      "metadata": {
        "id": "vFjMm-6CN4HI",
        "colab_type": "code",
        "colab": {
          "base_uri": "https://localhost:8080/",
          "height": 50
        },
        "outputId": "4f90ed2a-349f-4dac-a805-d41f618a3173"
      },
      "source": [
        "u[0].dot(v.T)"
      ],
      "execution_count": 45,
      "outputs": [
        {
          "output_type": "execute_result",
          "data": {
            "text/plain": [
              "array([4.21591503, 3.79842813, 4.12853265, ..., 1.64174382, 2.47908129,\n",
              "       3.21313069])"
            ]
          },
          "metadata": {
            "tags": []
          },
          "execution_count": 45
        }
      ]
    },
    {
      "cell_type": "markdown",
      "metadata": {
        "id": "bmZlPEvHN6h0",
        "colab_type": "text"
      },
      "source": [
        "Si queremos generar todas las recomendaciones, para todos los usuarios, llegaría con multiplicar la matriz $U$ con $V^T$. Que podemos ver que tiene las mismas dimensiones que la matriz de valoraciones original"
      ]
    },
    {
      "cell_type": "code",
      "metadata": {
        "id": "1VjRoVapRtBe",
        "colab_type": "code",
        "outputId": "e01bbe11-589d-45ae-d324-c62e6f1a1a10",
        "colab": {
          "base_uri": "https://localhost:8080/",
          "height": 34
        }
      },
      "source": [
        "u.dot(v.T).shape"
      ],
      "execution_count": 46,
      "outputs": [
        {
          "output_type": "execute_result",
          "data": {
            "text/plain": [
              "(610, 9724)"
            ]
          },
          "metadata": {
            "tags": []
          },
          "execution_count": 46
        }
      ]
    },
    {
      "cell_type": "code",
      "metadata": {
        "id": "HeOyNsUfSp6U",
        "colab_type": "code",
        "outputId": "cc7cfb7f-6648-413d-d496-3f94c2468fd9",
        "colab": {
          "base_uri": "https://localhost:8080/",
          "height": 34
        }
      },
      "source": [
        "df_each_user_ratings.shape"
      ],
      "execution_count": 47,
      "outputs": [
        {
          "output_type": "execute_result",
          "data": {
            "text/plain": [
              "(610, 9724)"
            ]
          },
          "metadata": {
            "tags": []
          },
          "execution_count": 47
        }
      ]
    },
    {
      "cell_type": "markdown",
      "metadata": {
        "id": "53XnNd-drb4O",
        "colab_type": "text"
      },
      "source": [
        "# Tecnicas de recomendación para grupos\n",
        "\n",
        "Dado que el dataset no contiene grupos como tal y muchos menos existen valoraciones explicitas realizadas por un grupo de usuarios(que permitiría abordar el problema simplemente tratando los grupos como usuarios), para la generación de recomendaciones grupales, se ha preferido optar por la exploración de agregaciones de las recomendaciones individuales de los usuarios que conforman un grupo. Además este tipo de agregaciones se puede aplicar sobre cualquier grupo de usuarios, sin necesidad de tener información previa del propio grupo, es decir, siempre podemos generar recomendaciones ante una nueva combinación de usuarios que se acabe de formar.\n",
        "\n",
        "Lo primero que necesitamos para explorar estas agregaciones, es formar un grupo de usuarios que solicitan que les recomienden películas"
      ]
    },
    {
      "cell_type": "code",
      "metadata": {
        "id": "LR6_-z9MrtSD",
        "colab_type": "code",
        "outputId": "7dca3ad8-bc0a-4961-d7ce-9292f28af432",
        "colab": {
          "base_uri": "https://localhost:8080/",
          "height": 34
        }
      },
      "source": [
        "total_users = u.shape[0]\n",
        "group_size = 5\n",
        "\n",
        "users = np.random.randint(total_users, size=group_size)\n",
        "users"
      ],
      "execution_count": 48,
      "outputs": [
        {
          "output_type": "execute_result",
          "data": {
            "text/plain": [
              "array([383,  95, 366,  98, 477])"
            ]
          },
          "metadata": {
            "tags": []
          },
          "execution_count": 48
        }
      ]
    },
    {
      "cell_type": "markdown",
      "metadata": {
        "id": "X-uiwKj9Yh8A",
        "colab_type": "text"
      },
      "source": [
        "A continuación podemos ver los factores latentes de cada usuario que conforma el grupo aleatorio que se acaba de crear"
      ]
    },
    {
      "cell_type": "code",
      "metadata": {
        "id": "7KzaRM1JrtOB",
        "colab_type": "code",
        "outputId": "b216763a-45d8-47fa-c640-51e342e27af3",
        "colab": {
          "base_uri": "https://localhost:8080/",
          "height": 1445
        }
      },
      "source": [
        "group_latent_factors = u[users]\n",
        "group_latent_factors"
      ],
      "execution_count": 49,
      "outputs": [
        {
          "output_type": "execute_result",
          "data": {
            "text/plain": [
              "array([[ 1.12346363e+00,  1.23025842e-01,  2.48649284e-02,\n",
              "        -5.78537232e-01,  4.70591683e-01,  1.25625866e+00,\n",
              "         8.13316513e-01,  1.01539615e-01, -8.90614313e-02,\n",
              "        -2.69570662e-01,  5.73283369e-01, -5.97172664e-02,\n",
              "        -2.89190149e-01,  1.38697126e-01,  4.79102876e-01,\n",
              "        -3.63304413e-01, -1.10059738e+00, -1.33656809e-01,\n",
              "        -7.89061633e-01,  3.87304716e-01,  8.09312336e-03,\n",
              "         1.80737735e-01, -3.11223671e-01, -2.91140426e-01,\n",
              "         6.45881121e-01, -4.32242684e-01,  1.68279346e-01,\n",
              "         6.90765220e-01, -2.16574216e-02, -1.94788958e-01,\n",
              "        -1.21009076e-01,  1.02591955e+00,  3.83810220e-01,\n",
              "        -6.48064231e-01,  1.22849215e-01, -7.36432750e-01,\n",
              "        -6.07146870e-01,  6.69298463e-01, -3.49748528e-02,\n",
              "        -3.06670989e-02,  1.41724746e-01, -1.87137870e-02,\n",
              "         4.57159967e-01,  5.04796820e-01,  4.15830459e-02,\n",
              "         2.10300472e-02, -3.70506348e-01,  1.49655546e+00,\n",
              "        -3.06984690e-01,  1.21752005e-01],\n",
              "       [ 7.39219008e-01,  7.00369271e-01,  2.79477468e-01,\n",
              "         3.83259898e-02, -1.36954877e+00,  4.73883506e-01,\n",
              "         6.22990037e-01,  3.24954188e-02, -1.28001179e+00,\n",
              "        -3.19315619e-01, -1.77867587e-01, -3.37670390e-01,\n",
              "         3.45242526e-01, -6.61859110e-01,  1.24921545e-03,\n",
              "         4.08273096e-01, -3.23193318e-01,  7.83014811e-01,\n",
              "        -6.76554880e-01,  1.52311273e-01,  6.63996339e-01,\n",
              "        -4.91968836e-01, -6.87415146e-01, -1.26020907e-01,\n",
              "         3.76105002e-01, -2.72936959e-01, -5.56934243e-01,\n",
              "         5.84408879e-01, -7.98845417e-01, -3.21109982e-01,\n",
              "         6.15217479e-01,  1.30554477e+00, -5.51668681e-01,\n",
              "        -1.50265845e+00,  2.46879114e-01, -7.58321102e-01,\n",
              "        -7.13350169e-02,  7.83272826e-01, -1.09662364e+00,\n",
              "         2.45686133e-01,  9.93380889e-01,  8.78243336e-01,\n",
              "         8.58953978e-01, -4.39960819e-01,  4.77764942e-02,\n",
              "        -4.11871147e-01, -3.91026445e-01,  7.31471409e-01,\n",
              "         5.81937297e-01, -5.17952335e-01],\n",
              "       [ 1.11810159e+00, -1.41202417e-01,  6.67921394e-01,\n",
              "         1.85175780e-01, -1.96680941e-01,  1.75285594e-01,\n",
              "        -9.39967643e-01,  6.64848698e-01, -4.99058492e-01,\n",
              "        -2.86282350e-01,  3.55640177e-02, -2.19169414e-01,\n",
              "        -7.08410599e-01,  6.75682511e-02, -1.98217476e-01,\n",
              "         1.41376885e+00, -1.13647594e+00,  7.88365608e-01,\n",
              "        -1.03379440e+00, -8.52429001e-02,  6.88116093e-01,\n",
              "         1.15901231e+00,  1.44027957e-02,  4.43850768e-01,\n",
              "         1.04496181e+00,  2.43057985e-01,  6.15304691e-01,\n",
              "         5.10069630e-01,  2.83705957e-01, -1.18476678e+00,\n",
              "        -1.43524177e+00,  1.87479157e+00,  2.44819642e-01,\n",
              "        -8.91283314e-01,  1.02414781e+00, -3.09955469e-01,\n",
              "         1.28884751e-01,  1.43894259e+00, -8.58145730e-01,\n",
              "        -1.10245928e-01,  2.45500821e-03,  2.23518199e-01,\n",
              "        -1.04415686e+00,  3.62814891e-01, -5.74902912e-01,\n",
              "         1.78198446e-01, -1.53294940e-01,  3.04903382e-01,\n",
              "         7.54582405e-01,  6.89035838e-01],\n",
              "       [ 9.24215076e-01, -1.07013092e+00, -4.14588665e-01,\n",
              "        -8.72111763e-01, -1.58377000e-01,  7.68253259e-01,\n",
              "        -3.75648829e-01,  2.50813197e-01, -2.37123323e-01,\n",
              "        -3.39074057e-01,  4.77602939e-01, -5.88833065e-01,\n",
              "         1.25872882e-01, -8.03707589e-01, -3.22799052e-02,\n",
              "         5.72959249e-01, -9.19297248e-01,  1.05601266e-01,\n",
              "        -1.04018172e+00,  3.36215166e-01, -1.62085409e-01,\n",
              "        -6.23053169e-01, -4.80464016e-02, -3.79107220e-02,\n",
              "         8.18799631e-02, -8.18906932e-01, -1.71647766e-02,\n",
              "         1.75706061e-01,  4.98588521e-01, -1.93542651e-01,\n",
              "         3.55106437e-01,  9.51537160e-01, -6.91495536e-02,\n",
              "        -9.01817655e-01,  6.38933006e-02, -1.21134409e+00,\n",
              "        -8.86091607e-02,  8.52731865e-01, -1.07127372e+00,\n",
              "         2.40365435e-01,  1.02696270e-01,  6.71882412e-01,\n",
              "        -7.06579620e-01,  2.88326024e-01, -2.73977678e-01,\n",
              "        -1.88249029e-01, -1.77656904e-01,  1.24518452e+00,\n",
              "         2.54333226e-01, -8.53716934e-03],\n",
              "       [ 6.64301028e-01, -4.47177585e-02, -6.88916075e-02,\n",
              "        -1.04699501e-01,  7.03232001e-02,  7.31827006e-01,\n",
              "         9.92483463e-02,  3.58465056e-01, -3.56859101e-01,\n",
              "        -7.58568088e-01, -1.39189371e-01, -2.88705941e-01,\n",
              "        -2.66434426e-01, -3.90556309e-01,  3.84824613e-01,\n",
              "        -4.79180836e-01, -5.53124383e-01,  8.60149969e-01,\n",
              "        -5.45880810e-01,  6.98425615e-01,  7.95584684e-01,\n",
              "        -2.18777336e-01, -3.80458520e-01, -2.08927222e-01,\n",
              "         4.41321780e-01, -1.77957648e-01,  1.75392600e-01,\n",
              "         4.45130242e-01, -1.00340107e-01, -7.88752965e-01,\n",
              "        -1.61759298e-01,  5.31399607e-01,  3.83461213e-01,\n",
              "        -3.62583796e-01,  1.16239700e+00, -7.70469325e-02,\n",
              "         8.20793972e-02,  6.29332309e-01, -1.08026937e-02,\n",
              "         1.91396369e-01,  4.62263626e-01,  1.15230769e-01,\n",
              "         3.65408220e-02,  1.02490319e-01,  8.99998727e-02,\n",
              "        -3.31468327e-01, -2.01140205e-01,  8.89639602e-01,\n",
              "        -1.75487674e-01,  7.67609155e-02]])"
            ]
          },
          "metadata": {
            "tags": []
          },
          "execution_count": 49
        }
      ]
    },
    {
      "cell_type": "markdown",
      "metadata": {
        "id": "I6pWtcjpaK_i",
        "colab_type": "text"
      },
      "source": [
        "Y estas serían las predicciones individuales para cada miembro del grupo"
      ]
    },
    {
      "cell_type": "code",
      "metadata": {
        "id": "4mAYpTvurtK0",
        "colab_type": "code",
        "outputId": "13e5698d-1199-4762-80ae-841a712f462f",
        "colab": {
          "base_uri": "https://localhost:8080/",
          "height": 185
        }
      },
      "source": [
        "group_individual_recommendations = group_latent_factors.dot(v.T)\n",
        "group_individual_recommendations"
      ],
      "execution_count": 50,
      "outputs": [
        {
          "output_type": "execute_result",
          "data": {
            "text/plain": [
              "array([[5.10239423, 2.22071579, 2.79964582, ..., 1.77469039, 1.53806327,\n",
              "        2.44905738],\n",
              "       [4.39270945, 3.27591223, 2.65964213, ..., 2.26642673, 2.44483001,\n",
              "        2.83610671],\n",
              "       [4.97569951, 2.57248542, 3.1092161 , ..., 1.51902206, 2.44509515,\n",
              "        4.37492714],\n",
              "       [4.50735652, 5.67135937, 2.87275592, ..., 1.00665556, 1.77858396,\n",
              "        2.81478851],\n",
              "       [3.49117767, 2.72865084, 2.80715308, ..., 1.47871212, 1.46058451,\n",
              "        2.75185813]])"
            ]
          },
          "metadata": {
            "tags": []
          },
          "execution_count": 50
        }
      ]
    },
    {
      "cell_type": "markdown",
      "metadata": {
        "id": "1cGygNrLY4CB",
        "colab_type": "text"
      },
      "source": [
        "Si ordenamos las predicciones por usuario, en base a los valores que se acaban de generar, podemos ver que cada usuario tiene diferentes preferencias. Ya que en la columna 0, que contiene la mejor película para cada usuario, todos presentan diferentes películas y lo mismo sucede para el resto de columnas"
      ]
    },
    {
      "cell_type": "code",
      "metadata": {
        "id": "JIcjquYvrtIZ",
        "colab_type": "code",
        "outputId": "167eedfb-60da-4a91-8f97-ef7ed1127494",
        "colab": {
          "base_uri": "https://localhost:8080/",
          "height": 101
        }
      },
      "source": [
        "movies_id_for_each_user_order_by_likehood = np.argsort(-group_individual_recommendations)\n",
        "movies_id_for_each_user_order_by_likehood"
      ],
      "execution_count": 51,
      "outputs": [
        {
          "output_type": "execute_result",
          "data": {
            "text/plain": [
              "array([[2027, 1916, 1230, ..., 1077, 7744, 8875],\n",
              "       [ 520, 3012,  618, ..., 7990, 8875, 8399],\n",
              "       [ 485, 3563,  992, ..., 8875, 8913, 2034],\n",
              "       [  43, 1066, 1795, ..., 7458, 9022, 8694],\n",
              "       [1796, 3191, 7396, ..., 5649, 5200, 8875]])"
            ]
          },
          "metadata": {
            "tags": []
          },
          "execution_count": 51
        }
      ]
    },
    {
      "cell_type": "markdown",
      "metadata": {
        "id": "6d8fP9kFsBnt",
        "colab_type": "text"
      },
      "source": [
        "Ahora que tenemos las recomendaciones individuales para cada uno de los elementos del grupo, procederemos a utilizar diferentes técnicas de agregación de las recomendaciones para la generación de las recomnedaciones finales para el grupo"
      ]
    },
    {
      "cell_type": "markdown",
      "metadata": {
        "id": "G_4pcXEVsD_m",
        "colab_type": "text"
      },
      "source": [
        "## Media de las recomendaciones individuales\n",
        "La primera agregación básica que podemos considerar de cara a generar las recomendaciones para el grupo, es el uso de la media de las valoraciones predichas de cada usuario para cada película y acto seguido recomendar las películas que presenten un valor más alto para la media."
      ]
    },
    {
      "cell_type": "code",
      "metadata": {
        "id": "t9IJSB8frtFx",
        "colab_type": "code",
        "outputId": "f8eeeb18-30f8-430e-cdb9-b0d9335e7913",
        "colab": {
          "base_uri": "https://localhost:8080/",
          "height": 34
        }
      },
      "source": [
        "mean_recommendations = np.mean(group_individual_recommendations, axis=0)\n",
        "mean_recommendations_indexs = np.argsort(-mean_recommendations)\n",
        "mean_recommendations_indexs "
      ],
      "execution_count": 52,
      "outputs": [
        {
          "output_type": "execute_result",
          "data": {
            "text/plain": [
              "array([ 602, 2077,  982, ..., 8399, 8694, 8875])"
            ]
          },
          "metadata": {
            "tags": []
          },
          "execution_count": 52
        }
      ]
    },
    {
      "cell_type": "markdown",
      "metadata": {
        "id": "UqDJJcRTr8y1",
        "colab_type": "text"
      },
      "source": [
        "Recupero el título de las películas que forman parte de las mejores 30 recomendaciones"
      ]
    },
    {
      "cell_type": "code",
      "metadata": {
        "id": "pO2TFNsr1ekY",
        "colab_type": "code",
        "outputId": "d74f6975-ee7d-45e0-e763-fcca69d2ec89",
        "colab": {
          "base_uri": "https://localhost:8080/",
          "height": 655
        }
      },
      "source": [
        "df_movies.loc[mean_recommendations_indexs].title[0:30]"
      ],
      "execution_count": 53,
      "outputs": [
        {
          "output_type": "stream",
          "text": [
            "/usr/local/lib/python3.6/dist-packages/ipykernel_launcher.py:1: FutureWarning: \n",
            "Passing list-likes to .loc or [] with any missing label will raise\n",
            "KeyError in the future, you can use .reindex() as an alternative.\n",
            "\n",
            "See the documentation here:\n",
            "https://pandas.pydata.org/pandas-docs/stable/indexing.html#deprecate-loc-reindex-listlike\n",
            "  \"\"\"Entry point for launching an IPython kernel.\n"
          ],
          "name": "stderr"
        },
        {
          "output_type": "execute_result",
          "data": {
            "text/plain": [
              "602     Dr. Strangelove or: How I Learned to Stop Worr...\n",
              "2077                                      Iron Giant, The\n",
              "982                                             High Noon\n",
              "1066                                          Under Siege\n",
              "520                                                 Fargo\n",
              "277                             Shawshank Redemption, The\n",
              "1043                                           Nightwatch\n",
              "2592                                                  Hud\n",
              "899                                   Princess Bride, The\n",
              "27                                             Persuasion\n",
              "898        Star Wars: Episode V - The Empire Strikes Back\n",
              "2979                                       102 Dalmatians\n",
              "224                    Star Wars: Episode IV - A New Hope\n",
              "964                                         Groundhog Day\n",
              "485                                             Tombstone\n",
              "901                                                Brazil\n",
              "510                             Silence of the Lambs, The\n",
              "974                                            Highlander\n",
              "4131                                    Maid in Manhattan\n",
              "46                                    Usual Suspects, The\n",
              "913                                        Third Man, The\n",
              "1211                            Hunt for Red October, The\n",
              "905                                          12 Angry Men\n",
              "1544                                   Lady and the Tramp\n",
              "4755                                          42nd Street\n",
              "0                                               Toy Story\n",
              "1945                                            Following\n",
              "4791                                          Cooler, The\n",
              "818                                               Bananas\n",
              "914                                            Goodfellas\n",
              "Name: title, dtype: object"
            ]
          },
          "metadata": {
            "tags": []
          },
          "execution_count": 53
        }
      ]
    },
    {
      "cell_type": "markdown",
      "metadata": {
        "id": "HirjFSqgavuW",
        "colab_type": "text"
      },
      "source": [
        "El problema de esta mecanismo de agregación es que si un usuario tiene gustos muy diferentes comparados con el resto del grupo, sus preferencias quedaran ignoradas con respecto al resto del grupo, lo que poderíamos llegar a considerar como una mala recomendación según el escenario"
      ]
    },
    {
      "cell_type": "markdown",
      "metadata": {
        "id": "tICrU5pkth6c",
        "colab_type": "text"
      },
      "source": [
        "## Multiplicación de las recomendaciones individuales\n",
        "Otra medida de agregación similar a la media y con un comportamiento similar en este caso, que altera ligeramente las recomendaciones, es la agregación de las recomendaciones indivuduales de cada película mediante la multiplicación de la valoraciones individuales de cada usuario para cada película"
      ]
    },
    {
      "cell_type": "code",
      "metadata": {
        "id": "oMygHDyutndi",
        "colab_type": "code",
        "outputId": "dbbc19aa-3f13-4339-c853-2e4527bf6535",
        "colab": {
          "base_uri": "https://localhost:8080/",
          "height": 34
        }
      },
      "source": [
        "multiply_recommendations = np.prod(group_individual_recommendations, axis=0)\n",
        "multiply_recommendations_indexs = np.argsort(-multiply_recommendations)\n",
        "multiply_recommendations_indexs "
      ],
      "execution_count": 54,
      "outputs": [
        {
          "output_type": "execute_result",
          "data": {
            "text/plain": [
              "array([ 982,  602, 2077, ..., 1144,  145, 2034])"
            ]
          },
          "metadata": {
            "tags": []
          },
          "execution_count": 54
        }
      ]
    },
    {
      "cell_type": "markdown",
      "metadata": {
        "id": "cfx9cKUAvdnK",
        "colab_type": "text"
      },
      "source": [
        "Recupero el título de las películas que forman parte de las mejores 30 recomendaciones"
      ]
    },
    {
      "cell_type": "code",
      "metadata": {
        "id": "1G84oWSvvdxD",
        "colab_type": "code",
        "outputId": "283a98e5-3651-43d6-cfe3-54b383586bd1",
        "colab": {
          "base_uri": "https://localhost:8080/",
          "height": 655
        }
      },
      "source": [
        "df_movies.loc[multiply_recommendations_indexs].title[0:30]"
      ],
      "execution_count": 55,
      "outputs": [
        {
          "output_type": "stream",
          "text": [
            "/usr/local/lib/python3.6/dist-packages/ipykernel_launcher.py:1: FutureWarning: \n",
            "Passing list-likes to .loc or [] with any missing label will raise\n",
            "KeyError in the future, you can use .reindex() as an alternative.\n",
            "\n",
            "See the documentation here:\n",
            "https://pandas.pydata.org/pandas-docs/stable/indexing.html#deprecate-loc-reindex-listlike\n",
            "  \"\"\"Entry point for launching an IPython kernel.\n"
          ],
          "name": "stderr"
        },
        {
          "output_type": "execute_result",
          "data": {
            "text/plain": [
              "982                                             High Noon\n",
              "602     Dr. Strangelove or: How I Learned to Stop Worr...\n",
              "2077                                      Iron Giant, The\n",
              "1066                                          Under Siege\n",
              "277                             Shawshank Redemption, The\n",
              "1043                                           Nightwatch\n",
              "2592                                                  Hud\n",
              "27                                             Persuasion\n",
              "898        Star Wars: Episode V - The Empire Strikes Back\n",
              "899                                   Princess Bride, The\n",
              "520                                                 Fargo\n",
              "224                    Star Wars: Episode IV - A New Hope\n",
              "964                                         Groundhog Day\n",
              "510                             Silence of the Lambs, The\n",
              "974                                            Highlander\n",
              "913                                        Third Man, The\n",
              "46                                    Usual Suspects, The\n",
              "1211                            Hunt for Red October, The\n",
              "905                                          12 Angry Men\n",
              "4131                                    Maid in Manhattan\n",
              "901                                                Brazil\n",
              "4755                                          42nd Street\n",
              "0                                               Toy Story\n",
              "2979                                       102 Dalmatians\n",
              "7396                I Killed My Mother (J'ai tué ma mère)\n",
              "1945                                            Following\n",
              "123                                             Apollo 13\n",
              "835                                       Sophie's Choice\n",
              "107                Chungking Express (Chung Hing sam lam)\n",
              "7127                                 Hunt For Gollum, The\n",
              "Name: title, dtype: object"
            ]
          },
          "metadata": {
            "tags": []
          },
          "execution_count": 55
        }
      ]
    },
    {
      "cell_type": "markdown",
      "metadata": {
        "id": "8Z_llZ_1cG1k",
        "colab_type": "text"
      },
      "source": [
        "Al igual que en el caso anterior, el problema de esta técnica de agregación vuelven a ser los usuarios que presentan gustos diferentes  a los principales del grupo. A continuación se muestran dos ejemplos de posibles agregaciones, para un grupo formado por 3 usuarios, y no queda claro si realmente sería mejor recomendar la primera película en vez de la segunda"
      ]
    },
    {
      "cell_type": "code",
      "metadata": {
        "id": "J709Ur1lcVik",
        "colab_type": "code",
        "colab": {
          "base_uri": "https://localhost:8080/",
          "height": 34
        },
        "outputId": "2dbe303d-b056-4259-c4c1-63a3f75dbb03"
      },
      "source": [
        "1*5*5"
      ],
      "execution_count": 83,
      "outputs": [
        {
          "output_type": "execute_result",
          "data": {
            "text/plain": [
              "25"
            ]
          },
          "metadata": {
            "tags": []
          },
          "execution_count": 83
        }
      ]
    },
    {
      "cell_type": "code",
      "metadata": {
        "id": "PikdIf7OcYk_",
        "colab_type": "code",
        "colab": {
          "base_uri": "https://localhost:8080/",
          "height": 34
        },
        "outputId": "e525f854-dfd0-4265-992b-8ac704ba421e"
      },
      "source": [
        "2*3*4"
      ],
      "execution_count": 86,
      "outputs": [
        {
          "output_type": "execute_result",
          "data": {
            "text/plain": [
              "24"
            ]
          },
          "metadata": {
            "tags": []
          },
          "execution_count": 86
        }
      ]
    },
    {
      "cell_type": "markdown",
      "metadata": {
        "id": "5RIuhy6Txjn-",
        "colab_type": "text"
      },
      "source": [
        "## Borda Count\n",
        "Este método de agregacón consiste en asignar puntos a las películas en función de en que posición aparecentro dentro del ranking individual de recomendaciones de cada usuario, recibiendo la primera película un número de puntos igual al número de peliculas en el ranking y recibiendo la última película del ranking 0 puntos. Finalmente se suman los puntos obtenidos por cada película y se ordenan las películas en base a estos\n"
      ]
    },
    {
      "cell_type": "code",
      "metadata": {
        "id": "FU3SZsapzYRJ",
        "colab_type": "code",
        "outputId": "bf7dc397-fa07-4f6d-b450-8958c0658121",
        "colab": {
          "base_uri": "https://localhost:8080/",
          "height": 101
        }
      },
      "source": [
        "movies_id_for_each_user_order_by_likehood"
      ],
      "execution_count": 56,
      "outputs": [
        {
          "output_type": "execute_result",
          "data": {
            "text/plain": [
              "array([[2027, 1916, 1230, ..., 1077, 7744, 8875],\n",
              "       [ 520, 3012,  618, ..., 7990, 8875, 8399],\n",
              "       [ 485, 3563,  992, ..., 8875, 8913, 2034],\n",
              "       [  43, 1066, 1795, ..., 7458, 9022, 8694],\n",
              "       [1796, 3191, 7396, ..., 5649, 5200, 8875]])"
            ]
          },
          "metadata": {
            "tags": []
          },
          "execution_count": 56
        }
      ]
    },
    {
      "cell_type": "code",
      "metadata": {
        "id": "oSlcBTEtzZT7",
        "colab_type": "code",
        "outputId": "402b540b-53ec-4045-b1f1-9f6ce39c6d68",
        "colab": {
          "base_uri": "https://localhost:8080/",
          "height": 34
        }
      },
      "source": [
        "number_of_movies = df_movies.shape[0]\n",
        "borda_rating = np.arange(1, number_of_movies+1)\n",
        "borda_rating"
      ],
      "execution_count": 57,
      "outputs": [
        {
          "output_type": "execute_result",
          "data": {
            "text/plain": [
              "array([   1,    2,    3, ..., 9727, 9728, 9729])"
            ]
          },
          "metadata": {
            "tags": []
          },
          "execution_count": 57
        }
      ]
    },
    {
      "cell_type": "code",
      "metadata": {
        "id": "R4poP6880xWS",
        "colab_type": "code",
        "outputId": "3cc670fb-31b9-4c71-f841-2857c787606c",
        "colab": {
          "base_uri": "https://localhost:8080/",
          "height": 34
        }
      },
      "source": [
        "with np.nditer(borda_rating, op_flags=['readwrite']) as it:\n",
        "  for x in it:\n",
        "    positions_inside_individual_recommendations = np.where(movies_id_for_each_user_order_by_likehood == x)[1]\n",
        "    value_by_position_inside_each_ranking = number_of_movies - positions_inside_individual_recommendations\n",
        "    x[...] = value_by_position_inside_each_ranking.sum()\n",
        "    \n",
        "borda_rating"
      ],
      "execution_count": 58,
      "outputs": [
        {
          "output_type": "execute_result",
          "data": {
            "text/plain": [
              "array([34111, 32883, 22427, ...,     0,     0,     0])"
            ]
          },
          "metadata": {
            "tags": []
          },
          "execution_count": 58
        }
      ]
    },
    {
      "cell_type": "markdown",
      "metadata": {
        "id": "jwp9JmdAZmXi",
        "colab_type": "text"
      },
      "source": [
        "Recupero el título de las películas que forman parte de las mejores 30 recomendaciones"
      ]
    },
    {
      "cell_type": "code",
      "metadata": {
        "id": "ZL80NNyo4F_p",
        "colab_type": "code",
        "outputId": "60fc181d-1ab1-44ea-a275-63a4736a0416",
        "colab": {
          "base_uri": "https://localhost:8080/",
          "height": 655
        }
      },
      "source": [
        "borda_recommendations_indexs = np.argsort(-borda_rating)\n",
        "df_movies.loc[borda_recommendations_indexs].title[0:30]"
      ],
      "execution_count": 59,
      "outputs": [
        {
          "output_type": "stream",
          "text": [
            "/usr/local/lib/python3.6/dist-packages/ipykernel_launcher.py:2: FutureWarning: \n",
            "Passing list-likes to .loc or [] with any missing label will raise\n",
            "KeyError in the future, you can use .reindex() as an alternative.\n",
            "\n",
            "See the documentation here:\n",
            "https://pandas.pydata.org/pandas-docs/stable/indexing.html#deprecate-loc-reindex-listlike\n",
            "  \n"
          ],
          "name": "stderr"
        },
        {
          "output_type": "execute_result",
          "data": {
            "text/plain": [
              "981                                           Fantasia\n",
              "2076                                              Dick\n",
              "1042                                Breaking the Waves\n",
              "1210                             187 (One Eight Seven)\n",
              "897                     Cheech and Chong's Up in Smoke\n",
              "601                                       Arrival, The\n",
              "276                                  Santa Clause, The\n",
              "7126                       Men Who Stare at Goats, The\n",
              "963                                               Diva\n",
              "4130                                    Hot Chick, The\n",
              "4754                      Hunchback of Notre Dame, The\n",
              "795                                  Secret Agent, The\n",
              "6630                                       I Am Legend\n",
              "223                                      Kiss of Death\n",
              "2591                                   Heart and Souls\n",
              "106                                          Boomerang\n",
              "996                               Pink Floyd: The Wall\n",
              "3632     Spacehunter: Adventures in the Forbidden Zone\n",
              "1420                                All the King's Men\n",
              "509                                             Batman\n",
              "912          Wings of Desire (Himmel über Berlin, Der)\n",
              "2450                              White Men Can't Jump\n",
              "1944                                         Metroland\n",
              "26                                        Now and Then\n",
              "8433                                        Maleficent\n",
              "9299                                         All Yours\n",
              "834                                Glengarry Glen Ross\n",
              "6158                                      Leprechaun 2\n",
              "898     Star Wars: Episode V - The Empire Strikes Back\n",
              "1659                                         Ring, The\n",
              "Name: title, dtype: object"
            ]
          },
          "metadata": {
            "tags": []
          },
          "execution_count": 59
        }
      ]
    },
    {
      "cell_type": "markdown",
      "metadata": {
        "id": "7hMxjJ_xxjvk",
        "colab_type": "text"
      },
      "source": [
        "## Copeland Rule\n",
        "Se calcula la valoración media de cada película y se ordenan estas en un raking, una vez ordenadas, se genera una nueva valoración para cada película en base al número de peliculas que se encuentran por debajo de cada película en el ranking, menos el número de películas que se encuentran por encima de cada película en el ranking\n",
        "\n"
      ]
    },
    {
      "cell_type": "code",
      "metadata": {
        "id": "UuAWTS5g5ode",
        "colab_type": "code",
        "outputId": "c8559cc2-e62a-4c3f-8e46-d68a457f7bb7",
        "colab": {
          "base_uri": "https://localhost:8080/",
          "height": 34
        }
      },
      "source": [
        "add_recommendations = np.mean(group_individual_recommendations, axis=0)\n",
        "index_sorted_elements = np.argsort(-add_recommendations)\n",
        "index_sorted_elements"
      ],
      "execution_count": 60,
      "outputs": [
        {
          "output_type": "execute_result",
          "data": {
            "text/plain": [
              "array([ 602, 2077,  982, ..., 8399, 8694, 8875])"
            ]
          },
          "metadata": {
            "tags": []
          },
          "execution_count": 60
        }
      ]
    },
    {
      "cell_type": "code",
      "metadata": {
        "id": "zBkLKMk_759L",
        "colab_type": "code",
        "outputId": "8249df9b-1f4c-4f95-e79a-1de6aa580f7c",
        "colab": {
          "base_uri": "https://localhost:8080/",
          "height": 34
        }
      },
      "source": [
        "copeland_values = np.arange(0, index_sorted_elements.shape[0])\n",
        "copeland_values"
      ],
      "execution_count": 61,
      "outputs": [
        {
          "output_type": "execute_result",
          "data": {
            "text/plain": [
              "array([   0,    1,    2, ..., 9721, 9722, 9723])"
            ]
          },
          "metadata": {
            "tags": []
          },
          "execution_count": 61
        }
      ]
    },
    {
      "cell_type": "code",
      "metadata": {
        "id": "oS5UU8Lw8GxL",
        "colab_type": "code",
        "outputId": "0df66203-64e4-44ba-ac49-38bf2223e7da",
        "colab": {
          "base_uri": "https://localhost:8080/",
          "height": 34
        }
      },
      "source": [
        "with np.nditer(copeland_values, op_flags=['readwrite']) as it:\n",
        "  for x in it:\n",
        "    positive = np.where(index_sorted_elements == x)[0][0]\n",
        "    x[...] = positive - (number_of_movies - positive)\n",
        "    \n",
        "copeland_values"
      ],
      "execution_count": 62,
      "outputs": [
        {
          "output_type": "execute_result",
          "data": {
            "text/plain": [
              "array([-9679, -6307, -3091, ...,  5443,  3421, -4581])"
            ]
          },
          "metadata": {
            "tags": []
          },
          "execution_count": 62
        }
      ]
    },
    {
      "cell_type": "markdown",
      "metadata": {
        "id": "p0OY6s6jZp27",
        "colab_type": "text"
      },
      "source": [
        "Recupero el título de las películas que forman parte de las mejores 30 recomendaciones"
      ]
    },
    {
      "cell_type": "code",
      "metadata": {
        "id": "3YXaKFwh8NYQ",
        "colab_type": "code",
        "outputId": "01908b7d-ee30-4dee-a392-bec135ad4f25",
        "colab": {
          "base_uri": "https://localhost:8080/",
          "height": 655
        }
      },
      "source": [
        "copeland_recommendations_indexs = np.argsort(-copeland_values)\n",
        "df_movies.loc[borda_recommendations_indexs].title[0:30]"
      ],
      "execution_count": 63,
      "outputs": [
        {
          "output_type": "stream",
          "text": [
            "/usr/local/lib/python3.6/dist-packages/ipykernel_launcher.py:2: FutureWarning: \n",
            "Passing list-likes to .loc or [] with any missing label will raise\n",
            "KeyError in the future, you can use .reindex() as an alternative.\n",
            "\n",
            "See the documentation here:\n",
            "https://pandas.pydata.org/pandas-docs/stable/indexing.html#deprecate-loc-reindex-listlike\n",
            "  \n"
          ],
          "name": "stderr"
        },
        {
          "output_type": "execute_result",
          "data": {
            "text/plain": [
              "981                                           Fantasia\n",
              "2076                                              Dick\n",
              "1042                                Breaking the Waves\n",
              "1210                             187 (One Eight Seven)\n",
              "897                     Cheech and Chong's Up in Smoke\n",
              "601                                       Arrival, The\n",
              "276                                  Santa Clause, The\n",
              "7126                       Men Who Stare at Goats, The\n",
              "963                                               Diva\n",
              "4130                                    Hot Chick, The\n",
              "4754                      Hunchback of Notre Dame, The\n",
              "795                                  Secret Agent, The\n",
              "6630                                       I Am Legend\n",
              "223                                      Kiss of Death\n",
              "2591                                   Heart and Souls\n",
              "106                                          Boomerang\n",
              "996                               Pink Floyd: The Wall\n",
              "3632     Spacehunter: Adventures in the Forbidden Zone\n",
              "1420                                All the King's Men\n",
              "509                                             Batman\n",
              "912          Wings of Desire (Himmel über Berlin, Der)\n",
              "2450                              White Men Can't Jump\n",
              "1944                                         Metroland\n",
              "26                                        Now and Then\n",
              "8433                                        Maleficent\n",
              "9299                                         All Yours\n",
              "834                                Glengarry Glen Ross\n",
              "6158                                      Leprechaun 2\n",
              "898     Star Wars: Episode V - The Empire Strikes Back\n",
              "1659                                         Ring, The\n",
              "Name: title, dtype: object"
            ]
          },
          "metadata": {
            "tags": []
          },
          "execution_count": 63
        }
      ]
    },
    {
      "cell_type": "markdown",
      "metadata": {
        "id": "T-2GmBNDxj7F",
        "colab_type": "text"
      },
      "source": [
        "##Least Misery\n",
        "Genera un raking de películas, tomando para cada película la peor valoración realizada por un miembro del grupo\n"
      ]
    },
    {
      "cell_type": "code",
      "metadata": {
        "id": "Rnm2Za8wFz8s",
        "colab_type": "code",
        "outputId": "75f6a30a-fffe-4240-84d1-45fc1b845029",
        "colab": {
          "base_uri": "https://localhost:8080/",
          "height": 34
        }
      },
      "source": [
        "least_misery_recommendations = np.amin(group_individual_recommendations, axis=0)\n",
        "least_misery_indexs = np.argsort(-least_misery_recommendations)\n",
        "least_misery_indexs "
      ],
      "execution_count": 64,
      "outputs": [
        {
          "output_type": "execute_result",
          "data": {
            "text/plain": [
              "array([ 898,  982, 1066, ..., 8875, 2034, 8399])"
            ]
          },
          "metadata": {
            "tags": []
          },
          "execution_count": 64
        }
      ]
    },
    {
      "cell_type": "markdown",
      "metadata": {
        "id": "JGS2rV1YZsuL",
        "colab_type": "text"
      },
      "source": [
        "Recupero el título de las películas que forman parte de las mejores 30 recomendaciones"
      ]
    },
    {
      "cell_type": "code",
      "metadata": {
        "id": "Zv_nctHEGUEc",
        "colab_type": "code",
        "outputId": "bf84d902-1f28-493f-f293-e07183ecf0db",
        "colab": {
          "base_uri": "https://localhost:8080/",
          "height": 655
        }
      },
      "source": [
        "df_movies.loc[least_misery_indexs].title[0:30]"
      ],
      "execution_count": 65,
      "outputs": [
        {
          "output_type": "stream",
          "text": [
            "/usr/local/lib/python3.6/dist-packages/ipykernel_launcher.py:1: FutureWarning: \n",
            "Passing list-likes to .loc or [] with any missing label will raise\n",
            "KeyError in the future, you can use .reindex() as an alternative.\n",
            "\n",
            "See the documentation here:\n",
            "https://pandas.pydata.org/pandas-docs/stable/indexing.html#deprecate-loc-reindex-listlike\n",
            "  \"\"\"Entry point for launching an IPython kernel.\n"
          ],
          "name": "stderr"
        },
        {
          "output_type": "execute_result",
          "data": {
            "text/plain": [
              "898       Star Wars: Episode V - The Empire Strikes Back\n",
              "982                                            High Noon\n",
              "1066                                         Under Siege\n",
              "4755                                         42nd Street\n",
              "27                                            Persuasion\n",
              "680                              Philadelphia Story, The\n",
              "277                            Shawshank Redemption, The\n",
              "74                              Antonia's Line (Antonia)\n",
              "107               Chungking Express (Chung Hing sam lam)\n",
              "974                                           Highlander\n",
              "7127                                Hunt For Gollum, The\n",
              "965                                           Unforgiven\n",
              "9300                                        Kill Command\n",
              "4931    Scenes From a Marriage (Scener ur ett äktenskap)\n",
              "2077                                     Iron Giant, The\n",
              "2590                                        Modern Times\n",
              "913                                       Third Man, The\n",
              "6810                   Heart of a Dog (Sobachye serdtse)\n",
              "4134                                              Evelyn\n",
              "147                                                 Kids\n",
              "123                                            Apollo 13\n",
              "2329                                    Babes in Toyland\n",
              "835                                      Sophie's Choice\n",
              "46                                   Usual Suspects, The\n",
              "1660              Lodger: A Story of the London Fog, The\n",
              "940                               Dead Alive (Braindead)\n",
              "921                                  Blues Brothers, The\n",
              "7752                                              Lifted\n",
              "905                                         12 Angry Men\n",
              "1294                                Horse Whisperer, The\n",
              "Name: title, dtype: object"
            ]
          },
          "metadata": {
            "tags": []
          },
          "execution_count": 65
        }
      ]
    },
    {
      "cell_type": "markdown",
      "metadata": {
        "id": "IfATMXPpxwjq",
        "colab_type": "text"
      },
      "source": [
        "## Most Pleasure\n",
        "Genera un raking de películas, tomando para cada película la mejor valoración realizada por un miembro del grupo\n",
        "ure\n"
      ]
    },
    {
      "cell_type": "code",
      "metadata": {
        "id": "4FHDuxvqGajy",
        "colab_type": "code",
        "outputId": "ebfcba74-7d56-4cd9-b2f1-16fbbf98f277",
        "colab": {
          "base_uri": "https://localhost:8080/",
          "height": 34
        }
      },
      "source": [
        "most_pleasure_recommendations = np.amax(group_individual_recommendations, axis=0)\n",
        "most_pleasure_indexs = np.argsort(-most_pleasure_recommendations)\n",
        "most_pleasure_indexs "
      ],
      "execution_count": 66,
      "outputs": [
        {
          "output_type": "execute_result",
          "data": {
            "text/plain": [
              "array([ 520,  485, 3563, ..., 4656, 7280, 8875])"
            ]
          },
          "metadata": {
            "tags": []
          },
          "execution_count": 66
        }
      ]
    },
    {
      "cell_type": "markdown",
      "metadata": {
        "id": "R_swjVn0ZwOt",
        "colab_type": "text"
      },
      "source": [
        "Recupero el título de las películas que forman parte de las mejores 30 recomendaciones"
      ]
    },
    {
      "cell_type": "code",
      "metadata": {
        "id": "5OyKGafKGcEi",
        "colab_type": "code",
        "outputId": "34689cda-776e-47c8-c170-b99a29713443",
        "colab": {
          "base_uri": "https://localhost:8080/",
          "height": 655
        }
      },
      "source": [
        "df_movies.loc[most_pleasure_indexs].title[0:30]"
      ],
      "execution_count": 67,
      "outputs": [
        {
          "output_type": "stream",
          "text": [
            "/usr/local/lib/python3.6/dist-packages/ipykernel_launcher.py:1: FutureWarning: \n",
            "Passing list-likes to .loc or [] with any missing label will raise\n",
            "KeyError in the future, you can use .reindex() as an alternative.\n",
            "\n",
            "See the documentation here:\n",
            "https://pandas.pydata.org/pandas-docs/stable/indexing.html#deprecate-loc-reindex-listlike\n",
            "  \"\"\"Entry point for launching an IPython kernel.\n"
          ],
          "name": "stderr"
        },
        {
          "output_type": "execute_result",
          "data": {
            "text/plain": [
              "520                                          Fargo\n",
              "485                                      Tombstone\n",
              "3563                      High Heels and Low Lifes\n",
              "3012                                  Dracula 2000\n",
              "618                   Hunchback of Notre Dame, The\n",
              "2978                   Rugrats in Paris: The Movie\n",
              "906                             Lawrence of Arabia\n",
              "992                                         Gandhi\n",
              "15                                          Casino\n",
              "311                                      Crow, The\n",
              "1231                                   Chasing Amy\n",
              "1544                            Lady and the Tramp\n",
              "1294                          Horse Whisperer, The\n",
              "2729            Puppet Master 5: The Final Chapter\n",
              "2903                                   Nurse Betty\n",
              "434                         Much Ado About Nothing\n",
              "7987                                         V/H/S\n",
              "6520                                 Evan Almighty\n",
              "43                            Seven (a.k.a. Se7en)\n",
              "5938                              Wedding Crashers\n",
              "2077                               Iron Giant, The\n",
              "8272    Blue Is the Warmest Color (La vie d'Adèle)\n",
              "2979                                102 Dalmatians\n",
              "8599                        Penguins of Madagascar\n",
              "1066                                   Under Siege\n",
              "6579                               Good Luck Chuck\n",
              "55                              Mr. Holland's Opus\n",
              "964                                  Groundhog Day\n",
              "8358                                       RoboCop\n",
              "7626                                        Bernie\n",
              "Name: title, dtype: object"
            ]
          },
          "metadata": {
            "tags": []
          },
          "execution_count": 67
        }
      ]
    },
    {
      "cell_type": "markdown",
      "metadata": {
        "id": "PSSc7hTQxws8",
        "colab_type": "text"
      },
      "source": [
        "##Average without Misery\n",
        "\n",
        "Consiste en calcular la media de las recomendaciones individuales predichas para cada usuario, ignorando todas aquellas valoraciones inferiores a un umbral que seleccionemos previamente\n"
      ]
    },
    {
      "cell_type": "code",
      "metadata": {
        "id": "8ZG7cr-YJZUs",
        "colab_type": "code",
        "outputId": "6aeeaacf-5c42-4096-e8ee-5562a1e0eaa5",
        "colab": {
          "base_uri": "https://localhost:8080/",
          "height": 101
        }
      },
      "source": [
        "average_without_misery_values = np.arange(0, index_sorted_elements.shape[0])\n",
        "\n",
        "threshold = 3\n",
        "columns = group_individual_recommendations.T\n",
        "idx = 0\n",
        "for column in columns:\n",
        "  valid = column > threshold\n",
        "  filtered = column[valid]\n",
        "  value = np.mean(filtered)\n",
        "  if (np.isnan(value)):\n",
        "    value = 0\n",
        "  average_without_misery_values[idx] = value\n",
        "  idx += 1 \n",
        "  \n",
        "average_without_misery_indexs = np.argsort(-average_without_misery_values)\n",
        "average_without_misery_indexs "
      ],
      "execution_count": 68,
      "outputs": [
        {
          "output_type": "stream",
          "text": [
            "/usr/local/lib/python3.6/dist-packages/numpy/core/fromnumeric.py:3118: RuntimeWarning: Mean of empty slice.\n",
            "  out=out, **kwargs)\n",
            "/usr/local/lib/python3.6/dist-packages/numpy/core/_methods.py:85: RuntimeWarning: invalid value encountered in double_scalars\n",
            "  ret = ret.dtype.type(ret / rcount)\n"
          ],
          "name": "stderr"
        },
        {
          "output_type": "execute_result",
          "data": {
            "text/plain": [
              "array([6522, 1548, 2979, ..., 5850,  480, 5243])"
            ]
          },
          "metadata": {
            "tags": []
          },
          "execution_count": 68
        }
      ]
    },
    {
      "cell_type": "markdown",
      "metadata": {
        "id": "3NmY8hCjZyeS",
        "colab_type": "text"
      },
      "source": [
        "Recupero el título de las películas que forman parte de las mejores 30 recomendaciones"
      ]
    },
    {
      "cell_type": "code",
      "metadata": {
        "id": "v0pHxAcdMxUl",
        "colab_type": "code",
        "outputId": "6cc1f307-0935-4f71-86f8-6e9503c191a4",
        "colab": {
          "base_uri": "https://localhost:8080/",
          "height": 655
        }
      },
      "source": [
        "df_movies.loc[average_without_misery_indexs].title[0:30]"
      ],
      "execution_count": 69,
      "outputs": [
        {
          "output_type": "stream",
          "text": [
            "/usr/local/lib/python3.6/dist-packages/ipykernel_launcher.py:1: FutureWarning: \n",
            "Passing list-likes to .loc or [] with any missing label will raise\n",
            "KeyError in the future, you can use .reindex() as an alternative.\n",
            "\n",
            "See the documentation here:\n",
            "https://pandas.pydata.org/pandas-docs/stable/indexing.html#deprecate-loc-reindex-listlike\n",
            "  \"\"\"Entry point for launching an IPython kernel.\n"
          ],
          "name": "stderr"
        },
        {
          "output_type": "execute_result",
          "data": {
            "text/plain": [
              "6522    Harry Potter and the Order of the Phoenix\n",
              "1548                                      Newsies\n",
              "2979                               102 Dalmatians\n",
              "2034                           Muppets From Space\n",
              "8532                                 Captive, The\n",
              "2044                                  Mystery Men\n",
              "1397              Buffalo '66 (a.k.a. Buffalo 66)\n",
              "485                                     Tombstone\n",
              "618                  Hunchback of Notre Dame, The\n",
              "2823                  The Golden Voyage of Sinbad\n",
              "3081                           Monster Squad, The\n",
              "520                                         Fargo\n",
              "4527                   Once Upon a Time in Mexico\n",
              "8161                                       Darkon\n",
              "2603                                    Ladyhawke\n",
              "1230                               Ice Storm, The\n",
              "992                                        Gandhi\n",
              "7594                               Mildred Pierce\n",
              "2476                                   Hanging Up\n",
              "2341                                      Shampoo\n",
              "2377                            Anna and the King\n",
              "2740                 Man with the Golden Arm, The\n",
              "3979                                      Trapped\n",
              "5163                                   Soul Plane\n",
              "15                                         Casino\n",
              "6632                 Futurama: Bender's Big Score\n",
              "6640                          My Blueberry Nights\n",
              "6608                           King of California\n",
              "1882                                  October Sky\n",
              "2274                                  Creepshow 2\n",
              "Name: title, dtype: object"
            ]
          },
          "metadata": {
            "tags": []
          },
          "execution_count": 69
        }
      ]
    },
    {
      "cell_type": "markdown",
      "metadata": {
        "id": "Sm6GOIIKrRNU",
        "colab_type": "text"
      },
      "source": [
        "## Agregación seleccionada\n",
        "\n",
        "Tras probar las diferentes técnicas para agregar las recomendaciones individuales, resulta complicado decantarse por una en concreto sin disponer de mayor información del contexto en el que se está generando la recomendación. Ya que existen incógnitas de las que no disponemos ningún tipo de recomendación, como pueden ser:\n",
        "\n",
        "- existen usuarios que puedan influenciar al resto del grupo en su valoración?\n",
        "- existen usuarios que estean dispuestos a ignorar sus preferencias por el \"bien\" del grupo?\n",
        "- que tipo de recomendación consideramos \"mejores\" para un grupo, en el caso de que sus usuarios presenten opiniones muy diferentes?\n",
        "\n",
        "Ante incógnitdas como las planteadas, la técnica de agregación **Least Misery**, parece la mejor opción a la hora de mantener contentos a todos los usuarios del grupo con la generación recomendada, pero al tratarse de una técnica que se basa en la peores de las valoraciones individuales, será complicado generar recomendaciones que resulten sorprendentes al grupo de usuarios"
      ]
    },
    {
      "cell_type": "markdown",
      "metadata": {
        "id": "T98q3eB3b-3K",
        "colab_type": "text"
      },
      "source": [
        "# Recursos consultados"
      ]
    },
    {
      "cell_type": "markdown",
      "metadata": {
        "id": "4pJdO5pmcF1z",
        "colab_type": "text"
      },
      "source": [
        "1. [Lecture 47 — Singular Value Decomposition | Stanford University](https://www.youtube.com/watch?v=P5mlg91as1c)\n",
        "2. [Understanding matrix factorization for recommendation (part 4) - algorithm implementation](http://nicolas-hug.com/blog/matrix_facto_4)\n",
        "3. Takács, G., Pilászy, I., Németh, B., & Tikk, D. (2014). Matrix factorization and neighbor based algorithms for the netflix prize problem Sugeno-Yasukawa qualitative modeling View project Matrix Factorization and Neighbor Based Algorithms for the Netflix Prize Problem General Terms. http://doi.org/10.1145/1454008.1454049\n",
        "4. J. Masthoff. Group recommender systems: combining individual models. In F. Ricci, L. Rokach, B. Shapira, and P. B. Kantor, editors, Recommender Systems Handbook, page 677. Springer US, Boston, MA, 2011. "
      ]
    }
  ]
}